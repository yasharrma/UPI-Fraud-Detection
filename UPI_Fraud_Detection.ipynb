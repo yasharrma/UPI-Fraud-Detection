{
 "cells": [
  {
   "cell_type": "markdown",
   "metadata": {
    "id": "SOKJrfLGu7nz"
   },
   "source": [
    "# UPI Fraud Detection using Machine Learning\n",
    "\n",
    "## Introduction\n",
    "\n",
    "Welcome to the project on UPI fraud detection using machine learning! In this project, we aim to develop machine learning models to detect fraudulent transactions in UPI (Unified Payments Interface) data.\n",
    "\n",
    "## Project Information\n",
    "\n",
    "### Data Source:\n",
    "The dataset used in this project is a synthetically created dataset containing 647 rows of UPI transaction data. It has been modified to include variability and patterns for fraud detection purposes.\n",
    "\n",
    "You can find the dataset here: \n",
    "\n",
    "## About the Dataset\n",
    "The dataset contains transaction data related to UPI (Unified Payments Interface) transactions. It includes various features related to transactions and fraud indicators. It includes the data for fraudulent transactions for financial year 2023 to 2024.\n",
    "\n",
    "### Features:\n",
    "- Transaction_ID: Unique identifier for each transaction.\n",
    "- Date: Date of the transaction.\n",
    "- Time: Time of the transaction.\n",
    "- Merchant_ID: Unique identifier for the merchant involved in the transaction.\n",
    "- Customer_ID: Unique identifier for the customer involved in the transaction.\n",
    "- Device_ID: Unique identifier for the device used for the transaction.\n",
    "- Transaction_Type: Type of transaction (e.g., payment, transfer, etc.).\n",
    "- Payment_Gateway: Payment gateway used for the transaction.\n",
    "- Transaction_City: City where the transaction took place.\n",
    "- Transaction_State: State where the transaction took place.\n",
    "- IP_Address: IP address associated with the transaction.\n",
    "- Transaction_Status: Status of the transaction (e.g., success, failure, etc.).\n",
    "- Device_OS: Operating system of the device used for the transaction.\n",
    "- Transaction_Frequency: Frequency of transactions for the customer.\n",
    "- Merchant_Category: Category of the merchant involved in the transaction.\n",
    "- Transaction_Channel: Channel used for the transaction (e.g., mobile app, website, etc.).\n",
    "- Transaction_Amount_Deviation: Deviation of the transaction amount from the average transaction amount.\n",
    "- Days_Since_Last_Transaction: Number of days since the last transaction.\n",
    "- Amount: Transaction amount.\n",
    "- Fraud: Indicates whether the transaction is fraudulent (1) or not (0).\n",
    "\n",
    "## Methodology\n",
    "1. Data Preprocessing: Cleaning the data, handling missing values, encoding categorical features, and scaling numerical features.\n",
    "2. Exploratory Data Analysis: Understanding the distribution of features and identifying patterns related to fraud.\n",
    "3. Feature Engineering: Creating new features or transforming existing ones to improve model performance.\n",
    "4. Model Development: Training machine learning models for fraud detection.\n",
    "5. Model Evaluation: Assessing model performance using metrics such as accuracy, precision, recall, and F1-score.\n",
    "6. Conclusion: Summarizing findings and discussing potential areas for improvement.\n",
    "\n"
   ]
  },
  {
   "cell_type": "code",
   "execution_count": 2,
   "metadata": {
    "id": "ML8GcIZRu7n1"
   },
   "outputs": [],
   "source": [
    "# Importing Libaries\n",
    "\n",
    "# import pyforest\n",
    "import pandas as pd\n",
    "import numpy as np\n",
    "import matplotlib.pyplot as plt\n",
    "import seaborn as sns\n",
    "import warnings\n",
    "warnings.filterwarnings('ignore')"
   ]
  },
  {
   "cell_type": "code",
   "execution_count": 4,
   "metadata": {
    "id": "BAx-UcURu7n3"
   },
   "outputs": [],
   "source": [
    "# Load dataset\n",
    "df =pd.read_csv(\"Transactions.csv\")"
   ]
  },
  {
   "cell_type": "code",
   "execution_count": 6,
   "metadata": {
    "colab": {
     "base_uri": "https://localhost:8080/"
    },
    "id": "0p-zYM1vu7n3",
    "outputId": "e16b1174-4b4d-46a5-cb4a-deb031f9bb83"
   },
   "outputs": [
    {
     "name": "stdout",
     "output_type": "stream",
     "text": [
      "<class 'pandas.core.frame.DataFrame'>\n",
      "RangeIndex: 647 entries, 0 to 646\n",
      "Data columns (total 20 columns):\n",
      " #   Column                        Non-Null Count  Dtype  \n",
      "---  ------                        --------------  -----  \n",
      " 0   Transaction_ID                647 non-null    object \n",
      " 1   Date                          647 non-null    object \n",
      " 2   Time                          647 non-null    object \n",
      " 3   Merchant_ID                   647 non-null    object \n",
      " 4   Customer_ID                   647 non-null    object \n",
      " 5   Device_ID                     647 non-null    object \n",
      " 6   Transaction_Type              647 non-null    object \n",
      " 7   Payment_Gateway               647 non-null    object \n",
      " 8   Transaction_City              647 non-null    object \n",
      " 9   Transaction_State             647 non-null    object \n",
      " 10  IP_Address                    647 non-null    object \n",
      " 11  Transaction_Status            647 non-null    object \n",
      " 12  Device_OS                     647 non-null    object \n",
      " 13  Transaction_Frequency         647 non-null    int64  \n",
      " 14  Merchant_Category             647 non-null    object \n",
      " 15  Transaction_Channel           647 non-null    object \n",
      " 16  Transaction_Amount_Deviation  647 non-null    float64\n",
      " 17  Days_Since_Last_Transaction   647 non-null    int64  \n",
      " 18  amount                        647 non-null    float64\n",
      " 19  fraud                         647 non-null    int64  \n",
      "dtypes: float64(2), int64(3), object(15)\n",
      "memory usage: 101.2+ KB\n"
     ]
    }
   ],
   "source": [
    "df.info()"
   ]
  },
  {
   "cell_type": "code",
   "execution_count": 9,
   "metadata": {
    "colab": {
     "base_uri": "https://localhost:8080/"
    },
    "id": "tquojG9Cu7n4",
    "outputId": "030cea80-d6bb-42c4-c2a4-5ca8989a1c02"
   },
   "outputs": [
    {
     "data": {
      "text/plain": [
       "(647, 20)"
      ]
     },
     "execution_count": 9,
     "metadata": {},
     "output_type": "execute_result"
    }
   ],
   "source": [
    "df.shape"
   ]
  },
  {
   "cell_type": "code",
   "execution_count": 11,
   "metadata": {
    "colab": {
     "base_uri": "https://localhost:8080/",
     "height": 468
    },
    "id": "LeIGuFFFu7n4",
    "outputId": "4f3a8892-7844-4c48-9444-4bea01ee27ec"
   },
   "outputs": [
    {
     "data": {
      "text/html": [
       "<div>\n",
       "<style scoped>\n",
       "    .dataframe tbody tr th:only-of-type {\n",
       "        vertical-align: middle;\n",
       "    }\n",
       "\n",
       "    .dataframe tbody tr th {\n",
       "        vertical-align: top;\n",
       "    }\n",
       "\n",
       "    .dataframe thead th {\n",
       "        text-align: right;\n",
       "    }\n",
       "</style>\n",
       "<table border=\"1\" class=\"dataframe\">\n",
       "  <thead>\n",
       "    <tr style=\"text-align: right;\">\n",
       "      <th></th>\n",
       "      <th>Transaction_ID</th>\n",
       "      <th>Date</th>\n",
       "      <th>Time</th>\n",
       "      <th>Merchant_ID</th>\n",
       "      <th>Customer_ID</th>\n",
       "      <th>Device_ID</th>\n",
       "      <th>Transaction_Type</th>\n",
       "      <th>Payment_Gateway</th>\n",
       "      <th>Transaction_City</th>\n",
       "      <th>Transaction_State</th>\n",
       "      <th>IP_Address</th>\n",
       "      <th>Transaction_Status</th>\n",
       "      <th>Device_OS</th>\n",
       "      <th>Transaction_Frequency</th>\n",
       "      <th>Merchant_Category</th>\n",
       "      <th>Transaction_Channel</th>\n",
       "      <th>Transaction_Amount_Deviation</th>\n",
       "      <th>Days_Since_Last_Transaction</th>\n",
       "      <th>amount</th>\n",
       "      <th>fraud</th>\n",
       "    </tr>\n",
       "  </thead>\n",
       "  <tbody>\n",
       "    <tr>\n",
       "      <th>0</th>\n",
       "      <td>T00022452</td>\n",
       "      <td>20/04/23</td>\n",
       "      <td>4:50:22 AM</td>\n",
       "      <td>f65a902b-2396-40cc-9593-97e103f1bc15</td>\n",
       "      <td>89aaeceb-21f5-46c8-9de3-89dde6a10a75</td>\n",
       "      <td>c1e0deb4-7c97-4178-a838-38f4a2f0b57c</td>\n",
       "      <td>Refund</td>\n",
       "      <td>SamplePay</td>\n",
       "      <td>Durgapur</td>\n",
       "      <td>Chhattisgarh</td>\n",
       "      <td>140.213.7.48</td>\n",
       "      <td>Completed</td>\n",
       "      <td>MacOS</td>\n",
       "      <td>1</td>\n",
       "      <td>Brand Vouchers and OTT</td>\n",
       "      <td>In-store</td>\n",
       "      <td>25.02</td>\n",
       "      <td>5</td>\n",
       "      <td>396.62</td>\n",
       "      <td>1</td>\n",
       "    </tr>\n",
       "    <tr>\n",
       "      <th>1</th>\n",
       "      <td>T00032233</td>\n",
       "      <td>08/08/23</td>\n",
       "      <td>8:09:21 AM</td>\n",
       "      <td>d4a5efcb-4eb6-4d3a-8132-07bb3e6e13a4</td>\n",
       "      <td>8a8962f9-e84a-4573-ab0b-187311978a21</td>\n",
       "      <td>62e14f64-b0ba-4284-889a-51ac05baf33e</td>\n",
       "      <td>Bank Transfer</td>\n",
       "      <td>SamplePay</td>\n",
       "      <td>Rajpur Sonarpur</td>\n",
       "      <td>Himachal Pradesh</td>\n",
       "      <td>184.108.177.45</td>\n",
       "      <td>Pending</td>\n",
       "      <td>Windows</td>\n",
       "      <td>30</td>\n",
       "      <td>Home delivery</td>\n",
       "      <td>Mobile</td>\n",
       "      <td>-36.64</td>\n",
       "      <td>20</td>\n",
       "      <td>121.94</td>\n",
       "      <td>1</td>\n",
       "    </tr>\n",
       "    <tr>\n",
       "      <th>2</th>\n",
       "      <td>T00037364</td>\n",
       "      <td>25/06/23</td>\n",
       "      <td>7:49:01 AM</td>\n",
       "      <td>759ad138-9473-4729-8699-3d72c7ffb983</td>\n",
       "      <td>c3f53ce6-e305-4460-a71d-93bde26043ab</td>\n",
       "      <td>4281c542-ac77-4269-b4bb-1de93ac12677</td>\n",
       "      <td>Bank Transfer</td>\n",
       "      <td>Other</td>\n",
       "      <td>New Delhi</td>\n",
       "      <td>Himachal Pradesh</td>\n",
       "      <td>16.106.248.163</td>\n",
       "      <td>Failed</td>\n",
       "      <td>Android</td>\n",
       "      <td>2</td>\n",
       "      <td>Utilities</td>\n",
       "      <td>Online</td>\n",
       "      <td>44.19</td>\n",
       "      <td>22</td>\n",
       "      <td>106.69</td>\n",
       "      <td>1</td>\n",
       "    </tr>\n",
       "    <tr>\n",
       "      <th>3</th>\n",
       "      <td>T00015924</td>\n",
       "      <td>28/01/24</td>\n",
       "      <td>5:44:12 AM</td>\n",
       "      <td>d8f561e4-bded-4ef0-bcd8-5494b2e31a94</td>\n",
       "      <td>9f0c5613-7d4c-4454-bee1-c47fbba406a1</td>\n",
       "      <td>058b6488-2469-42f2-bc7f-707921d35cad</td>\n",
       "      <td>Subscription</td>\n",
       "      <td>UPI Pay</td>\n",
       "      <td>Bharatpur</td>\n",
       "      <td>Chhattisgarh</td>\n",
       "      <td>65.245.160.212</td>\n",
       "      <td>Failed</td>\n",
       "      <td>Android</td>\n",
       "      <td>0</td>\n",
       "      <td>Purchases</td>\n",
       "      <td>Online</td>\n",
       "      <td>-54.34</td>\n",
       "      <td>28</td>\n",
       "      <td>3611.11</td>\n",
       "      <td>1</td>\n",
       "    </tr>\n",
       "    <tr>\n",
       "      <th>4</th>\n",
       "      <td>T00021805</td>\n",
       "      <td>21/06/23</td>\n",
       "      <td>9:40:59 AM</td>\n",
       "      <td>26fdd7a1-8537-4dfe-bcf7-f5a127b36682</td>\n",
       "      <td>bf9aa6d5-7d3d-43f9-8631-31336720a383</td>\n",
       "      <td>068ff12c-127a-4cfb-9899-ddde37060b28</td>\n",
       "      <td>Investment</td>\n",
       "      <td>Dummy Bank</td>\n",
       "      <td>Sagar</td>\n",
       "      <td>Mizoram</td>\n",
       "      <td>33.172.152.38</td>\n",
       "      <td>Completed</td>\n",
       "      <td>MacOS</td>\n",
       "      <td>1</td>\n",
       "      <td>Other</td>\n",
       "      <td>Online</td>\n",
       "      <td>12.38</td>\n",
       "      <td>25</td>\n",
       "      <td>374.89</td>\n",
       "      <td>1</td>\n",
       "    </tr>\n",
       "  </tbody>\n",
       "</table>\n",
       "</div>"
      ],
      "text/plain": [
       "  Transaction_ID      Date        Time                           Merchant_ID  \\\n",
       "0      T00022452  20/04/23  4:50:22 AM  f65a902b-2396-40cc-9593-97e103f1bc15   \n",
       "1      T00032233  08/08/23  8:09:21 AM  d4a5efcb-4eb6-4d3a-8132-07bb3e6e13a4   \n",
       "2      T00037364  25/06/23  7:49:01 AM  759ad138-9473-4729-8699-3d72c7ffb983   \n",
       "3      T00015924  28/01/24  5:44:12 AM  d8f561e4-bded-4ef0-bcd8-5494b2e31a94   \n",
       "4      T00021805  21/06/23  9:40:59 AM  26fdd7a1-8537-4dfe-bcf7-f5a127b36682   \n",
       "\n",
       "                            Customer_ID                             Device_ID  \\\n",
       "0  89aaeceb-21f5-46c8-9de3-89dde6a10a75  c1e0deb4-7c97-4178-a838-38f4a2f0b57c   \n",
       "1  8a8962f9-e84a-4573-ab0b-187311978a21  62e14f64-b0ba-4284-889a-51ac05baf33e   \n",
       "2  c3f53ce6-e305-4460-a71d-93bde26043ab  4281c542-ac77-4269-b4bb-1de93ac12677   \n",
       "3  9f0c5613-7d4c-4454-bee1-c47fbba406a1  058b6488-2469-42f2-bc7f-707921d35cad   \n",
       "4  bf9aa6d5-7d3d-43f9-8631-31336720a383  068ff12c-127a-4cfb-9899-ddde37060b28   \n",
       "\n",
       "  Transaction_Type Payment_Gateway Transaction_City Transaction_State  \\\n",
       "0           Refund       SamplePay         Durgapur      Chhattisgarh   \n",
       "1    Bank Transfer       SamplePay  Rajpur Sonarpur  Himachal Pradesh   \n",
       "2    Bank Transfer           Other        New Delhi  Himachal Pradesh   \n",
       "3     Subscription         UPI Pay        Bharatpur      Chhattisgarh   \n",
       "4       Investment      Dummy Bank            Sagar           Mizoram   \n",
       "\n",
       "       IP_Address Transaction_Status Device_OS  Transaction_Frequency  \\\n",
       "0    140.213.7.48          Completed     MacOS                      1   \n",
       "1  184.108.177.45            Pending   Windows                     30   \n",
       "2  16.106.248.163             Failed   Android                      2   \n",
       "3  65.245.160.212             Failed   Android                      0   \n",
       "4   33.172.152.38          Completed     MacOS                      1   \n",
       "\n",
       "        Merchant_Category Transaction_Channel  Transaction_Amount_Deviation  \\\n",
       "0  Brand Vouchers and OTT            In-store                         25.02   \n",
       "1           Home delivery              Mobile                        -36.64   \n",
       "2               Utilities              Online                         44.19   \n",
       "3               Purchases              Online                        -54.34   \n",
       "4                   Other              Online                         12.38   \n",
       "\n",
       "   Days_Since_Last_Transaction   amount  fraud  \n",
       "0                            5   396.62      1  \n",
       "1                           20   121.94      1  \n",
       "2                           22   106.69      1  \n",
       "3                           28  3611.11      1  \n",
       "4                           25   374.89      1  "
      ]
     },
     "execution_count": 11,
     "metadata": {},
     "output_type": "execute_result"
    }
   ],
   "source": [
    "df.head()"
   ]
  },
  {
   "cell_type": "markdown",
   "metadata": {
    "id": "Qol9-KDBu7n5"
   },
   "source": [
    "### DATA PREPARATION"
   ]
  },
  {
   "cell_type": "code",
   "execution_count": 14,
   "metadata": {
    "colab": {
     "base_uri": "https://localhost:8080/"
    },
    "id": "BQ_FlFVsu7n6",
    "outputId": "aeccfc8d-c4e2-4bcf-b01d-09663b301fa7"
   },
   "outputs": [
    {
     "data": {
      "text/plain": [
       "0"
      ]
     },
     "execution_count": 14,
     "metadata": {},
     "output_type": "execute_result"
    }
   ],
   "source": [
    "# Check for duplicates\n",
    "df.duplicated().sum()"
   ]
  },
  {
   "cell_type": "code",
   "execution_count": 16,
   "metadata": {
    "colab": {
     "base_uri": "https://localhost:8080/"
    },
    "id": "SrposcRdu7n6",
    "outputId": "4dcb24d8-fa05-4bc4-8462-13e851e18e68"
   },
   "outputs": [
    {
     "data": {
      "text/plain": [
       "Transaction_ID                  0\n",
       "Date                            0\n",
       "Time                            0\n",
       "Merchant_ID                     0\n",
       "Customer_ID                     0\n",
       "Device_ID                       0\n",
       "Transaction_Type                0\n",
       "Payment_Gateway                 0\n",
       "Transaction_City                0\n",
       "Transaction_State               0\n",
       "IP_Address                      0\n",
       "Transaction_Status              0\n",
       "Device_OS                       0\n",
       "Transaction_Frequency           0\n",
       "Merchant_Category               0\n",
       "Transaction_Channel             0\n",
       "Transaction_Amount_Deviation    0\n",
       "Days_Since_Last_Transaction     0\n",
       "amount                          0\n",
       "fraud                           0\n",
       "dtype: int64"
      ]
     },
     "execution_count": 16,
     "metadata": {},
     "output_type": "execute_result"
    }
   ],
   "source": [
    "# Check missing values\n",
    "df.isnull().sum()"
   ]
  },
  {
   "cell_type": "code",
   "execution_count": 18,
   "metadata": {
    "colab": {
     "base_uri": "https://localhost:8080/"
    },
    "id": "VN6utcD1u7n7",
    "outputId": "c8c11dfc-86c7-491c-bb49-99a0479f28a1"
   },
   "outputs": [
    {
     "data": {
      "text/plain": [
       "Transaction_ID                  647\n",
       "Date                            302\n",
       "Time                            641\n",
       "Merchant_ID                     647\n",
       "Customer_ID                     647\n",
       "Device_ID                       647\n",
       "Transaction_Type                  7\n",
       "Payment_Gateway                   9\n",
       "Transaction_City                281\n",
       "Transaction_State                28\n",
       "IP_Address                      647\n",
       "Transaction_Status                3\n",
       "Device_OS                         4\n",
       "Transaction_Frequency            14\n",
       "Merchant_Category                10\n",
       "Transaction_Channel               3\n",
       "Transaction_Amount_Deviation    635\n",
       "Days_Since_Last_Transaction      29\n",
       "amount                          633\n",
       "fraud                             2\n",
       "dtype: int64"
      ]
     },
     "execution_count": 18,
     "metadata": {},
     "output_type": "execute_result"
    }
   ],
   "source": [
    "# Check unique values\n",
    "df.nunique()"
   ]
  },
  {
   "cell_type": "code",
   "execution_count": 20,
   "metadata": {
    "colab": {
     "base_uri": "https://localhost:8080/"
    },
    "id": "GSlWXAq7u7n7",
    "outputId": "29b06e73-12d2-424a-dd19-2212539861e8"
   },
   "outputs": [
    {
     "name": "stdout",
     "output_type": "stream",
     "text": [
      "Unique columns with unique values:\n",
      "Index(['Transaction_ID', 'Merchant_ID', 'Customer_ID', 'Device_ID',\n",
      "       'IP_Address'],\n",
      "      dtype='object')\n"
     ]
    }
   ],
   "source": [
    "# Find unique columns with unique values\n",
    "unique_columns = df.columns[df.nunique() == len(df)]\n",
    "print(\"Unique columns with unique values:\")\n",
    "print(unique_columns)"
   ]
  },
  {
   "cell_type": "code",
   "execution_count": 22,
   "metadata": {
    "id": "q4zGF0NXu7n7"
   },
   "outputs": [],
   "source": [
    "# Droping ID columns as they do not add any value to the analysis\n",
    "df.drop(columns=['Transaction_ID', 'Merchant_ID', 'Customer_ID', 'Device_ID','IP_Address'], axis=1, inplace=True)"
   ]
  },
  {
   "cell_type": "markdown",
   "metadata": {
    "id": "FCbHQjVJu7n7"
   },
   "source": [
    "### Data Cleaning and Feature Engineering"
   ]
  },
  {
   "cell_type": "code",
   "execution_count": 25,
   "metadata": {
    "colab": {
     "base_uri": "https://localhost:8080/"
    },
    "id": "PWgq2jcsu7n8",
    "outputId": "0a615187-a9e8-430a-c2de-c7386bb94458"
   },
   "outputs": [
    {
     "data": {
      "text/plain": [
       "0    20/04/23\n",
       "1    08/08/23\n",
       "2    25/06/23\n",
       "3    28/01/24\n",
       "4    21/06/23\n",
       "Name: Date, dtype: object"
      ]
     },
     "execution_count": 25,
     "metadata": {},
     "output_type": "execute_result"
    }
   ],
   "source": [
    "# Date column\n",
    "df['Date'].head()"
   ]
  },
  {
   "cell_type": "code",
   "execution_count": 27,
   "metadata": {
    "id": "GWjBrE2wu7n8"
   },
   "outputs": [],
   "source": [
    "# Converting Date column to datetime\n",
    "df['Date']=pd.to_datetime(df['Date'],format='%d/%m/%y')"
   ]
  },
  {
   "cell_type": "code",
   "execution_count": 29,
   "metadata": {
    "id": "JHY31-FLu7n8"
   },
   "outputs": [],
   "source": [
    "# Extracting year from date\n",
    "df['Year'] = df['Date'].dt.year"
   ]
  },
  {
   "cell_type": "code",
   "execution_count": 31,
   "metadata": {
    "id": "kP4qVjrJu7n8"
   },
   "outputs": [],
   "source": [
    "# Extracting month from date\n",
    "df['Month']= df['Date'].dt.month\n",
    "\n",
    "# Now month needs to be in MMM format"
   ]
  },
  {
   "cell_type": "code",
   "execution_count": 33,
   "metadata": {
    "colab": {
     "base_uri": "https://localhost:8080/"
    },
    "id": "ECXwBbrXu7n8",
    "outputId": "90e86776-f430-40ef-8a94-e434e86f557f"
   },
   "outputs": [
    {
     "data": {
      "text/plain": [
       "Index(['Date', 'Time', 'Transaction_Type', 'Payment_Gateway',\n",
       "       'Transaction_City', 'Transaction_State', 'Transaction_Status',\n",
       "       'Device_OS', 'Transaction_Frequency', 'Merchant_Category',\n",
       "       'Transaction_Channel', 'Transaction_Amount_Deviation',\n",
       "       'Days_Since_Last_Transaction', 'amount', 'fraud', 'Year', 'Month'],\n",
       "      dtype='object')"
      ]
     },
     "execution_count": 33,
     "metadata": {},
     "output_type": "execute_result"
    }
   ],
   "source": [
    "# Checking columns\n",
    "df.columns"
   ]
  },
  {
   "cell_type": "code",
   "execution_count": 35,
   "metadata": {
    "colab": {
     "base_uri": "https://localhost:8080/",
     "height": 303
    },
    "id": "7Yh8MioPu7n8",
    "outputId": "8544f40d-e383-49be-d60f-0d99c7e5f5df"
   },
   "outputs": [
    {
     "data": {
      "text/html": [
       "<div>\n",
       "<style scoped>\n",
       "    .dataframe tbody tr th:only-of-type {\n",
       "        vertical-align: middle;\n",
       "    }\n",
       "\n",
       "    .dataframe tbody tr th {\n",
       "        vertical-align: top;\n",
       "    }\n",
       "\n",
       "    .dataframe thead th {\n",
       "        text-align: right;\n",
       "    }\n",
       "</style>\n",
       "<table border=\"1\" class=\"dataframe\">\n",
       "  <thead>\n",
       "    <tr style=\"text-align: right;\">\n",
       "      <th></th>\n",
       "      <th>Date</th>\n",
       "      <th>Time</th>\n",
       "      <th>Transaction_Type</th>\n",
       "      <th>Payment_Gateway</th>\n",
       "      <th>Transaction_City</th>\n",
       "      <th>Transaction_State</th>\n",
       "      <th>Transaction_Status</th>\n",
       "      <th>Device_OS</th>\n",
       "      <th>Transaction_Frequency</th>\n",
       "      <th>Merchant_Category</th>\n",
       "      <th>Transaction_Channel</th>\n",
       "      <th>Transaction_Amount_Deviation</th>\n",
       "      <th>Days_Since_Last_Transaction</th>\n",
       "      <th>amount</th>\n",
       "      <th>fraud</th>\n",
       "      <th>Year</th>\n",
       "      <th>Month</th>\n",
       "    </tr>\n",
       "  </thead>\n",
       "  <tbody>\n",
       "    <tr>\n",
       "      <th>0</th>\n",
       "      <td>2023-04-20</td>\n",
       "      <td>4:50:22 AM</td>\n",
       "      <td>Refund</td>\n",
       "      <td>SamplePay</td>\n",
       "      <td>Durgapur</td>\n",
       "      <td>Chhattisgarh</td>\n",
       "      <td>Completed</td>\n",
       "      <td>MacOS</td>\n",
       "      <td>1</td>\n",
       "      <td>Brand Vouchers and OTT</td>\n",
       "      <td>In-store</td>\n",
       "      <td>25.02</td>\n",
       "      <td>5</td>\n",
       "      <td>396.62</td>\n",
       "      <td>1</td>\n",
       "      <td>2023</td>\n",
       "      <td>4</td>\n",
       "    </tr>\n",
       "    <tr>\n",
       "      <th>1</th>\n",
       "      <td>2023-08-08</td>\n",
       "      <td>8:09:21 AM</td>\n",
       "      <td>Bank Transfer</td>\n",
       "      <td>SamplePay</td>\n",
       "      <td>Rajpur Sonarpur</td>\n",
       "      <td>Himachal Pradesh</td>\n",
       "      <td>Pending</td>\n",
       "      <td>Windows</td>\n",
       "      <td>30</td>\n",
       "      <td>Home delivery</td>\n",
       "      <td>Mobile</td>\n",
       "      <td>-36.64</td>\n",
       "      <td>20</td>\n",
       "      <td>121.94</td>\n",
       "      <td>1</td>\n",
       "      <td>2023</td>\n",
       "      <td>8</td>\n",
       "    </tr>\n",
       "    <tr>\n",
       "      <th>2</th>\n",
       "      <td>2023-06-25</td>\n",
       "      <td>7:49:01 AM</td>\n",
       "      <td>Bank Transfer</td>\n",
       "      <td>Other</td>\n",
       "      <td>New Delhi</td>\n",
       "      <td>Himachal Pradesh</td>\n",
       "      <td>Failed</td>\n",
       "      <td>Android</td>\n",
       "      <td>2</td>\n",
       "      <td>Utilities</td>\n",
       "      <td>Online</td>\n",
       "      <td>44.19</td>\n",
       "      <td>22</td>\n",
       "      <td>106.69</td>\n",
       "      <td>1</td>\n",
       "      <td>2023</td>\n",
       "      <td>6</td>\n",
       "    </tr>\n",
       "    <tr>\n",
       "      <th>3</th>\n",
       "      <td>2024-01-28</td>\n",
       "      <td>5:44:12 AM</td>\n",
       "      <td>Subscription</td>\n",
       "      <td>UPI Pay</td>\n",
       "      <td>Bharatpur</td>\n",
       "      <td>Chhattisgarh</td>\n",
       "      <td>Failed</td>\n",
       "      <td>Android</td>\n",
       "      <td>0</td>\n",
       "      <td>Purchases</td>\n",
       "      <td>Online</td>\n",
       "      <td>-54.34</td>\n",
       "      <td>28</td>\n",
       "      <td>3611.11</td>\n",
       "      <td>1</td>\n",
       "      <td>2024</td>\n",
       "      <td>1</td>\n",
       "    </tr>\n",
       "    <tr>\n",
       "      <th>4</th>\n",
       "      <td>2023-06-21</td>\n",
       "      <td>9:40:59 AM</td>\n",
       "      <td>Investment</td>\n",
       "      <td>Dummy Bank</td>\n",
       "      <td>Sagar</td>\n",
       "      <td>Mizoram</td>\n",
       "      <td>Completed</td>\n",
       "      <td>MacOS</td>\n",
       "      <td>1</td>\n",
       "      <td>Other</td>\n",
       "      <td>Online</td>\n",
       "      <td>12.38</td>\n",
       "      <td>25</td>\n",
       "      <td>374.89</td>\n",
       "      <td>1</td>\n",
       "      <td>2023</td>\n",
       "      <td>6</td>\n",
       "    </tr>\n",
       "  </tbody>\n",
       "</table>\n",
       "</div>"
      ],
      "text/plain": [
       "        Date        Time Transaction_Type Payment_Gateway Transaction_City  \\\n",
       "0 2023-04-20  4:50:22 AM           Refund       SamplePay         Durgapur   \n",
       "1 2023-08-08  8:09:21 AM    Bank Transfer       SamplePay  Rajpur Sonarpur   \n",
       "2 2023-06-25  7:49:01 AM    Bank Transfer           Other        New Delhi   \n",
       "3 2024-01-28  5:44:12 AM     Subscription         UPI Pay        Bharatpur   \n",
       "4 2023-06-21  9:40:59 AM       Investment      Dummy Bank            Sagar   \n",
       "\n",
       "  Transaction_State Transaction_Status Device_OS  Transaction_Frequency  \\\n",
       "0      Chhattisgarh          Completed     MacOS                      1   \n",
       "1  Himachal Pradesh            Pending   Windows                     30   \n",
       "2  Himachal Pradesh             Failed   Android                      2   \n",
       "3      Chhattisgarh             Failed   Android                      0   \n",
       "4           Mizoram          Completed     MacOS                      1   \n",
       "\n",
       "        Merchant_Category Transaction_Channel  Transaction_Amount_Deviation  \\\n",
       "0  Brand Vouchers and OTT            In-store                         25.02   \n",
       "1           Home delivery              Mobile                        -36.64   \n",
       "2               Utilities              Online                         44.19   \n",
       "3               Purchases              Online                        -54.34   \n",
       "4                   Other              Online                         12.38   \n",
       "\n",
       "   Days_Since_Last_Transaction   amount  fraud  Year  Month  \n",
       "0                            5   396.62      1  2023      4  \n",
       "1                           20   121.94      1  2023      8  \n",
       "2                           22   106.69      1  2023      6  \n",
       "3                           28  3611.11      1  2024      1  \n",
       "4                           25   374.89      1  2023      6  "
      ]
     },
     "execution_count": 35,
     "metadata": {},
     "output_type": "execute_result"
    }
   ],
   "source": [
    "# First 5 rows\n",
    "df.head()"
   ]
  },
  {
   "cell_type": "code",
   "execution_count": 37,
   "metadata": {
    "colab": {
     "base_uri": "https://localhost:8080/"
    },
    "id": "rCZuMmLUu7n9",
    "outputId": "36c97112-9250-4395-a11a-05be7f323413"
   },
   "outputs": [
    {
     "data": {
      "text/plain": [
       "array([ 1,  2,  3,  4,  5,  6,  7,  8,  9, 10, 11, 12])"
      ]
     },
     "execution_count": 37,
     "metadata": {},
     "output_type": "execute_result"
    }
   ],
   "source": [
    "# Checking the unique values in the month column\n",
    "df['Month'].sort_values(ascending=True).unique()"
   ]
  },
  {
   "cell_type": "code",
   "execution_count": 39,
   "metadata": {
    "id": "OEAo5DEnu7n9"
   },
   "outputs": [],
   "source": [
    "# Assigning Names to the months for better readability\n",
    "\n",
    "months = {\n",
    "    1:'Jan',\n",
    "    2:'Feb',\n",
    "    3:'Mar',\n",
    "    4:'Apr',\n",
    "    5:'May',\n",
    "    6:'Jun',\n",
    "    7:'Jul',\n",
    "    8:'Aug',\n",
    "    9:'Sep',\n",
    "    10:'Oct',\n",
    "    11:'Nov',\n",
    "    12:'Dec'\n",
    "}"
   ]
  },
  {
   "cell_type": "code",
   "execution_count": 41,
   "metadata": {
    "id": "B7nFZqIWu7n9"
   },
   "outputs": [],
   "source": [
    "# Map the 'Month' column values to their corresponding month names\n",
    "df['Month'] = df['Month'].map(months)\n"
   ]
  },
  {
   "cell_type": "code",
   "execution_count": 43,
   "metadata": {
    "colab": {
     "base_uri": "https://localhost:8080/",
     "height": 294
    },
    "id": "83q_TqIeu7n9",
    "outputId": "f7b2f0c2-5fc7-4d83-e3f2-60514429de56"
   },
   "outputs": [
    {
     "name": "stdout",
     "output_type": "stream",
     "text": [
      "Descriptive statistics for numerical variables:\n"
     ]
    },
    {
     "data": {
      "text/html": [
       "<div>\n",
       "<style scoped>\n",
       "    .dataframe tbody tr th:only-of-type {\n",
       "        vertical-align: middle;\n",
       "    }\n",
       "\n",
       "    .dataframe tbody tr th {\n",
       "        vertical-align: top;\n",
       "    }\n",
       "\n",
       "    .dataframe thead th {\n",
       "        text-align: right;\n",
       "    }\n",
       "</style>\n",
       "<table border=\"1\" class=\"dataframe\">\n",
       "  <thead>\n",
       "    <tr style=\"text-align: right;\">\n",
       "      <th></th>\n",
       "      <th>count</th>\n",
       "      <th>mean</th>\n",
       "      <th>min</th>\n",
       "      <th>25%</th>\n",
       "      <th>50%</th>\n",
       "      <th>75%</th>\n",
       "      <th>max</th>\n",
       "      <th>std</th>\n",
       "    </tr>\n",
       "  </thead>\n",
       "  <tbody>\n",
       "    <tr>\n",
       "      <th>Date</th>\n",
       "      <td>647</td>\n",
       "      <td>2023-10-14 17:32:44.142194944</td>\n",
       "      <td>2023-04-14 00:00:00</td>\n",
       "      <td>2023-07-22 00:00:00</td>\n",
       "      <td>2023-10-15 00:00:00</td>\n",
       "      <td>2024-01-09 00:00:00</td>\n",
       "      <td>2024-04-11 00:00:00</td>\n",
       "      <td>NaN</td>\n",
       "    </tr>\n",
       "    <tr>\n",
       "      <th>Transaction_Frequency</th>\n",
       "      <td>647.0</td>\n",
       "      <td>3.564142</td>\n",
       "      <td>0.0</td>\n",
       "      <td>1.0</td>\n",
       "      <td>2.0</td>\n",
       "      <td>3.0</td>\n",
       "      <td>50.0</td>\n",
       "      <td>6.454543</td>\n",
       "    </tr>\n",
       "    <tr>\n",
       "      <th>Transaction_Amount_Deviation</th>\n",
       "      <td>647.0</td>\n",
       "      <td>5.014668</td>\n",
       "      <td>-99.47</td>\n",
       "      <td>-42.355</td>\n",
       "      <td>8.38</td>\n",
       "      <td>52.29</td>\n",
       "      <td>99.45</td>\n",
       "      <td>56.375914</td>\n",
       "    </tr>\n",
       "    <tr>\n",
       "      <th>Days_Since_Last_Transaction</th>\n",
       "      <td>647.0</td>\n",
       "      <td>15.717156</td>\n",
       "      <td>1.0</td>\n",
       "      <td>8.5</td>\n",
       "      <td>16.0</td>\n",
       "      <td>23.0</td>\n",
       "      <td>29.0</td>\n",
       "      <td>8.218122</td>\n",
       "    </tr>\n",
       "    <tr>\n",
       "      <th>amount</th>\n",
       "      <td>647.0</td>\n",
       "      <td>128.839753</td>\n",
       "      <td>0.12</td>\n",
       "      <td>17.155</td>\n",
       "      <td>35.0</td>\n",
       "      <td>74.77</td>\n",
       "      <td>4883.62</td>\n",
       "      <td>364.995747</td>\n",
       "    </tr>\n",
       "    <tr>\n",
       "      <th>fraud</th>\n",
       "      <td>647.0</td>\n",
       "      <td>0.239567</td>\n",
       "      <td>0.0</td>\n",
       "      <td>0.0</td>\n",
       "      <td>0.0</td>\n",
       "      <td>0.0</td>\n",
       "      <td>1.0</td>\n",
       "      <td>0.42715</td>\n",
       "    </tr>\n",
       "    <tr>\n",
       "      <th>Year</th>\n",
       "      <td>647.0</td>\n",
       "      <td>2023.281298</td>\n",
       "      <td>2023.0</td>\n",
       "      <td>2023.0</td>\n",
       "      <td>2023.0</td>\n",
       "      <td>2024.0</td>\n",
       "      <td>2024.0</td>\n",
       "      <td>0.449981</td>\n",
       "    </tr>\n",
       "  </tbody>\n",
       "</table>\n",
       "</div>"
      ],
      "text/plain": [
       "                              count                           mean  \\\n",
       "Date                            647  2023-10-14 17:32:44.142194944   \n",
       "Transaction_Frequency         647.0                       3.564142   \n",
       "Transaction_Amount_Deviation  647.0                       5.014668   \n",
       "Days_Since_Last_Transaction   647.0                      15.717156   \n",
       "amount                        647.0                     128.839753   \n",
       "fraud                         647.0                       0.239567   \n",
       "Year                          647.0                    2023.281298   \n",
       "\n",
       "                                              min                  25%  \\\n",
       "Date                          2023-04-14 00:00:00  2023-07-22 00:00:00   \n",
       "Transaction_Frequency                         0.0                  1.0   \n",
       "Transaction_Amount_Deviation               -99.47              -42.355   \n",
       "Days_Since_Last_Transaction                   1.0                  8.5   \n",
       "amount                                       0.12               17.155   \n",
       "fraud                                         0.0                  0.0   \n",
       "Year                                       2023.0               2023.0   \n",
       "\n",
       "                                              50%                  75%  \\\n",
       "Date                          2023-10-15 00:00:00  2024-01-09 00:00:00   \n",
       "Transaction_Frequency                         2.0                  3.0   \n",
       "Transaction_Amount_Deviation                 8.38                52.29   \n",
       "Days_Since_Last_Transaction                  16.0                 23.0   \n",
       "amount                                       35.0                74.77   \n",
       "fraud                                         0.0                  0.0   \n",
       "Year                                       2023.0               2024.0   \n",
       "\n",
       "                                              max         std  \n",
       "Date                          2024-04-11 00:00:00         NaN  \n",
       "Transaction_Frequency                        50.0    6.454543  \n",
       "Transaction_Amount_Deviation                99.45   56.375914  \n",
       "Days_Since_Last_Transaction                  29.0    8.218122  \n",
       "amount                                    4883.62  364.995747  \n",
       "fraud                                         1.0     0.42715  \n",
       "Year                                       2024.0    0.449981  "
      ]
     },
     "execution_count": 43,
     "metadata": {},
     "output_type": "execute_result"
    }
   ],
   "source": [
    "# Descriptive statistics for numerical variables\n",
    "numerical_stats = df.describe().T\n",
    "print(\"Descriptive statistics for numerical variables:\")\n",
    "numerical_stats"
   ]
  },
  {
   "cell_type": "code",
   "execution_count": 46,
   "metadata": {
    "colab": {
     "base_uri": "https://localhost:8080/"
    },
    "id": "SRcIcBvVu7n-",
    "outputId": "05b8fde6-3903-47e1-c05a-c99077132a6e"
   },
   "outputs": [
    {
     "data": {
      "text/plain": [
       "fraud\n",
       "0    76.043277\n",
       "1    23.956723\n",
       "Name: proportion, dtype: float64"
      ]
     },
     "execution_count": 46,
     "metadata": {},
     "output_type": "execute_result"
    }
   ],
   "source": [
    "# Distribution of target variable\n",
    "df['fraud'].value_counts(normalize=True)*100"
   ]
  },
  {
   "cell_type": "code",
   "execution_count": 48,
   "metadata": {
    "colab": {
     "base_uri": "https://localhost:8080/",
     "height": 464
    },
    "id": "aYMohYkRu7n-",
    "outputId": "607372d3-4762-41b1-a8b1-2e13946e391c"
   },
   "outputs": [
    {
     "data": {
      "text/plain": [
       "<Axes: xlabel='fraud', ylabel='count'>"
      ]
     },
     "execution_count": 48,
     "metadata": {},
     "output_type": "execute_result"
    },
    {
     "data": {
      "image/png": "[encoded data removed]",
      "text/plain": [
       "<Figure size 640x480 with 1 Axes>"
      ]
     },
     "metadata": {},
     "output_type": "display_data"
    }
   ],
   "source": [
    "# Distribution of target variable\n",
    "sns.countplot(x='fraud', data=df,color='lightpink', label= 'fraud')"
   ]
  },
  {
   "cell_type": "markdown",
   "metadata": {
    "id": "PGeVXt3gu7n-"
   },
   "source": [
    "###  Create separate DataFrames for normal and fraudulent transactions\n"
   ]
  },
  {
   "cell_type": "code",
   "execution_count": 51,
   "metadata": {
    "id": "OqUOnoupu7n-"
   },
   "outputs": [],
   "source": [
    "# Create separate DataFrames for normal and fraudulent transactions\n",
    "normal = df[df['fraud'] == 0]\n",
    "fraud = df[df['fraud'] == 1]"
   ]
  },
  {
   "cell_type": "code",
   "execution_count": 53,
   "metadata": {
    "colab": {
     "base_uri": "https://localhost:8080/"
    },
    "id": "YQQ4lRFpu7n-",
    "outputId": "d64bbb3a-3561-4af2-be03-9ed29cc9746b"
   },
   "outputs": [
    {
     "data": {
      "text/plain": [
       "(155, 17)"
      ]
     },
     "execution_count": 53,
     "metadata": {},
     "output_type": "execute_result"
    }
   ],
   "source": [
    "fraud.shape"
   ]
  },
  {
   "cell_type": "code",
   "execution_count": 55,
   "metadata": {
    "colab": {
     "base_uri": "https://localhost:8080/",
     "height": 303
    },
    "id": "krNHa6hPu7n-",
    "outputId": "e726e622-ebdd-4568-d5e9-039b03e66241"
   },
   "outputs": [
    {
     "data": {
      "text/html": [
       "<div>\n",
       "<style scoped>\n",
       "    .dataframe tbody tr th:only-of-type {\n",
       "        vertical-align: middle;\n",
       "    }\n",
       "\n",
       "    .dataframe tbody tr th {\n",
       "        vertical-align: top;\n",
       "    }\n",
       "\n",
       "    .dataframe thead th {\n",
       "        text-align: right;\n",
       "    }\n",
       "</style>\n",
       "<table border=\"1\" class=\"dataframe\">\n",
       "  <thead>\n",
       "    <tr style=\"text-align: right;\">\n",
       "      <th></th>\n",
       "      <th>Date</th>\n",
       "      <th>Time</th>\n",
       "      <th>Transaction_Type</th>\n",
       "      <th>Payment_Gateway</th>\n",
       "      <th>Transaction_City</th>\n",
       "      <th>Transaction_State</th>\n",
       "      <th>Transaction_Status</th>\n",
       "      <th>Device_OS</th>\n",
       "      <th>Transaction_Frequency</th>\n",
       "      <th>Merchant_Category</th>\n",
       "      <th>Transaction_Channel</th>\n",
       "      <th>Transaction_Amount_Deviation</th>\n",
       "      <th>Days_Since_Last_Transaction</th>\n",
       "      <th>amount</th>\n",
       "      <th>fraud</th>\n",
       "      <th>Year</th>\n",
       "      <th>Month</th>\n",
       "    </tr>\n",
       "  </thead>\n",
       "  <tbody>\n",
       "    <tr>\n",
       "      <th>0</th>\n",
       "      <td>2023-04-20</td>\n",
       "      <td>4:50:22 AM</td>\n",
       "      <td>Refund</td>\n",
       "      <td>SamplePay</td>\n",
       "      <td>Durgapur</td>\n",
       "      <td>Chhattisgarh</td>\n",
       "      <td>Completed</td>\n",
       "      <td>MacOS</td>\n",
       "      <td>1</td>\n",
       "      <td>Brand Vouchers and OTT</td>\n",
       "      <td>In-store</td>\n",
       "      <td>25.02</td>\n",
       "      <td>5</td>\n",
       "      <td>396.62</td>\n",
       "      <td>1</td>\n",
       "      <td>2023</td>\n",
       "      <td>Apr</td>\n",
       "    </tr>\n",
       "    <tr>\n",
       "      <th>1</th>\n",
       "      <td>2023-08-08</td>\n",
       "      <td>8:09:21 AM</td>\n",
       "      <td>Bank Transfer</td>\n",
       "      <td>SamplePay</td>\n",
       "      <td>Rajpur Sonarpur</td>\n",
       "      <td>Himachal Pradesh</td>\n",
       "      <td>Pending</td>\n",
       "      <td>Windows</td>\n",
       "      <td>30</td>\n",
       "      <td>Home delivery</td>\n",
       "      <td>Mobile</td>\n",
       "      <td>-36.64</td>\n",
       "      <td>20</td>\n",
       "      <td>121.94</td>\n",
       "      <td>1</td>\n",
       "      <td>2023</td>\n",
       "      <td>Aug</td>\n",
       "    </tr>\n",
       "    <tr>\n",
       "      <th>2</th>\n",
       "      <td>2023-06-25</td>\n",
       "      <td>7:49:01 AM</td>\n",
       "      <td>Bank Transfer</td>\n",
       "      <td>Other</td>\n",
       "      <td>New Delhi</td>\n",
       "      <td>Himachal Pradesh</td>\n",
       "      <td>Failed</td>\n",
       "      <td>Android</td>\n",
       "      <td>2</td>\n",
       "      <td>Utilities</td>\n",
       "      <td>Online</td>\n",
       "      <td>44.19</td>\n",
       "      <td>22</td>\n",
       "      <td>106.69</td>\n",
       "      <td>1</td>\n",
       "      <td>2023</td>\n",
       "      <td>Jun</td>\n",
       "    </tr>\n",
       "    <tr>\n",
       "      <th>3</th>\n",
       "      <td>2024-01-28</td>\n",
       "      <td>5:44:12 AM</td>\n",
       "      <td>Subscription</td>\n",
       "      <td>UPI Pay</td>\n",
       "      <td>Bharatpur</td>\n",
       "      <td>Chhattisgarh</td>\n",
       "      <td>Failed</td>\n",
       "      <td>Android</td>\n",
       "      <td>0</td>\n",
       "      <td>Purchases</td>\n",
       "      <td>Online</td>\n",
       "      <td>-54.34</td>\n",
       "      <td>28</td>\n",
       "      <td>3611.11</td>\n",
       "      <td>1</td>\n",
       "      <td>2024</td>\n",
       "      <td>Jan</td>\n",
       "    </tr>\n",
       "    <tr>\n",
       "      <th>4</th>\n",
       "      <td>2023-06-21</td>\n",
       "      <td>9:40:59 AM</td>\n",
       "      <td>Investment</td>\n",
       "      <td>Dummy Bank</td>\n",
       "      <td>Sagar</td>\n",
       "      <td>Mizoram</td>\n",
       "      <td>Completed</td>\n",
       "      <td>MacOS</td>\n",
       "      <td>1</td>\n",
       "      <td>Other</td>\n",
       "      <td>Online</td>\n",
       "      <td>12.38</td>\n",
       "      <td>25</td>\n",
       "      <td>374.89</td>\n",
       "      <td>1</td>\n",
       "      <td>2023</td>\n",
       "      <td>Jun</td>\n",
       "    </tr>\n",
       "  </tbody>\n",
       "</table>\n",
       "</div>"
      ],
      "text/plain": [
       "        Date        Time Transaction_Type Payment_Gateway Transaction_City  \\\n",
       "0 2023-04-20  4:50:22 AM           Refund       SamplePay         Durgapur   \n",
       "1 2023-08-08  8:09:21 AM    Bank Transfer       SamplePay  Rajpur Sonarpur   \n",
       "2 2023-06-25  7:49:01 AM    Bank Transfer           Other        New Delhi   \n",
       "3 2024-01-28  5:44:12 AM     Subscription         UPI Pay        Bharatpur   \n",
       "4 2023-06-21  9:40:59 AM       Investment      Dummy Bank            Sagar   \n",
       "\n",
       "  Transaction_State Transaction_Status Device_OS  Transaction_Frequency  \\\n",
       "0      Chhattisgarh          Completed     MacOS                      1   \n",
       "1  Himachal Pradesh            Pending   Windows                     30   \n",
       "2  Himachal Pradesh             Failed   Android                      2   \n",
       "3      Chhattisgarh             Failed   Android                      0   \n",
       "4           Mizoram          Completed     MacOS                      1   \n",
       "\n",
       "        Merchant_Category Transaction_Channel  Transaction_Amount_Deviation  \\\n",
       "0  Brand Vouchers and OTT            In-store                         25.02   \n",
       "1           Home delivery              Mobile                        -36.64   \n",
       "2               Utilities              Online                         44.19   \n",
       "3               Purchases              Online                        -54.34   \n",
       "4                   Other              Online                         12.38   \n",
       "\n",
       "   Days_Since_Last_Transaction   amount  fraud  Year Month  \n",
       "0                            5   396.62      1  2023   Apr  \n",
       "1                           20   121.94      1  2023   Aug  \n",
       "2                           22   106.69      1  2023   Jun  \n",
       "3                           28  3611.11      1  2024   Jan  \n",
       "4                           25   374.89      1  2023   Jun  "
      ]
     },
     "execution_count": 55,
     "metadata": {},
     "output_type": "execute_result"
    }
   ],
   "source": [
    "# Check the fraud DataFrame\n",
    "fraud.head()"
   ]
  },
  {
   "cell_type": "code",
   "execution_count": 57,
   "metadata": {
    "colab": {
     "base_uri": "https://localhost:8080/"
    },
    "id": "iTWciiwYu7n-",
    "outputId": "d69717c9-00ec-427d-8047-a62a2d8a0cdb"
   },
   "outputs": [
    {
     "data": {
      "text/plain": [
       "Date                            datetime64[ns]\n",
       "Time                                    object\n",
       "Transaction_Type                        object\n",
       "Payment_Gateway                         object\n",
       "Transaction_City                        object\n",
       "Transaction_State                       object\n",
       "Transaction_Status                      object\n",
       "Device_OS                               object\n",
       "Transaction_Frequency                    int64\n",
       "Merchant_Category                       object\n",
       "Transaction_Channel                     object\n",
       "Transaction_Amount_Deviation           float64\n",
       "Days_Since_Last_Transaction              int64\n",
       "amount                                 float64\n",
       "fraud                                    int64\n",
       "Year                                     int32\n",
       "Month                                   object\n",
       "dtype: object"
      ]
     },
     "execution_count": 57,
     "metadata": {},
     "output_type": "execute_result"
    }
   ],
   "source": [
    "fraud.dtypes"
   ]
  },
  {
   "cell_type": "code",
   "execution_count": 59,
   "metadata": {
    "id": "LUVJ-MYuu7n-"
   },
   "outputs": [],
   "source": [
    "fraud['Date'] = fraud['Date'].astype(object)\n",
    "df['Date'] = df['Date'].astype(object)\n"
   ]
  },
  {
   "cell_type": "code",
   "execution_count": 61,
   "metadata": {
    "colab": {
     "base_uri": "https://localhost:8080/"
    },
    "id": "Qh7eVVqNu7n_",
    "outputId": "1568d326-4ceb-40e7-ee35-ee460551ca29"
   },
   "outputs": [
    {
     "data": {
      "text/plain": [
       "Date                             object\n",
       "Time                             object\n",
       "Transaction_Type                 object\n",
       "Payment_Gateway                  object\n",
       "Transaction_City                 object\n",
       "Transaction_State                object\n",
       "Transaction_Status               object\n",
       "Device_OS                        object\n",
       "Transaction_Frequency             int64\n",
       "Merchant_Category                object\n",
       "Transaction_Channel              object\n",
       "Transaction_Amount_Deviation    float64\n",
       "Days_Since_Last_Transaction       int64\n",
       "amount                          float64\n",
       "fraud                             int64\n",
       "Year                              int32\n",
       "Month                            object\n",
       "dtype: object"
      ]
     },
     "execution_count": 61,
     "metadata": {},
     "output_type": "execute_result"
    }
   ],
   "source": [
    "fraud.dtypes"
   ]
  },
  {
   "cell_type": "markdown",
   "metadata": {
    "id": "t06yMXXpu7n_"
   },
   "source": [
    "### Analysis for fraud"
   ]
  },
  {
   "cell_type": "code",
   "execution_count": 64,
   "metadata": {
    "colab": {
     "base_uri": "https://localhost:8080/",
     "height": 231
    },
    "id": "qZaneS0hu7n_",
    "outputId": "6958a787-20dc-4592-d50c-ae59fad4b3b0"
   },
   "outputs": [
    {
     "data": {
      "text/html": [
       "<div>\n",
       "<style scoped>\n",
       "    .dataframe tbody tr th:only-of-type {\n",
       "        vertical-align: middle;\n",
       "    }\n",
       "\n",
       "    .dataframe tbody tr th {\n",
       "        vertical-align: top;\n",
       "    }\n",
       "\n",
       "    .dataframe thead th {\n",
       "        text-align: right;\n",
       "    }\n",
       "</style>\n",
       "<table border=\"1\" class=\"dataframe\">\n",
       "  <thead>\n",
       "    <tr style=\"text-align: right;\">\n",
       "      <th></th>\n",
       "      <th>count</th>\n",
       "      <th>mean</th>\n",
       "      <th>std</th>\n",
       "      <th>min</th>\n",
       "      <th>25%</th>\n",
       "      <th>50%</th>\n",
       "      <th>75%</th>\n",
       "      <th>max</th>\n",
       "    </tr>\n",
       "  </thead>\n",
       "  <tbody>\n",
       "    <tr>\n",
       "      <th>Transaction_Frequency</th>\n",
       "      <td>155.0</td>\n",
       "      <td>4.116129</td>\n",
       "      <td>8.139973</td>\n",
       "      <td>0.00</td>\n",
       "      <td>1.000</td>\n",
       "      <td>2.00</td>\n",
       "      <td>3.00</td>\n",
       "      <td>50.00</td>\n",
       "    </tr>\n",
       "    <tr>\n",
       "      <th>Transaction_Amount_Deviation</th>\n",
       "      <td>155.0</td>\n",
       "      <td>1.662581</td>\n",
       "      <td>57.663342</td>\n",
       "      <td>-97.77</td>\n",
       "      <td>-45.240</td>\n",
       "      <td>3.58</td>\n",
       "      <td>48.58</td>\n",
       "      <td>99.28</td>\n",
       "    </tr>\n",
       "    <tr>\n",
       "      <th>Days_Since_Last_Transaction</th>\n",
       "      <td>155.0</td>\n",
       "      <td>16.045161</td>\n",
       "      <td>7.997030</td>\n",
       "      <td>1.00</td>\n",
       "      <td>9.000</td>\n",
       "      <td>17.00</td>\n",
       "      <td>22.50</td>\n",
       "      <td>29.00</td>\n",
       "    </tr>\n",
       "    <tr>\n",
       "      <th>amount</th>\n",
       "      <td>155.0</td>\n",
       "      <td>422.772710</td>\n",
       "      <td>642.515123</td>\n",
       "      <td>3.77</td>\n",
       "      <td>138.775</td>\n",
       "      <td>272.16</td>\n",
       "      <td>469.32</td>\n",
       "      <td>4883.62</td>\n",
       "    </tr>\n",
       "    <tr>\n",
       "      <th>fraud</th>\n",
       "      <td>155.0</td>\n",
       "      <td>1.000000</td>\n",
       "      <td>0.000000</td>\n",
       "      <td>1.00</td>\n",
       "      <td>1.000</td>\n",
       "      <td>1.00</td>\n",
       "      <td>1.00</td>\n",
       "      <td>1.00</td>\n",
       "    </tr>\n",
       "    <tr>\n",
       "      <th>Year</th>\n",
       "      <td>155.0</td>\n",
       "      <td>2023.296774</td>\n",
       "      <td>0.458317</td>\n",
       "      <td>2023.00</td>\n",
       "      <td>2023.000</td>\n",
       "      <td>2023.00</td>\n",
       "      <td>2024.00</td>\n",
       "      <td>2024.00</td>\n",
       "    </tr>\n",
       "  </tbody>\n",
       "</table>\n",
       "</div>"
      ],
      "text/plain": [
       "                              count         mean         std      min  \\\n",
       "Transaction_Frequency         155.0     4.116129    8.139973     0.00   \n",
       "Transaction_Amount_Deviation  155.0     1.662581   57.663342   -97.77   \n",
       "Days_Since_Last_Transaction   155.0    16.045161    7.997030     1.00   \n",
       "amount                        155.0   422.772710  642.515123     3.77   \n",
       "fraud                         155.0     1.000000    0.000000     1.00   \n",
       "Year                          155.0  2023.296774    0.458317  2023.00   \n",
       "\n",
       "                                   25%      50%      75%      max  \n",
       "Transaction_Frequency            1.000     2.00     3.00    50.00  \n",
       "Transaction_Amount_Deviation   -45.240     3.58    48.58    99.28  \n",
       "Days_Since_Last_Transaction      9.000    17.00    22.50    29.00  \n",
       "amount                         138.775   272.16   469.32  4883.62  \n",
       "fraud                            1.000     1.00     1.00     1.00  \n",
       "Year                          2023.000  2023.00  2024.00  2024.00  "
      ]
     },
     "execution_count": 64,
     "metadata": {},
     "output_type": "execute_result"
    }
   ],
   "source": [
    "# Describe the fraud DataFrame\n",
    "fraud.describe().T"
   ]
  },
  {
   "cell_type": "markdown",
   "metadata": {
    "id": "b9bEOhmWu7n_"
   },
   "source": [
    "#### Correlation check for entire dataset"
   ]
  },
  {
   "cell_type": "code",
   "execution_count": 68,
   "metadata": {
    "id": "tLKBzNQlu7n_"
   },
   "outputs": [],
   "source": [
    "numeric_columns_df = df.select_dtypes(include=['int64','float64'])"
   ]
  },
  {
   "cell_type": "code",
   "execution_count": 70,
   "metadata": {
    "colab": {
     "base_uri": "https://localhost:8080/",
     "height": 201
    },
    "id": "RqbPVwabu7oA",
    "outputId": "e58a571c-16b9-4d0b-ea5f-f2c941569a46"
   },
   "outputs": [
    {
     "data": {
      "text/html": [
       "<div>\n",
       "<style scoped>\n",
       "    .dataframe tbody tr th:only-of-type {\n",
       "        vertical-align: middle;\n",
       "    }\n",
       "\n",
       "    .dataframe tbody tr th {\n",
       "        vertical-align: top;\n",
       "    }\n",
       "\n",
       "    .dataframe thead th {\n",
       "        text-align: right;\n",
       "    }\n",
       "</style>\n",
       "<table border=\"1\" class=\"dataframe\">\n",
       "  <thead>\n",
       "    <tr style=\"text-align: right;\">\n",
       "      <th></th>\n",
       "      <th>Transaction_Frequency</th>\n",
       "      <th>Transaction_Amount_Deviation</th>\n",
       "      <th>Days_Since_Last_Transaction</th>\n",
       "      <th>amount</th>\n",
       "      <th>fraud</th>\n",
       "    </tr>\n",
       "  </thead>\n",
       "  <tbody>\n",
       "    <tr>\n",
       "      <th>Transaction_Frequency</th>\n",
       "      <td>1.000000</td>\n",
       "      <td>0.045265</td>\n",
       "      <td>0.027643</td>\n",
       "      <td>-0.009595</td>\n",
       "      <td>0.048038</td>\n",
       "    </tr>\n",
       "    <tr>\n",
       "      <th>Transaction_Amount_Deviation</th>\n",
       "      <td>0.045265</td>\n",
       "      <td>1.000000</td>\n",
       "      <td>0.004454</td>\n",
       "      <td>-0.023976</td>\n",
       "      <td>-0.033400</td>\n",
       "    </tr>\n",
       "    <tr>\n",
       "      <th>Days_Since_Last_Transaction</th>\n",
       "      <td>0.027643</td>\n",
       "      <td>0.004454</td>\n",
       "      <td>1.000000</td>\n",
       "      <td>0.034215</td>\n",
       "      <td>0.022420</td>\n",
       "    </tr>\n",
       "    <tr>\n",
       "      <th>amount</th>\n",
       "      <td>-0.009595</td>\n",
       "      <td>-0.023976</td>\n",
       "      <td>0.034215</td>\n",
       "      <td>1.000000</td>\n",
       "      <td>0.452355</td>\n",
       "    </tr>\n",
       "    <tr>\n",
       "      <th>fraud</th>\n",
       "      <td>0.048038</td>\n",
       "      <td>-0.033400</td>\n",
       "      <td>0.022420</td>\n",
       "      <td>0.452355</td>\n",
       "      <td>1.000000</td>\n",
       "    </tr>\n",
       "  </tbody>\n",
       "</table>\n",
       "</div>"
      ],
      "text/plain": [
       "                              Transaction_Frequency  \\\n",
       "Transaction_Frequency                      1.000000   \n",
       "Transaction_Amount_Deviation               0.045265   \n",
       "Days_Since_Last_Transaction                0.027643   \n",
       "amount                                    -0.009595   \n",
       "fraud                                      0.048038   \n",
       "\n",
       "                              Transaction_Amount_Deviation  \\\n",
       "Transaction_Frequency                             0.045265   \n",
       "Transaction_Amount_Deviation                      1.000000   \n",
       "Days_Since_Last_Transaction                       0.004454   \n",
       "amount                                           -0.023976   \n",
       "fraud                                            -0.033400   \n",
       "\n",
       "                              Days_Since_Last_Transaction    amount     fraud  \n",
       "Transaction_Frequency                            0.027643 -0.009595  0.048038  \n",
       "Transaction_Amount_Deviation                     0.004454 -0.023976 -0.033400  \n",
       "Days_Since_Last_Transaction                      1.000000  0.034215  0.022420  \n",
       "amount                                           0.034215  1.000000  0.452355  \n",
       "fraud                                            0.022420  0.452355  1.000000  "
      ]
     },
     "execution_count": 70,
     "metadata": {},
     "output_type": "execute_result"
    }
   ],
   "source": [
    "corr= numeric_columns_df.corr()\n",
    "corr"
   ]
  },
  {
   "cell_type": "markdown",
   "metadata": {
    "id": "NYKv4Dswu7oA"
   },
   "source": [
    "### Inference:\n",
    "      Overall, none of the variables have a strong linear relationship with fraud. However, there is a moderate positive relationship between transaction amount and fraud."
   ]
  },
  {
   "cell_type": "markdown",
   "metadata": {
    "id": "35ek0O-7u7oA"
   },
   "source": [
    "#### Correlation check for fraud dataset"
   ]
  },
  {
   "cell_type": "code",
   "execution_count": 74,
   "metadata": {
    "id": "c3HclIKiu7oA"
   },
   "outputs": [],
   "source": [
    "numeric_columns = fraud.select_dtypes(include=['int64','float64'])"
   ]
  },
  {
   "cell_type": "code",
   "execution_count": 76,
   "metadata": {
    "colab": {
     "base_uri": "https://localhost:8080/",
     "height": 201
    },
    "id": "bku9MNLDu7oA",
    "outputId": "22d5a543-d751-4456-a7dd-bda5ae8103c3"
   },
   "outputs": [
    {
     "data": {
      "text/html": [
       "<div>\n",
       "<style scoped>\n",
       "    .dataframe tbody tr th:only-of-type {\n",
       "        vertical-align: middle;\n",
       "    }\n",
       "\n",
       "    .dataframe tbody tr th {\n",
       "        vertical-align: top;\n",
       "    }\n",
       "\n",
       "    .dataframe thead th {\n",
       "        text-align: right;\n",
       "    }\n",
       "</style>\n",
       "<table border=\"1\" class=\"dataframe\">\n",
       "  <thead>\n",
       "    <tr style=\"text-align: right;\">\n",
       "      <th></th>\n",
       "      <th>Transaction_Frequency</th>\n",
       "      <th>Transaction_Amount_Deviation</th>\n",
       "      <th>Days_Since_Last_Transaction</th>\n",
       "      <th>amount</th>\n",
       "      <th>fraud</th>\n",
       "    </tr>\n",
       "  </thead>\n",
       "  <tbody>\n",
       "    <tr>\n",
       "      <th>Transaction_Frequency</th>\n",
       "      <td>1.000000</td>\n",
       "      <td>0.112079</td>\n",
       "      <td>0.048399</td>\n",
       "      <td>-0.047628</td>\n",
       "      <td>NaN</td>\n",
       "    </tr>\n",
       "    <tr>\n",
       "      <th>Transaction_Amount_Deviation</th>\n",
       "      <td>0.112079</td>\n",
       "      <td>1.000000</td>\n",
       "      <td>-0.057579</td>\n",
       "      <td>-0.034097</td>\n",
       "      <td>NaN</td>\n",
       "    </tr>\n",
       "    <tr>\n",
       "      <th>Days_Since_Last_Transaction</th>\n",
       "      <td>0.048399</td>\n",
       "      <td>-0.057579</td>\n",
       "      <td>1.000000</td>\n",
       "      <td>0.078918</td>\n",
       "      <td>NaN</td>\n",
       "    </tr>\n",
       "    <tr>\n",
       "      <th>amount</th>\n",
       "      <td>-0.047628</td>\n",
       "      <td>-0.034097</td>\n",
       "      <td>0.078918</td>\n",
       "      <td>1.000000</td>\n",
       "      <td>NaN</td>\n",
       "    </tr>\n",
       "    <tr>\n",
       "      <th>fraud</th>\n",
       "      <td>NaN</td>\n",
       "      <td>NaN</td>\n",
       "      <td>NaN</td>\n",
       "      <td>NaN</td>\n",
       "      <td>NaN</td>\n",
       "    </tr>\n",
       "  </tbody>\n",
       "</table>\n",
       "</div>"
      ],
      "text/plain": [
       "                              Transaction_Frequency  \\\n",
       "Transaction_Frequency                      1.000000   \n",
       "Transaction_Amount_Deviation               0.112079   \n",
       "Days_Since_Last_Transaction                0.048399   \n",
       "amount                                    -0.047628   \n",
       "fraud                                           NaN   \n",
       "\n",
       "                              Transaction_Amount_Deviation  \\\n",
       "Transaction_Frequency                             0.112079   \n",
       "Transaction_Amount_Deviation                      1.000000   \n",
       "Days_Since_Last_Transaction                      -0.057579   \n",
       "amount                                           -0.034097   \n",
       "fraud                                                  NaN   \n",
       "\n",
       "                              Days_Since_Last_Transaction    amount  fraud  \n",
       "Transaction_Frequency                            0.048399 -0.047628    NaN  \n",
       "Transaction_Amount_Deviation                    -0.057579 -0.034097    NaN  \n",
       "Days_Since_Last_Transaction                      1.000000  0.078918    NaN  \n",
       "amount                                           0.078918  1.000000    NaN  \n",
       "fraud                                                 NaN       NaN    NaN  "
      ]
     },
     "execution_count": 76,
     "metadata": {},
     "output_type": "execute_result"
    }
   ],
   "source": [
    "corr= numeric_columns.corr()\n",
    "corr"
   ]
  },
  {
   "cell_type": "markdown",
   "metadata": {
    "id": "uJG6C1Q6u7oA"
   },
   "source": [
    "### Visualizing entire dataset"
   ]
  },
  {
   "cell_type": "markdown",
   "metadata": {
    "id": "NFMwiIWzu7oB"
   },
   "source": [
    "### Visualizing Fraud Data"
   ]
  },
  {
   "cell_type": "code",
   "execution_count": 81,
   "metadata": {
    "colab": {
     "base_uri": "https://localhost:8080/",
     "height": 1000
    },
    "id": "GjY0SKODu7oB",
    "outputId": "14d1fee9-c6d4-407d-cf0d-3199e1bf9540"
   },
   "outputs": [
    {
     "data": {
      "image/png": "[encoded data removed]",
      "text/plain": [
       "<Figure size 1000x600 with 1 Axes>"
      ]
     },
     "metadata": {},
     "output_type": "display_data"
    },
    {
     "data": {
      "image/png": "[encoded data removed]",
      "text/plain": [
       "<Figure size 1000x600 with 1 Axes>"
      ]
     },
     "metadata": {},
     "output_type": "display_data"
    },
    {
     "data": {
      "image/png": "[encoded data removed]",
      "text/plain": [
       "<Figure size 1200x600 with 1 Axes>"
      ]
     },
     "metadata": {},
     "output_type": "display_data"
    },
    {
     "data": {
      "image/png": "[encoded data removed]",
      "text/plain": [
       "<Figure size 1000x600 with 1 Axes>"
      ]
     },
     "metadata": {},
     "output_type": "display_data"
    },
    {
     "data": {
      "image/png": "[encoded data removed]",
      "text/plain": [
       "<Figure size 1000x600 with 1 Axes>"
      ]
     },
     "metadata": {},
     "output_type": "display_data"
    }
   ],
   "source": [
    "import seaborn as sns\n",
    "import matplotlib.pyplot as plt\n",
    "\n",
    "# Plot 1: Fraud distribution by Transaction Type\n",
    "plt.figure(figsize=(10, 6))\n",
    "sns.countplot(data=fraud, x='Transaction_Type', palette='pastel', order=fraud['Transaction_Type'].value_counts().index)\n",
    "plt.title('Fraud Distribution by Transaction Type')\n",
    "plt.xlabel('Transaction Type')\n",
    "plt.ylabel('Fraud Markers')\n",
    "plt.xticks(rotation=45, ha='right')\n",
    "plt.tight_layout()  # Adjust layout to prevent overlap\n",
    "plt.show()\n",
    "\n",
    "# Plot 2: Fraud distribution by Payment Gateway\n",
    "plt.figure(figsize=(10, 6))\n",
    "sns.countplot(data=fraud, x='Payment_Gateway', palette='pastel', order=fraud['Payment_Gateway'].value_counts().index)\n",
    "plt.title('Fraud Distribution by Payment Gateway')\n",
    "plt.xlabel('Payment Gateway')\n",
    "plt.ylabel('Fraud Markers')\n",
    "plt.xticks(rotation=45, ha='right')\n",
    "plt.tight_layout()  # Adjust layout to prevent overlap\n",
    "plt.show()\n",
    "\n",
    "# Plot 3: Fraud distribution by Merchant Category\n",
    "plt.figure(figsize=(12, 6))\n",
    "sns.countplot(data=fraud, x='Merchant_Category', palette='pastel', order=fraud['Merchant_Category'].value_counts().index)\n",
    "plt.title('Fraud Distribution by Merchant Category')\n",
    "plt.xlabel('Merchant Category')\n",
    "plt.ylabel('Fraud Markers')\n",
    "plt.xticks(rotation=45, ha='right')\n",
    "plt.tight_layout()  # Adjust layout to prevent overlap\n",
    "plt.show()\n",
    "\n",
    "# Plot 7: Relationship between Transaction_State and Fraud using bar plot\n",
    "plt.figure(figsize=(10, 6))\n",
    "sns.countplot(data=fraud, x='Transaction_State', palette='pastel', order=fraud['Transaction_State'].value_counts().index)\n",
    "plt.title('Fraud Distribution by Transaction State')\n",
    "plt.xlabel('Transaction State')\n",
    "plt.ylabel('Fraud Markers')\n",
    "plt.xticks(rotation=45, ha='right')\n",
    "plt.tight_layout()  # Adjust layout to prevent overlap\n",
    "plt.show()\n",
    "\n",
    "# Plot 8: Relationship between Device_OS and Fraud using bar plot\n",
    "plt.figure(figsize=(10, 6))\n",
    "sns.countplot(data=fraud, x='Device_OS', palette='pastel', order=fraud['Device_OS'].value_counts().index)\n",
    "plt.title('Fraud Distribution by Device OS')\n",
    "plt.xlabel('Device OS')\n",
    "plt.ylabel('Fraud Markers')\n",
    "plt.xticks(rotation=45, ha='right')\n",
    "plt.tight_layout()  # Adjust layout to prevent overlap\n",
    "plt.show()\n"
   ]
  },
  {
   "cell_type": "markdown",
   "metadata": {
    "id": "n9dtFMzvu7oB"
   },
   "source": [
    "### Insights from Exploratory Data Analysis for UPI Fraud Detection:\n",
    "\n",
    "- **Transaction Types**: Among different transaction types, such as bank transfers, purchases, and bill payments, fraudulent activities are prominently associated, indicating vulnerabilities across various transaction categories.\n",
    "\n",
    "- **Platforms**: Platforms like ICICI, HDFC, and GooglePay are notably prone to fraudulent transactions, suggesting a need for enhanced security measures or closer monitoring on these platforms.\n",
    "\n",
    "- **Merchant Categories**: Certain merchant categories, such as home delivery services, travel bookings, and utility payments, exhibit a higher incidence of fraudulent transactions, indicating potential areas of vulnerability within these sectors.\n",
    "\n",
    "- **Temporal Trends**: Transactions with amounts ranging from 0 to 1250 units account for the majority of fraudulent activities between FY 23-24, emphasizing the importance of monitoring transactions within this range for potential fraud.\n",
    "\n",
    "- **Transaction Frequency**: Transactions occurring at a frequency of 0 to 10 instances show a higher propensity for fraud, indicating that fraudsters may exploit less frequent transactions to evade detection.\n",
    "\n",
    "- **Geographical Patterns**: Certain states, such as Himachal Pradesh, Rajasthan, Meghalaya, and Bihar, exhibit a higher sensitivity to fraudulent transactions, necessitating targeted interventions or heightened vigilance in these regions.\n",
    "\n",
    "- **Operating Systems**: Devices operating on the Android OS report a higher number of fraudulent transactions, underscoring potential security vulnerabilities within Android-based platforms or applications.\n",
    "\n",
    "- **Days Since Last Transaction**: The feature 'days since last transaction' does not yield discernible patterns and does not contribute significantly to the analysis, suggesting that it may be omitted from further modeling efforts to streamline the feature set.\n",
    "\n",
    "By leveraging these insights, stakeholders can implement targeted strategies to enhance fraud detection mechanisms, bolster security protocols, and mitigate potential risks associated with UPI transactions."
   ]
  },
  {
   "cell_type": "code",
   "execution_count": 83,
   "metadata": {
    "colab": {
     "base_uri": "https://localhost:8080/"
    },
    "id": "pSFDnj-Cu7oB",
    "outputId": "41061352-74ba-4ab3-be7d-a97e5e2f8ec4"
   },
   "outputs": [
    {
     "name": "stdout",
     "output_type": "stream",
     "text": [
      "<class 'pandas.core.frame.DataFrame'>\n",
      "Index: 155 entries, 0 to 154\n",
      "Data columns (total 17 columns):\n",
      " #   Column                        Non-Null Count  Dtype  \n",
      "---  ------                        --------------  -----  \n",
      " 0   Date                          155 non-null    object \n",
      " 1   Time                          155 non-null    object \n",
      " 2   Transaction_Type              155 non-null    object \n",
      " 3   Payment_Gateway               155 non-null    object \n",
      " 4   Transaction_City              155 non-null    object \n",
      " 5   Transaction_State             155 non-null    object \n",
      " 6   Transaction_Status            155 non-null    object \n",
      " 7   Device_OS                     155 non-null    object \n",
      " 8   Transaction_Frequency         155 non-null    int64  \n",
      " 9   Merchant_Category             155 non-null    object \n",
      " 10  Transaction_Channel           155 non-null    object \n",
      " 11  Transaction_Amount_Deviation  155 non-null    float64\n",
      " 12  Days_Since_Last_Transaction   155 non-null    int64  \n",
      " 13  amount                        155 non-null    float64\n",
      " 14  fraud                         155 non-null    int64  \n",
      " 15  Year                          155 non-null    int32  \n",
      " 16  Month                         155 non-null    object \n",
      "dtypes: float64(2), int32(1), int64(3), object(11)\n",
      "memory usage: 21.2+ KB\n"
     ]
    }
   ],
   "source": [
    "fraud.info()"
   ]
  },
  {
   "cell_type": "markdown",
   "metadata": {
    "id": "PGg22ZtNu7oB"
   },
   "source": [
    "### Statistical analysis for feature importance :"
   ]
  },
  {
   "cell_type": "code",
   "execution_count": 86,
   "metadata": {
    "colab": {
     "base_uri": "https://localhost:8080/",
     "height": 383
    },
    "id": "QBTlBHRVu7oB",
    "outputId": "b16416d1-8140-4d8b-ee21-55d0faa84819"
   },
   "outputs": [
    {
     "data": {
      "text/html": [
       "<div>\n",
       "<style scoped>\n",
       "    .dataframe tbody tr th:only-of-type {\n",
       "        vertical-align: middle;\n",
       "    }\n",
       "\n",
       "    .dataframe tbody tr th {\n",
       "        vertical-align: top;\n",
       "    }\n",
       "\n",
       "    .dataframe thead th {\n",
       "        text-align: right;\n",
       "    }\n",
       "</style>\n",
       "<table border=\"1\" class=\"dataframe\">\n",
       "  <thead>\n",
       "    <tr style=\"text-align: right;\">\n",
       "      <th></th>\n",
       "      <th>Column</th>\n",
       "      <th>Chi-square statistic</th>\n",
       "      <th>p-value</th>\n",
       "      <th>Comment</th>\n",
       "      <th>Recommendation</th>\n",
       "    </tr>\n",
       "  </thead>\n",
       "  <tbody>\n",
       "    <tr>\n",
       "      <th>0</th>\n",
       "      <td>Date</td>\n",
       "      <td>297.976192</td>\n",
       "      <td>0.538422</td>\n",
       "      <td>No significant association with fraud</td>\n",
       "      <td>Can be removed</td>\n",
       "    </tr>\n",
       "    <tr>\n",
       "      <th>1</th>\n",
       "      <td>Time</td>\n",
       "      <td>636.021532</td>\n",
       "      <td>0.536964</td>\n",
       "      <td>No significant association with fraud</td>\n",
       "      <td>Can be removed</td>\n",
       "    </tr>\n",
       "    <tr>\n",
       "      <th>2</th>\n",
       "      <td>Transaction_Type</td>\n",
       "      <td>2.216333</td>\n",
       "      <td>0.898766</td>\n",
       "      <td>No significant association with fraud</td>\n",
       "      <td>Can be removed</td>\n",
       "    </tr>\n",
       "    <tr>\n",
       "      <th>3</th>\n",
       "      <td>Payment_Gateway</td>\n",
       "      <td>1.129164</td>\n",
       "      <td>0.997293</td>\n",
       "      <td>No significant association with fraud</td>\n",
       "      <td>Can be removed</td>\n",
       "    </tr>\n",
       "    <tr>\n",
       "      <th>4</th>\n",
       "      <td>Transaction_City</td>\n",
       "      <td>272.281348</td>\n",
       "      <td>0.618284</td>\n",
       "      <td>No significant association with fraud</td>\n",
       "      <td>Can be removed</td>\n",
       "    </tr>\n",
       "    <tr>\n",
       "      <th>5</th>\n",
       "      <td>Transaction_State</td>\n",
       "      <td>14.979792</td>\n",
       "      <td>0.969714</td>\n",
       "      <td>No significant association with fraud</td>\n",
       "      <td>Can be removed</td>\n",
       "    </tr>\n",
       "    <tr>\n",
       "      <th>6</th>\n",
       "      <td>Transaction_Status</td>\n",
       "      <td>1.426220</td>\n",
       "      <td>0.490118</td>\n",
       "      <td>No significant association with fraud</td>\n",
       "      <td>Can be removed</td>\n",
       "    </tr>\n",
       "    <tr>\n",
       "      <th>7</th>\n",
       "      <td>Device_OS</td>\n",
       "      <td>3.914591</td>\n",
       "      <td>0.270836</td>\n",
       "      <td>No significant association with fraud</td>\n",
       "      <td>Can be removed</td>\n",
       "    </tr>\n",
       "    <tr>\n",
       "      <th>8</th>\n",
       "      <td>Merchant_Category</td>\n",
       "      <td>3.867471</td>\n",
       "      <td>0.919917</td>\n",
       "      <td>No significant association with fraud</td>\n",
       "      <td>Can be removed</td>\n",
       "    </tr>\n",
       "    <tr>\n",
       "      <th>9</th>\n",
       "      <td>Transaction_Channel</td>\n",
       "      <td>4.464418</td>\n",
       "      <td>0.107291</td>\n",
       "      <td>No significant association with fraud</td>\n",
       "      <td>Can be removed</td>\n",
       "    </tr>\n",
       "    <tr>\n",
       "      <th>10</th>\n",
       "      <td>Month</td>\n",
       "      <td>13.547624</td>\n",
       "      <td>0.259043</td>\n",
       "      <td>No significant association with fraud</td>\n",
       "      <td>Can be removed</td>\n",
       "    </tr>\n",
       "  </tbody>\n",
       "</table>\n",
       "</div>"
      ],
      "text/plain": [
       "                 Column  Chi-square statistic   p-value  \\\n",
       "0                  Date            297.976192  0.538422   \n",
       "1                  Time            636.021532  0.536964   \n",
       "2      Transaction_Type              2.216333  0.898766   \n",
       "3       Payment_Gateway              1.129164  0.997293   \n",
       "4      Transaction_City            272.281348  0.618284   \n",
       "5     Transaction_State             14.979792  0.969714   \n",
       "6    Transaction_Status              1.426220  0.490118   \n",
       "7             Device_OS              3.914591  0.270836   \n",
       "8     Merchant_Category              3.867471  0.919917   \n",
       "9   Transaction_Channel              4.464418  0.107291   \n",
       "10                Month             13.547624  0.259043   \n",
       "\n",
       "                                  Comment  Recommendation  \n",
       "0   No significant association with fraud  Can be removed  \n",
       "1   No significant association with fraud  Can be removed  \n",
       "2   No significant association with fraud  Can be removed  \n",
       "3   No significant association with fraud  Can be removed  \n",
       "4   No significant association with fraud  Can be removed  \n",
       "5   No significant association with fraud  Can be removed  \n",
       "6   No significant association with fraud  Can be removed  \n",
       "7   No significant association with fraud  Can be removed  \n",
       "8   No significant association with fraud  Can be removed  \n",
       "9   No significant association with fraud  Can be removed  \n",
       "10  No significant association with fraud  Can be removed  "
      ]
     },
     "execution_count": 86,
     "metadata": {},
     "output_type": "execute_result"
    }
   ],
   "source": [
    "from scipy.stats import chi2_contingency\n",
    "import pandas as pd\n",
    "\n",
    "def chi_square_analysis(df, target_variable, alpha=0.05):\n",
    "    categorical_vars = df.select_dtypes(include=['object'])\n",
    "    results = []\n",
    "\n",
    "    for cat_var in categorical_vars:\n",
    "        contingency_table = pd.crosstab(df[cat_var], df[target_variable])\n",
    "        chi2, p, _, _ = chi2_contingency(contingency_table)\n",
    "\n",
    "        if p >= alpha:\n",
    "            comment = \"No significant association with \" + target_variable\n",
    "            recommendation = \"Can be removed\"\n",
    "        else:\n",
    "            comment = \"Significant association with \" + target_variable\n",
    "            recommendation = \"\"\n",
    "\n",
    "        results.append([cat_var, chi2, p, comment, recommendation])\n",
    "\n",
    "    results_df = pd.DataFrame(results, columns=['Column', 'Chi-square statistic', 'p-value', 'Comment', 'Recommendation'])\n",
    "    return results_df\n",
    "\n",
    "# Usage\n",
    "results_df = chi_square_analysis(df, 'fraud')\n",
    "results_df\n"
   ]
  },
  {
   "cell_type": "markdown",
   "metadata": {
    "id": "7UDsZvgpu7oC"
   },
   "source": [
    "### Inference:\n",
    "    - Below columns are not important and can be deleted\n",
    "    - Transaction_Status, Time, Date, Device_OS, Transaction_Channel"
   ]
  },
  {
   "cell_type": "markdown",
   "metadata": {
    "id": "3IdQkBTtu7oC"
   },
   "source": [
    "### Dropping unnecessary columns from entire dataset"
   ]
  },
  {
   "cell_type": "code",
   "execution_count": 90,
   "metadata": {
    "id": "d76MmPd-u7oC"
   },
   "outputs": [],
   "source": [
    "columns_to_drop = ['Days_Since_Last_Transaction', 'Transaction_Frequency', 'Transaction_Amount_Deviation',\n",
    "                   'Transaction_Status', 'Time', 'Date', 'Device_OS', 'Transaction_Channel']\n",
    "\n",
    "df.drop(columns=columns_to_drop, inplace=True)"
   ]
  },
  {
   "cell_type": "code",
   "execution_count": 92,
   "metadata": {
    "colab": {
     "base_uri": "https://localhost:8080/"
    },
    "id": "f4RI0k7Xu7oC",
    "outputId": "e3725b2f-e9bf-457f-b0a4-83ffa55b3728"
   },
   "outputs": [
    {
     "name": "stdout",
     "output_type": "stream",
     "text": [
      "<class 'pandas.core.frame.DataFrame'>\n",
      "RangeIndex: 647 entries, 0 to 646\n",
      "Data columns (total 9 columns):\n",
      " #   Column             Non-Null Count  Dtype  \n",
      "---  ------             --------------  -----  \n",
      " 0   Transaction_Type   647 non-null    object \n",
      " 1   Payment_Gateway    647 non-null    object \n",
      " 2   Transaction_City   647 non-null    object \n",
      " 3   Transaction_State  647 non-null    object \n",
      " 4   Merchant_Category  647 non-null    object \n",
      " 5   amount             647 non-null    float64\n",
      " 6   fraud              647 non-null    int64  \n",
      " 7   Year               647 non-null    int32  \n",
      " 8   Month              647 non-null    object \n",
      "dtypes: float64(1), int32(1), int64(1), object(6)\n",
      "memory usage: 43.1+ KB\n"
     ]
    }
   ],
   "source": [
    "df.info()"
   ]
  },
  {
   "cell_type": "code",
   "execution_count": 97,
   "metadata": {
    "colab": {
     "base_uri": "https://localhost:8080/"
    },
    "id": "sxNVcRJFu7oC",
    "outputId": "08afd4a9-2137-4aeb-bfce-4da4437bfaaf"
   },
   "outputs": [
    {
     "data": {
      "text/plain": [
       "Index(['Transaction_Type', 'Payment_Gateway', 'Transaction_City',\n",
       "       'Transaction_State', 'Merchant_Category', 'amount', 'fraud', 'Year',\n",
       "       'Month'],\n",
       "      dtype='object')"
      ]
     },
     "execution_count": 97,
     "metadata": {},
     "output_type": "execute_result"
    }
   ],
   "source": [
    "df.columns"
   ]
  },
  {
   "cell_type": "markdown",
   "metadata": {
    "id": "n9HX5BTuu7oC"
   },
   "source": [
    "### Encoding and scaling"
   ]
  },
  {
   "cell_type": "code",
   "execution_count": 100,
   "metadata": {
    "id": "5C6h2BvKu7oD"
   },
   "outputs": [],
   "source": [
    "data = df.copy()"
   ]
  },
  {
   "cell_type": "code",
   "execution_count": 102,
   "metadata": {
    "colab": {
     "base_uri": "https://localhost:8080/"
    },
    "id": "iSVvLgCnu7oD",
    "outputId": "4183d1bb-1d45-4b5a-c921-819c35189a37"
   },
   "outputs": [
    {
     "name": "stdout",
     "output_type": "stream",
     "text": [
      "<class 'pandas.core.frame.DataFrame'>\n",
      "RangeIndex: 647 entries, 0 to 646\n",
      "Data columns (total 9 columns):\n",
      " #   Column             Non-Null Count  Dtype  \n",
      "---  ------             --------------  -----  \n",
      " 0   Transaction_Type   647 non-null    object \n",
      " 1   Payment_Gateway    647 non-null    object \n",
      " 2   Transaction_City   647 non-null    object \n",
      " 3   Transaction_State  647 non-null    object \n",
      " 4   Merchant_Category  647 non-null    object \n",
      " 5   amount             647 non-null    float64\n",
      " 6   fraud              647 non-null    int64  \n",
      " 7   Year               647 non-null    int32  \n",
      " 8   Month              647 non-null    object \n",
      "dtypes: float64(1), int32(1), int64(1), object(6)\n",
      "memory usage: 43.1+ KB\n"
     ]
    }
   ],
   "source": [
    "data.info()"
   ]
  },
  {
   "cell_type": "code",
   "execution_count": 104,
   "metadata": {
    "id": "hCfQ0TYpu7oD"
   },
   "outputs": [],
   "source": [
    "# Converting Year column to object\n",
    "data['Year'] = data['Year'].astype('object')"
   ]
  },
  {
   "cell_type": "code",
   "execution_count": 106,
   "metadata": {
    "colab": {
     "base_uri": "https://localhost:8080/"
    },
    "id": "nvALxaaLu7oD",
    "outputId": "a122cacd-31db-44a3-92ec-9e3a268de5b7"
   },
   "outputs": [
    {
     "data": {
      "text/plain": [
       "Index(['Transaction_Type', 'Payment_Gateway', 'Transaction_City',\n",
       "       'Transaction_State', 'Merchant_Category', 'Year', 'Month'],\n",
       "      dtype='object')"
      ]
     },
     "execution_count": 106,
     "metadata": {},
     "output_type": "execute_result"
    }
   ],
   "source": [
    "# Extracting categorical columns from data\n",
    "categorical_cols = data.select_dtypes(include=['object']).columns\n",
    "\n",
    "categorical_cols"
   ]
  },
  {
   "cell_type": "code",
   "execution_count": 108,
   "metadata": {
    "id": "gu8LNm3au7oD"
   },
   "outputs": [],
   "source": [
    "from sklearn.preprocessing import LabelEncoder\n",
    "\n",
    "cols = ['Year','Month']\n",
    "\n",
    "label_encoder = LabelEncoder()\n",
    "for col in cols:\n",
    "    data[col] = label_encoder.fit_transform(data[col])"
   ]
  },
  {
   "cell_type": "code",
   "execution_count": 110,
   "metadata": {
    "id": "O7iajvK2u7oD"
   },
   "outputs": [],
   "source": [
    "# Numerical columns\n",
    "non_ordinal = ['Transaction_Type', 'Payment_Gateway', 'Transaction_City','Transaction_State','Merchant_Category']\n",
    "\n",
    "# performing one hot encoding for non_ordinal variables\n",
    "data = pd.get_dummies(data, columns=non_ordinal, drop_first=True)\n",
    "\n",
    "# Convert boolean columns to integers\n",
    "data = data.astype(int)"
   ]
  },
  {
   "cell_type": "code",
   "execution_count": 112,
   "metadata": {
    "colab": {
     "base_uri": "https://localhost:8080/",
     "height": 265
    },
    "id": "PIoBXjL0u7oD",
    "outputId": "badcc1f3-2258-41fe-b651-a7407bc46981"
   },
   "outputs": [
    {
     "data": {
      "text/html": [
       "<div>\n",
       "<style scoped>\n",
       "    .dataframe tbody tr th:only-of-type {\n",
       "        vertical-align: middle;\n",
       "    }\n",
       "\n",
       "    .dataframe tbody tr th {\n",
       "        vertical-align: top;\n",
       "    }\n",
       "\n",
       "    .dataframe thead th {\n",
       "        text-align: right;\n",
       "    }\n",
       "</style>\n",
       "<table border=\"1\" class=\"dataframe\">\n",
       "  <thead>\n",
       "    <tr style=\"text-align: right;\">\n",
       "      <th></th>\n",
       "      <th>amount</th>\n",
       "      <th>fraud</th>\n",
       "      <th>Year</th>\n",
       "      <th>Month</th>\n",
       "      <th>Transaction_Type_Bill Payment</th>\n",
       "      <th>Transaction_Type_Investment</th>\n",
       "      <th>Transaction_Type_Other</th>\n",
       "      <th>Transaction_Type_Purchase</th>\n",
       "      <th>Transaction_Type_Refund</th>\n",
       "      <th>Transaction_Type_Subscription</th>\n",
       "      <th>...</th>\n",
       "      <th>Transaction_State_West Bengal</th>\n",
       "      <th>Merchant_Category_Donations and Devotion</th>\n",
       "      <th>Merchant_Category_Financial services and Taxes</th>\n",
       "      <th>Merchant_Category_Home delivery</th>\n",
       "      <th>Merchant_Category_Investment</th>\n",
       "      <th>Merchant_Category_More Services</th>\n",
       "      <th>Merchant_Category_Other</th>\n",
       "      <th>Merchant_Category_Purchases</th>\n",
       "      <th>Merchant_Category_Travel bookings</th>\n",
       "      <th>Merchant_Category_Utilities</th>\n",
       "    </tr>\n",
       "  </thead>\n",
       "  <tbody>\n",
       "    <tr>\n",
       "      <th>0</th>\n",
       "      <td>396</td>\n",
       "      <td>1</td>\n",
       "      <td>0</td>\n",
       "      <td>0</td>\n",
       "      <td>0</td>\n",
       "      <td>0</td>\n",
       "      <td>0</td>\n",
       "      <td>0</td>\n",
       "      <td>1</td>\n",
       "      <td>0</td>\n",
       "      <td>...</td>\n",
       "      <td>0</td>\n",
       "      <td>0</td>\n",
       "      <td>0</td>\n",
       "      <td>0</td>\n",
       "      <td>0</td>\n",
       "      <td>0</td>\n",
       "      <td>0</td>\n",
       "      <td>0</td>\n",
       "      <td>0</td>\n",
       "      <td>0</td>\n",
       "    </tr>\n",
       "    <tr>\n",
       "      <th>1</th>\n",
       "      <td>121</td>\n",
       "      <td>1</td>\n",
       "      <td>0</td>\n",
       "      <td>1</td>\n",
       "      <td>0</td>\n",
       "      <td>0</td>\n",
       "      <td>0</td>\n",
       "      <td>0</td>\n",
       "      <td>0</td>\n",
       "      <td>0</td>\n",
       "      <td>...</td>\n",
       "      <td>0</td>\n",
       "      <td>0</td>\n",
       "      <td>0</td>\n",
       "      <td>1</td>\n",
       "      <td>0</td>\n",
       "      <td>0</td>\n",
       "      <td>0</td>\n",
       "      <td>0</td>\n",
       "      <td>0</td>\n",
       "      <td>0</td>\n",
       "    </tr>\n",
       "    <tr>\n",
       "      <th>2</th>\n",
       "      <td>106</td>\n",
       "      <td>1</td>\n",
       "      <td>0</td>\n",
       "      <td>6</td>\n",
       "      <td>0</td>\n",
       "      <td>0</td>\n",
       "      <td>0</td>\n",
       "      <td>0</td>\n",
       "      <td>0</td>\n",
       "      <td>0</td>\n",
       "      <td>...</td>\n",
       "      <td>0</td>\n",
       "      <td>0</td>\n",
       "      <td>0</td>\n",
       "      <td>0</td>\n",
       "      <td>0</td>\n",
       "      <td>0</td>\n",
       "      <td>0</td>\n",
       "      <td>0</td>\n",
       "      <td>0</td>\n",
       "      <td>1</td>\n",
       "    </tr>\n",
       "    <tr>\n",
       "      <th>3</th>\n",
       "      <td>3611</td>\n",
       "      <td>1</td>\n",
       "      <td>1</td>\n",
       "      <td>4</td>\n",
       "      <td>0</td>\n",
       "      <td>0</td>\n",
       "      <td>0</td>\n",
       "      <td>0</td>\n",
       "      <td>0</td>\n",
       "      <td>1</td>\n",
       "      <td>...</td>\n",
       "      <td>0</td>\n",
       "      <td>0</td>\n",
       "      <td>0</td>\n",
       "      <td>0</td>\n",
       "      <td>0</td>\n",
       "      <td>0</td>\n",
       "      <td>0</td>\n",
       "      <td>1</td>\n",
       "      <td>0</td>\n",
       "      <td>0</td>\n",
       "    </tr>\n",
       "    <tr>\n",
       "      <th>4</th>\n",
       "      <td>374</td>\n",
       "      <td>1</td>\n",
       "      <td>0</td>\n",
       "      <td>6</td>\n",
       "      <td>0</td>\n",
       "      <td>1</td>\n",
       "      <td>0</td>\n",
       "      <td>0</td>\n",
       "      <td>0</td>\n",
       "      <td>0</td>\n",
       "      <td>...</td>\n",
       "      <td>0</td>\n",
       "      <td>0</td>\n",
       "      <td>0</td>\n",
       "      <td>0</td>\n",
       "      <td>0</td>\n",
       "      <td>0</td>\n",
       "      <td>1</td>\n",
       "      <td>0</td>\n",
       "      <td>0</td>\n",
       "      <td>0</td>\n",
       "    </tr>\n",
       "  </tbody>\n",
       "</table>\n",
       "<p>5 rows × 334 columns</p>\n",
       "</div>"
      ],
      "text/plain": [
       "   amount  fraud  Year  Month  Transaction_Type_Bill Payment  \\\n",
       "0     396      1     0      0                              0   \n",
       "1     121      1     0      1                              0   \n",
       "2     106      1     0      6                              0   \n",
       "3    3611      1     1      4                              0   \n",
       "4     374      1     0      6                              0   \n",
       "\n",
       "   Transaction_Type_Investment  Transaction_Type_Other  \\\n",
       "0                            0                       0   \n",
       "1                            0                       0   \n",
       "2                            0                       0   \n",
       "3                            0                       0   \n",
       "4                            1                       0   \n",
       "\n",
       "   Transaction_Type_Purchase  Transaction_Type_Refund  \\\n",
       "0                          0                        1   \n",
       "1                          0                        0   \n",
       "2                          0                        0   \n",
       "3                          0                        0   \n",
       "4                          0                        0   \n",
       "\n",
       "   Transaction_Type_Subscription  ...  Transaction_State_West Bengal  \\\n",
       "0                              0  ...                              0   \n",
       "1                              0  ...                              0   \n",
       "2                              0  ...                              0   \n",
       "3                              1  ...                              0   \n",
       "4                              0  ...                              0   \n",
       "\n",
       "   Merchant_Category_Donations and Devotion  \\\n",
       "0                                         0   \n",
       "1                                         0   \n",
       "2                                         0   \n",
       "3                                         0   \n",
       "4                                         0   \n",
       "\n",
       "   Merchant_Category_Financial services and Taxes  \\\n",
       "0                                               0   \n",
       "1                                               0   \n",
       "2                                               0   \n",
       "3                                               0   \n",
       "4                                               0   \n",
       "\n",
       "   Merchant_Category_Home delivery  Merchant_Category_Investment  \\\n",
       "0                                0                             0   \n",
       "1                                1                             0   \n",
       "2                                0                             0   \n",
       "3                                0                             0   \n",
       "4                                0                             0   \n",
       "\n",
       "   Merchant_Category_More Services  Merchant_Category_Other  \\\n",
       "0                                0                        0   \n",
       "1                                0                        0   \n",
       "2                                0                        0   \n",
       "3                                0                        0   \n",
       "4                                0                        1   \n",
       "\n",
       "   Merchant_Category_Purchases  Merchant_Category_Travel bookings  \\\n",
       "0                            0                                  0   \n",
       "1                            0                                  0   \n",
       "2                            0                                  0   \n",
       "3                            1                                  0   \n",
       "4                            0                                  0   \n",
       "\n",
       "   Merchant_Category_Utilities  \n",
       "0                            0  \n",
       "1                            0  \n",
       "2                            1  \n",
       "3                            0  \n",
       "4                            0  \n",
       "\n",
       "[5 rows x 334 columns]"
      ]
     },
     "execution_count": 112,
     "metadata": {},
     "output_type": "execute_result"
    }
   ],
   "source": [
    "data.head()"
   ]
  },
  {
   "cell_type": "code",
   "execution_count": 114,
   "metadata": {
    "colab": {
     "base_uri": "https://localhost:8080/"
    },
    "id": "s1wsFTwtu7oD",
    "outputId": "01bbbc56-7ab5-4ddb-a093-47a1ed8a33d3"
   },
   "outputs": [
    {
     "data": {
      "text/plain": [
       "amount                               int32\n",
       "fraud                                int32\n",
       "Year                                 int32\n",
       "Month                                int32\n",
       "Transaction_Type_Bill Payment        int32\n",
       "                                     ...  \n",
       "Merchant_Category_More Services      int32\n",
       "Merchant_Category_Other              int32\n",
       "Merchant_Category_Purchases          int32\n",
       "Merchant_Category_Travel bookings    int32\n",
       "Merchant_Category_Utilities          int32\n",
       "Length: 334, dtype: object"
      ]
     },
     "execution_count": 114,
     "metadata": {},
     "output_type": "execute_result"
    }
   ],
   "source": [
    "data.dtypes"
   ]
  },
  {
   "cell_type": "code",
   "execution_count": 116,
   "metadata": {
    "colab": {
     "base_uri": "https://localhost:8080/"
    },
    "id": "_lkUjl_9u7oE",
    "outputId": "89425e3c-3bd4-4889-981c-fdd1d9dded9b"
   },
   "outputs": [
    {
     "data": {
      "text/plain": [
       "(647, 334)"
      ]
     },
     "execution_count": 116,
     "metadata": {},
     "output_type": "execute_result"
    }
   ],
   "source": [
    "data.shape"
   ]
  },
  {
   "cell_type": "markdown",
   "metadata": {
    "id": "6gCXBdSbu7oE"
   },
   "source": [
    "## To improve the computational effeciency, taking 50% of the entire data for model building and testing keeping the ratio intact"
   ]
  },
  {
   "cell_type": "code",
   "execution_count": 119,
   "metadata": {
    "id": "wdXwyZ16u7oE"
   },
   "outputs": [],
   "source": [
    "import pandas as pd\n",
    "from sklearn.model_selection import train_test_split\n",
    "\n",
    "# Split the data into 'fraud' and 'non-fraud' classes\n",
    "fraud_data = data[data['fraud'] == 1]\n",
    "non_fraud_data = data[data['fraud'] == 0]\n",
    "\n",
    "# Sample each class separately while maintaining proportions\n",
    "sampled_fraud_data = fraud_data.sample(frac=0.5, random_state=42)\n",
    "sampled_non_fraud_data = non_fraud_data.sample(frac=0.5, random_state=42)\n",
    "\n",
    "# Combine the sampled data back together\n",
    "data = pd.concat([sampled_fraud_data, sampled_non_fraud_data])\n",
    "\n"
   ]
  },
  {
   "cell_type": "markdown",
   "metadata": {
    "id": "h6jMxmWFu7oE"
   },
   "source": [
    "### Model Building"
   ]
  },
  {
   "cell_type": "code",
   "execution_count": 122,
   "metadata": {
    "colab": {
     "base_uri": "https://localhost:8080/"
    },
    "id": "EKdOUV3Mu7oE",
    "outputId": "68ac0c72-67a0-44d4-ba3f-a961ac8065c4"
   },
   "outputs": [
    {
     "name": "stdout",
     "output_type": "stream",
     "text": [
      "Training features shape: (259, 333)\n",
      "Test features shape: (65, 333)\n",
      "Training target shape: (259,)\n",
      "Test target shape: (65,)\n"
     ]
    }
   ],
   "source": [
    "from sklearn.model_selection import train_test_split\n",
    "from sklearn.preprocessing import StandardScaler\n",
    "\n",
    "# Perform scaling\n",
    "def preprocess_data(X):\n",
    "\n",
    "    # Initialize StandardScaler\n",
    "    scaler = StandardScaler()\n",
    "\n",
    "    # Scale the features\n",
    "    X_scaled = scaler.fit_transform(X)\n",
    "    return X_scaled\n",
    "\n",
    "# Splitting the dataset into features (X) and target variable (y)\n",
    "X = data.drop('fraud', axis=1)\n",
    "y = data['fraud']\n",
    "\n",
    "# Preprocess the features\n",
    "X_scaled = preprocess_data(X)\n",
    "\n",
    "# Split the preprocessed data into the Training set and Test set\n",
    "X_train, X_test, y_train, y_test = train_test_split(X_scaled, y, test_size=0.2, random_state=42)\n",
    "\n",
    "# Print the shapes of the training and test sets\n",
    "print(\"Training features shape:\", X_train.shape)\n",
    "print(\"Test features shape:\", X_test.shape)\n",
    "print(\"Training target shape:\", y_train.shape)\n",
    "print(\"Test target shape:\", y_test.shape)\n"
   ]
  },
  {
   "cell_type": "markdown",
   "metadata": {
    "id": "10ycTzP4u7oE"
   },
   "source": [
    "### Model performance before data balancing. i.e, with RAW data"
   ]
  },
  {
   "cell_type": "code",
   "execution_count": 127,
   "metadata": {},
   "outputs": [
    {
     "name": "stdout",
     "output_type": "stream",
     "text": [
      "Collecting xgboost\n",
      "  Downloading xgboost-3.0.0-py3-none-win_amd64.whl.metadata (2.1 kB)\n",
      "Requirement already satisfied: numpy in c:\\users\\ys467\\anaconda3\\lib\\site-packages (from xgboost) (1.26.4)\n",
      "Requirement already satisfied: scipy in c:\\users\\ys467\\anaconda3\\lib\\site-packages (from xgboost) (1.13.1)\n",
      "Downloading xgboost-3.0.0-py3-none-win_amd64.whl (150.0 MB)\n",
      "   ---------------------------------------- 0.0/150.0 MB ? eta -:--:--\n",
      "   ---------------------------------------- 0.0/150.0 MB 660.6 kB/s eta 0:03:47\n",
      "   ---------------------------------------- 0.5/150.0 MB 6.7 MB/s eta 0:00:23\n",
      "   ---------------------------------------- 1.6/150.0 MB 12.9 MB/s eta 0:00:12\n",
      "    --------------------------------------- 2.9/150.0 MB 16.6 MB/s eta 0:00:09\n",
      "   - -------------------------------------- 4.4/150.0 MB 20.0 MB/s eta 0:00:08\n",
      "   - -------------------------------------- 5.4/150.0 MB 20.1 MB/s eta 0:00:08\n",
      "   - -------------------------------------- 7.0/150.0 MB 22.2 MB/s eta 0:00:07\n",
      "   -- ------------------------------------- 8.2/150.0 MB 22.8 MB/s eta 0:00:07\n",
      "   -- ------------------------------------- 9.2/150.0 MB 22.6 MB/s eta 0:00:07\n",
      "   -- ------------------------------------- 9.7/150.0 MB 21.5 MB/s eta 0:00:07\n",
      "   -- ------------------------------------- 10.3/150.0 MB 22.6 MB/s eta 0:00:07\n",
      "   -- ------------------------------------- 10.9/150.0 MB 22.6 MB/s eta 0:00:07\n",
      "   --- ------------------------------------ 11.5/150.0 MB 21.1 MB/s eta 0:00:07\n",
      "   --- ------------------------------------ 12.2/150.0 MB 20.5 MB/s eta 0:00:07\n",
      "   --- ------------------------------------ 12.4/150.0 MB 19.2 MB/s eta 0:00:08\n",
      "   --- ------------------------------------ 12.9/150.0 MB 18.2 MB/s eta 0:00:08\n",
      "   --- ------------------------------------ 13.5/150.0 MB 17.3 MB/s eta 0:00:08\n",
      "   --- ------------------------------------ 14.1/150.0 MB 16.4 MB/s eta 0:00:09\n",
      "   --- ------------------------------------ 14.6/150.0 MB 15.6 MB/s eta 0:00:09\n",
      "   ---- ----------------------------------- 15.2/150.0 MB 15.2 MB/s eta 0:00:09\n",
      "   ---- ----------------------------------- 15.7/150.0 MB 14.6 MB/s eta 0:00:10\n",
      "   ---- ----------------------------------- 16.3/150.0 MB 13.9 MB/s eta 0:00:10\n",
      "   ---- ----------------------------------- 16.8/150.0 MB 13.4 MB/s eta 0:00:10\n",
      "   ---- ----------------------------------- 17.2/150.0 MB 12.9 MB/s eta 0:00:11\n",
      "   ---- ----------------------------------- 17.6/150.0 MB 12.4 MB/s eta 0:00:11\n",
      "   ---- ----------------------------------- 18.0/150.0 MB 11.9 MB/s eta 0:00:12\n",
      "   ---- ----------------------------------- 18.4/150.0 MB 11.5 MB/s eta 0:00:12\n",
      "   ----- ---------------------------------- 18.8/150.0 MB 11.3 MB/s eta 0:00:12\n",
      "   ----- ---------------------------------- 19.3/150.0 MB 10.9 MB/s eta 0:00:12\n",
      "   ----- ---------------------------------- 19.8/150.0 MB 10.9 MB/s eta 0:00:12\n",
      "   ----- ---------------------------------- 20.4/150.0 MB 10.9 MB/s eta 0:00:12\n",
      "   ----- ---------------------------------- 21.0/150.0 MB 10.9 MB/s eta 0:00:12\n",
      "   ----- ---------------------------------- 21.4/150.0 MB 10.7 MB/s eta 0:00:12\n",
      "   ----- ---------------------------------- 21.8/150.0 MB 10.6 MB/s eta 0:00:13\n",
      "   ----- ---------------------------------- 22.2/150.0 MB 10.2 MB/s eta 0:00:13\n",
      "   ------ --------------------------------- 22.7/150.0 MB 10.4 MB/s eta 0:00:13\n",
      "   ------ --------------------------------- 23.1/150.0 MB 10.4 MB/s eta 0:00:13\n",
      "   ------ --------------------------------- 23.5/150.0 MB 10.2 MB/s eta 0:00:13\n",
      "   ------ --------------------------------- 23.9/150.0 MB 10.1 MB/s eta 0:00:13\n",
      "   ------ --------------------------------- 24.2/150.0 MB 9.9 MB/s eta 0:00:13\n",
      "   ------ --------------------------------- 24.6/150.0 MB 9.6 MB/s eta 0:00:14\n",
      "   ------ --------------------------------- 24.9/150.0 MB 9.6 MB/s eta 0:00:13\n",
      "   ------ --------------------------------- 25.3/150.0 MB 9.5 MB/s eta 0:00:14\n",
      "   ------ --------------------------------- 25.7/150.0 MB 9.4 MB/s eta 0:00:14\n",
      "   ------ --------------------------------- 26.1/150.0 MB 9.2 MB/s eta 0:00:14\n",
      "   ------- -------------------------------- 26.5/150.0 MB 9.1 MB/s eta 0:00:14\n",
      "   ------- -------------------------------- 26.9/150.0 MB 9.0 MB/s eta 0:00:14\n",
      "   ------- -------------------------------- 27.2/150.0 MB 8.8 MB/s eta 0:00:14\n",
      "   ------- -------------------------------- 27.5/150.0 MB 8.8 MB/s eta 0:00:14\n",
      "   ------- -------------------------------- 27.9/150.0 MB 8.7 MB/s eta 0:00:14\n",
      "   ------- -------------------------------- 28.2/150.0 MB 8.7 MB/s eta 0:00:14\n",
      "   ------- -------------------------------- 28.3/150.0 MB 8.5 MB/s eta 0:00:15\n",
      "   ------- -------------------------------- 28.5/150.0 MB 8.3 MB/s eta 0:00:15\n",
      "   ------- -------------------------------- 28.7/150.0 MB 8.1 MB/s eta 0:00:15\n",
      "   ------- -------------------------------- 28.9/150.0 MB 8.0 MB/s eta 0:00:16\n",
      "   ------- -------------------------------- 29.0/150.0 MB 7.7 MB/s eta 0:00:16\n",
      "   ------- -------------------------------- 29.2/150.0 MB 7.6 MB/s eta 0:00:16\n",
      "   ------- -------------------------------- 29.4/150.0 MB 7.4 MB/s eta 0:00:17\n",
      "   ------- -------------------------------- 29.7/150.0 MB 7.3 MB/s eta 0:00:17\n",
      "   ------- -------------------------------- 29.9/150.0 MB 7.2 MB/s eta 0:00:17\n",
      "   -------- ------------------------------- 30.1/150.0 MB 7.0 MB/s eta 0:00:18\n",
      "   -------- ------------------------------- 30.3/150.0 MB 6.8 MB/s eta 0:00:18\n",
      "   -------- ------------------------------- 30.5/150.0 MB 6.7 MB/s eta 0:00:18\n",
      "   -------- ------------------------------- 30.7/150.0 MB 6.6 MB/s eta 0:00:19\n",
      "   -------- ------------------------------- 31.0/150.0 MB 6.5 MB/s eta 0:00:19\n",
      "   -------- ------------------------------- 31.3/150.0 MB 6.4 MB/s eta 0:00:19\n",
      "   -------- ------------------------------- 31.6/150.0 MB 6.4 MB/s eta 0:00:19\n",
      "   -------- ------------------------------- 31.9/150.0 MB 6.3 MB/s eta 0:00:19\n",
      "   -------- ------------------------------- 32.2/150.0 MB 6.2 MB/s eta 0:00:19\n",
      "   -------- ------------------------------- 32.5/150.0 MB 6.2 MB/s eta 0:00:20\n",
      "   -------- ------------------------------- 32.8/150.0 MB 6.2 MB/s eta 0:00:19\n",
      "   -------- ------------------------------- 33.2/150.0 MB 6.2 MB/s eta 0:00:19\n",
      "   -------- ------------------------------- 33.6/150.0 MB 6.1 MB/s eta 0:00:20\n",
      "   --------- ------------------------------ 34.0/150.0 MB 6.1 MB/s eta 0:00:19\n",
      "   --------- ------------------------------ 34.4/150.0 MB 6.2 MB/s eta 0:00:19\n",
      "   --------- ------------------------------ 34.8/150.0 MB 6.2 MB/s eta 0:00:19\n",
      "   --------- ------------------------------ 35.3/150.0 MB 6.3 MB/s eta 0:00:19\n",
      "   --------- ------------------------------ 35.7/150.0 MB 6.3 MB/s eta 0:00:19\n",
      "   --------- ------------------------------ 36.1/150.0 MB 6.3 MB/s eta 0:00:19\n",
      "   --------- ------------------------------ 36.4/150.0 MB 6.2 MB/s eta 0:00:19\n",
      "   --------- ------------------------------ 36.8/150.0 MB 6.2 MB/s eta 0:00:19\n",
      "   --------- ------------------------------ 37.0/150.0 MB 6.2 MB/s eta 0:00:19\n",
      "   --------- ------------------------------ 37.3/150.0 MB 6.2 MB/s eta 0:00:19\n",
      "   ---------- ----------------------------- 37.6/150.0 MB 6.2 MB/s eta 0:00:19\n",
      "   ---------- ----------------------------- 37.9/150.0 MB 6.1 MB/s eta 0:00:19\n",
      "   ---------- ----------------------------- 38.3/150.0 MB 6.2 MB/s eta 0:00:19\n",
      "   ---------- ----------------------------- 38.6/150.0 MB 6.2 MB/s eta 0:00:18\n",
      "   ---------- ----------------------------- 38.9/150.0 MB 6.4 MB/s eta 0:00:18\n",
      "   ---------- ----------------------------- 39.3/150.0 MB 6.7 MB/s eta 0:00:17\n",
      "   ---------- ----------------------------- 39.7/150.0 MB 6.8 MB/s eta 0:00:17\n",
      "   ---------- ----------------------------- 40.1/150.0 MB 7.1 MB/s eta 0:00:16\n",
      "   ---------- ----------------------------- 40.6/150.0 MB 7.4 MB/s eta 0:00:15\n",
      "   ---------- ----------------------------- 40.9/150.0 MB 7.4 MB/s eta 0:00:15\n",
      "   ----------- ---------------------------- 41.4/150.0 MB 7.7 MB/s eta 0:00:15\n",
      "   ----------- ---------------------------- 41.9/150.0 MB 7.9 MB/s eta 0:00:14\n",
      "   ----------- ---------------------------- 42.3/150.0 MB 8.1 MB/s eta 0:00:14\n",
      "   ----------- ---------------------------- 42.6/150.0 MB 8.1 MB/s eta 0:00:14\n",
      "   ----------- ---------------------------- 43.1/150.0 MB 8.1 MB/s eta 0:00:14\n",
      "   ----------- ---------------------------- 43.8/150.0 MB 8.4 MB/s eta 0:00:13\n",
      "   ----------- ---------------------------- 44.5/150.0 MB 8.6 MB/s eta 0:00:13\n",
      "   ------------ --------------------------- 45.2/150.0 MB 8.8 MB/s eta 0:00:12\n",
      "   ------------ --------------------------- 45.9/150.0 MB 9.0 MB/s eta 0:00:12\n",
      "   ------------ --------------------------- 46.6/150.0 MB 9.4 MB/s eta 0:00:12\n",
      "   ------------ --------------------------- 47.2/150.0 MB 9.9 MB/s eta 0:00:11\n",
      "   ------------ --------------------------- 47.6/150.0 MB 10.1 MB/s eta 0:00:11\n",
      "   ------------ --------------------------- 48.1/150.0 MB 10.4 MB/s eta 0:00:10\n",
      "   ------------ --------------------------- 48.5/150.0 MB 10.4 MB/s eta 0:00:10\n",
      "   ------------- -------------------------- 48.9/150.0 MB 10.4 MB/s eta 0:00:10\n",
      "   ------------- -------------------------- 49.2/150.0 MB 10.4 MB/s eta 0:00:10\n",
      "   ------------- -------------------------- 49.6/150.0 MB 10.4 MB/s eta 0:00:10\n",
      "   ------------- -------------------------- 50.0/150.0 MB 10.4 MB/s eta 0:00:10\n",
      "   ------------- -------------------------- 50.3/150.0 MB 10.4 MB/s eta 0:00:10\n",
      "   ------------- -------------------------- 50.7/150.0 MB 10.2 MB/s eta 0:00:10\n",
      "   ------------- -------------------------- 51.0/150.0 MB 10.4 MB/s eta 0:00:10\n",
      "   ------------- -------------------------- 51.4/150.0 MB 10.2 MB/s eta 0:00:10\n",
      "   ------------- -------------------------- 51.7/150.0 MB 10.1 MB/s eta 0:00:10\n",
      "   ------------- -------------------------- 51.8/150.0 MB 9.8 MB/s eta 0:00:11\n",
      "   ------------- -------------------------- 51.9/150.0 MB 9.5 MB/s eta 0:00:11\n",
      "   ------------- -------------------------- 52.1/150.0 MB 9.1 MB/s eta 0:00:11\n",
      "   ------------- -------------------------- 52.2/150.0 MB 8.7 MB/s eta 0:00:12\n",
      "   ------------- -------------------------- 52.4/150.0 MB 8.5 MB/s eta 0:00:12\n",
      "   ------------- -------------------------- 52.5/150.0 MB 8.4 MB/s eta 0:00:12\n",
      "   -------------- ------------------------- 52.6/150.0 MB 8.3 MB/s eta 0:00:12\n",
      "   -------------- ------------------------- 52.7/150.0 MB 8.1 MB/s eta 0:00:13\n",
      "   -------------- ------------------------- 52.9/150.0 MB 7.9 MB/s eta 0:00:13\n",
      "   -------------- ------------------------- 53.1/150.0 MB 7.8 MB/s eta 0:00:13\n",
      "   -------------- ------------------------- 53.3/150.0 MB 7.5 MB/s eta 0:00:13\n",
      "   -------------- ------------------------- 53.5/150.0 MB 7.4 MB/s eta 0:00:14\n",
      "   -------------- ------------------------- 53.7/150.0 MB 7.2 MB/s eta 0:00:14\n",
      "   -------------- ------------------------- 54.0/150.0 MB 7.1 MB/s eta 0:00:14\n",
      "   -------------- ------------------------- 54.2/150.0 MB 7.0 MB/s eta 0:00:14\n",
      "   -------------- ------------------------- 54.5/150.0 MB 6.8 MB/s eta 0:00:15\n",
      "   -------------- ------------------------- 54.6/150.0 MB 6.7 MB/s eta 0:00:15\n",
      "   -------------- ------------------------- 54.9/150.0 MB 6.5 MB/s eta 0:00:15\n",
      "   -------------- ------------------------- 55.2/150.0 MB 6.4 MB/s eta 0:00:15\n",
      "   -------------- ------------------------- 55.4/150.0 MB 6.3 MB/s eta 0:00:16\n",
      "   -------------- ------------------------- 55.6/150.0 MB 6.1 MB/s eta 0:00:16\n",
      "   -------------- ------------------------- 55.9/150.0 MB 6.1 MB/s eta 0:00:16\n",
      "   --------------- ------------------------ 56.3/150.0 MB 6.0 MB/s eta 0:00:16\n",
      "   --------------- ------------------------ 56.7/150.0 MB 5.9 MB/s eta 0:00:16\n",
      "   --------------- ------------------------ 57.1/150.0 MB 5.8 MB/s eta 0:00:17\n",
      "   --------------- ------------------------ 57.5/150.0 MB 5.7 MB/s eta 0:00:17\n",
      "   --------------- ------------------------ 58.0/150.0 MB 5.8 MB/s eta 0:00:16\n",
      "   --------------- ------------------------ 58.4/150.0 MB 5.8 MB/s eta 0:00:16\n",
      "   --------------- ------------------------ 58.9/150.0 MB 5.8 MB/s eta 0:00:16\n",
      "   --------------- ------------------------ 59.3/150.0 MB 5.8 MB/s eta 0:00:16\n",
      "   --------------- ------------------------ 59.6/150.0 MB 5.8 MB/s eta 0:00:16\n",
      "   ---------------- ----------------------- 60.0/150.0 MB 5.8 MB/s eta 0:00:16\n",
      "   ---------------- ----------------------- 60.5/150.0 MB 5.8 MB/s eta 0:00:16\n",
      "   ---------------- ----------------------- 60.9/150.0 MB 5.8 MB/s eta 0:00:16\n",
      "   ---------------- ----------------------- 61.3/150.0 MB 5.9 MB/s eta 0:00:16\n",
      "   ---------------- ----------------------- 61.8/150.0 MB 6.0 MB/s eta 0:00:15\n",
      "   ---------------- ----------------------- 62.3/150.0 MB 6.4 MB/s eta 0:00:14\n",
      "   ---------------- ----------------------- 62.8/150.0 MB 6.9 MB/s eta 0:00:13\n",
      "   ---------------- ----------------------- 63.3/150.0 MB 7.5 MB/s eta 0:00:12\n",
      "   ----------------- ---------------------- 64.0/150.0 MB 8.1 MB/s eta 0:00:11\n",
      "   ----------------- ---------------------- 64.6/150.0 MB 8.4 MB/s eta 0:00:11\n",
      "   ----------------- ---------------------- 65.2/150.0 MB 9.1 MB/s eta 0:00:10\n",
      "   ----------------- ---------------------- 65.5/150.0 MB 9.1 MB/s eta 0:00:10\n",
      "   ----------------- ---------------------- 65.8/150.0 MB 9.5 MB/s eta 0:00:09\n",
      "   ----------------- ---------------------- 66.2/150.0 MB 9.5 MB/s eta 0:00:09\n",
      "   ----------------- ---------------------- 66.7/150.0 MB 9.5 MB/s eta 0:00:09\n",
      "   ----------------- ---------------------- 67.0/150.0 MB 9.5 MB/s eta 0:00:09\n",
      "   ----------------- ---------------------- 67.3/150.0 MB 9.4 MB/s eta 0:00:09\n",
      "   ------------------ --------------------- 67.7/150.0 MB 9.4 MB/s eta 0:00:09\n",
      "   ------------------ --------------------- 68.0/150.0 MB 9.2 MB/s eta 0:00:09\n",
      "   ------------------ --------------------- 68.4/150.0 MB 9.1 MB/s eta 0:00:09\n",
      "   ------------------ --------------------- 68.7/150.0 MB 9.1 MB/s eta 0:00:09\n",
      "   ------------------ --------------------- 69.1/150.0 MB 9.0 MB/s eta 0:00:10\n",
      "   ------------------ --------------------- 69.5/150.0 MB 9.1 MB/s eta 0:00:09\n",
      "   ------------------ --------------------- 69.9/150.0 MB 9.1 MB/s eta 0:00:09\n",
      "   ------------------ --------------------- 70.2/150.0 MB 9.0 MB/s eta 0:00:09\n",
      "   ------------------ --------------------- 70.5/150.0 MB 8.8 MB/s eta 0:00:09\n",
      "   ------------------ --------------------- 70.8/150.0 MB 8.8 MB/s eta 0:00:09\n",
      "   ------------------ --------------------- 71.2/150.0 MB 8.7 MB/s eta 0:00:10\n",
      "   ------------------- -------------------- 71.5/150.0 MB 8.7 MB/s eta 0:00:09\n",
      "   ------------------- -------------------- 71.9/150.0 MB 8.6 MB/s eta 0:00:10\n",
      "   ------------------- -------------------- 72.3/150.0 MB 8.6 MB/s eta 0:00:10\n",
      "   ------------------- -------------------- 72.7/150.0 MB 8.5 MB/s eta 0:00:10\n",
      "   ------------------- -------------------- 73.1/150.0 MB 8.4 MB/s eta 0:00:10\n",
      "   ------------------- -------------------- 73.3/150.0 MB 8.2 MB/s eta 0:00:10\n",
      "   ------------------- -------------------- 73.5/150.0 MB 8.2 MB/s eta 0:00:10\n",
      "   ------------------- -------------------- 73.7/150.0 MB 7.9 MB/s eta 0:00:10\n",
      "   ------------------- -------------------- 73.9/150.0 MB 7.7 MB/s eta 0:00:10\n",
      "   ------------------- -------------------- 74.1/150.0 MB 7.4 MB/s eta 0:00:11\n",
      "   ------------------- -------------------- 74.3/150.0 MB 7.4 MB/s eta 0:00:11\n",
      "   ------------------- -------------------- 74.6/150.0 MB 7.2 MB/s eta 0:00:11\n",
      "   ------------------- -------------------- 74.9/150.0 MB 7.0 MB/s eta 0:00:11\n",
      "   -------------------- ------------------- 75.2/150.0 MB 7.0 MB/s eta 0:00:11\n",
      "   -------------------- ------------------- 75.5/150.0 MB 6.9 MB/s eta 0:00:11\n",
      "   -------------------- ------------------- 75.8/150.0 MB 6.9 MB/s eta 0:00:11\n",
      "   -------------------- ------------------- 76.2/150.0 MB 6.9 MB/s eta 0:00:11\n",
      "   -------------------- ------------------- 76.6/150.0 MB 6.9 MB/s eta 0:00:11\n",
      "   -------------------- ------------------- 76.9/150.0 MB 6.9 MB/s eta 0:00:11\n",
      "   -------------------- ------------------- 77.3/150.0 MB 6.9 MB/s eta 0:00:11\n",
      "   -------------------- ------------------- 77.6/150.0 MB 6.8 MB/s eta 0:00:11\n",
      "   -------------------- ------------------- 77.9/150.0 MB 6.8 MB/s eta 0:00:11\n",
      "   -------------------- ------------------- 78.2/150.0 MB 6.8 MB/s eta 0:00:11\n",
      "   -------------------- ------------------- 78.6/150.0 MB 6.8 MB/s eta 0:00:11\n",
      "   --------------------- ------------------ 78.9/150.0 MB 6.7 MB/s eta 0:00:11\n",
      "   --------------------- ------------------ 79.2/150.0 MB 6.7 MB/s eta 0:00:11\n",
      "   --------------------- ------------------ 79.6/150.0 MB 6.7 MB/s eta 0:00:11\n",
      "   --------------------- ------------------ 80.0/150.0 MB 6.7 MB/s eta 0:00:11\n",
      "   --------------------- ------------------ 80.4/150.0 MB 6.7 MB/s eta 0:00:11\n",
      "   --------------------- ------------------ 80.8/150.0 MB 6.8 MB/s eta 0:00:11\n",
      "   --------------------- ------------------ 81.2/150.0 MB 6.9 MB/s eta 0:00:10\n",
      "   --------------------- ------------------ 81.7/150.0 MB 7.0 MB/s eta 0:00:10\n",
      "   --------------------- ------------------ 82.1/150.0 MB 7.1 MB/s eta 0:00:10\n",
      "   ---------------------- ----------------- 82.7/150.0 MB 7.1 MB/s eta 0:00:10\n",
      "   ---------------------- ----------------- 83.4/150.0 MB 7.3 MB/s eta 0:00:10\n",
      "   ---------------------- ----------------- 83.9/150.0 MB 7.8 MB/s eta 0:00:09\n",
      "   ---------------------- ----------------- 84.5/150.0 MB 8.3 MB/s eta 0:00:08\n",
      "   ---------------------- ----------------- 85.2/150.0 MB 8.8 MB/s eta 0:00:08\n",
      "   ---------------------- ----------------- 85.9/150.0 MB 9.4 MB/s eta 0:00:07\n",
      "   ----------------------- ---------------- 86.7/150.0 MB 9.8 MB/s eta 0:00:07\n",
      "   ----------------------- ---------------- 87.4/150.0 MB 10.1 MB/s eta 0:00:07\n",
      "   ----------------------- ---------------- 87.8/150.0 MB 10.2 MB/s eta 0:00:07\n",
      "   ----------------------- ---------------- 88.2/150.0 MB 10.4 MB/s eta 0:00:06\n",
      "   ----------------------- ---------------- 88.5/150.0 MB 10.4 MB/s eta 0:00:06\n",
      "   ----------------------- ---------------- 88.8/150.0 MB 10.6 MB/s eta 0:00:06\n",
      "   ----------------------- ---------------- 89.2/150.0 MB 10.6 MB/s eta 0:00:06\n",
      "   ----------------------- ---------------- 89.4/150.0 MB 10.4 MB/s eta 0:00:06\n",
      "   ----------------------- ---------------- 89.6/150.0 MB 10.2 MB/s eta 0:00:06\n",
      "   ----------------------- ---------------- 89.7/150.0 MB 9.8 MB/s eta 0:00:07\n",
      "   ----------------------- ---------------- 89.9/150.0 MB 9.6 MB/s eta 0:00:07\n",
      "   ------------------------ --------------- 90.2/150.0 MB 9.5 MB/s eta 0:00:07\n",
      "   ------------------------ --------------- 90.5/150.0 MB 9.5 MB/s eta 0:00:07\n",
      "   ------------------------ --------------- 90.9/150.0 MB 9.4 MB/s eta 0:00:07\n",
      "   ------------------------ --------------- 91.2/150.0 MB 9.2 MB/s eta 0:00:07\n",
      "   ------------------------ --------------- 91.4/150.0 MB 9.1 MB/s eta 0:00:07\n",
      "   ------------------------ --------------- 91.7/150.0 MB 9.0 MB/s eta 0:00:07\n",
      "   ------------------------ --------------- 92.1/150.0 MB 8.8 MB/s eta 0:00:07\n",
      "   ------------------------ --------------- 92.4/150.0 MB 8.7 MB/s eta 0:00:07\n",
      "   ------------------------ --------------- 92.7/150.0 MB 8.5 MB/s eta 0:00:07\n",
      "   ------------------------ --------------- 93.0/150.0 MB 8.4 MB/s eta 0:00:07\n",
      "   ------------------------ --------------- 93.3/150.0 MB 8.3 MB/s eta 0:00:07\n",
      "   ------------------------ --------------- 93.6/150.0 MB 8.1 MB/s eta 0:00:07\n",
      "   ------------------------- -------------- 93.9/150.0 MB 7.9 MB/s eta 0:00:08\n",
      "   ------------------------- -------------- 94.2/150.0 MB 7.9 MB/s eta 0:00:08\n",
      "   ------------------------- -------------- 94.7/150.0 MB 7.8 MB/s eta 0:00:08\n",
      "   ------------------------- -------------- 95.0/150.0 MB 7.6 MB/s eta 0:00:08\n",
      "   ------------------------- -------------- 95.3/150.0 MB 7.4 MB/s eta 0:00:08\n",
      "   ------------------------- -------------- 95.6/150.0 MB 7.4 MB/s eta 0:00:08\n",
      "   ------------------------- -------------- 96.0/150.0 MB 7.2 MB/s eta 0:00:08\n",
      "   ------------------------- -------------- 96.5/150.0 MB 7.1 MB/s eta 0:00:08\n",
      "   ------------------------- -------------- 96.9/150.0 MB 7.0 MB/s eta 0:00:08\n",
      "   ------------------------- -------------- 97.4/150.0 MB 7.0 MB/s eta 0:00:08\n",
      "   -------------------------- ------------- 97.7/150.0 MB 6.9 MB/s eta 0:00:08\n",
      "   -------------------------- ------------- 97.9/150.0 MB 6.7 MB/s eta 0:00:08\n",
      "   -------------------------- ------------- 98.4/150.0 MB 6.8 MB/s eta 0:00:08\n",
      "   -------------------------- ------------- 99.1/150.0 MB 7.0 MB/s eta 0:00:08\n",
      "   -------------------------- ------------- 99.6/150.0 MB 7.2 MB/s eta 0:00:08\n",
      "   -------------------------- ------------- 99.9/150.0 MB 7.5 MB/s eta 0:00:07\n",
      "   -------------------------- ------------- 100.3/150.0 MB 7.7 MB/s eta 0:00:07\n",
      "   -------------------------- ------------- 100.7/150.0 MB 7.7 MB/s eta 0:00:07\n",
      "   -------------------------- ------------- 101.1/150.0 MB 7.8 MB/s eta 0:00:07\n",
      "   --------------------------- ------------ 101.7/150.0 MB 8.2 MB/s eta 0:00:06\n",
      "   --------------------------- ------------ 102.2/150.0 MB 8.3 MB/s eta 0:00:06\n",
      "   --------------------------- ------------ 102.7/150.0 MB 8.5 MB/s eta 0:00:06\n",
      "   --------------------------- ------------ 103.2/150.0 MB 8.7 MB/s eta 0:00:06\n",
      "   --------------------------- ------------ 103.5/150.0 MB 8.8 MB/s eta 0:00:06\n",
      "   --------------------------- ------------ 104.0/150.0 MB 9.0 MB/s eta 0:00:06\n",
      "   --------------------------- ------------ 104.4/150.0 MB 9.0 MB/s eta 0:00:06\n",
      "   --------------------------- ------------ 104.8/150.0 MB 9.1 MB/s eta 0:00:05\n",
      "   ---------------------------- ----------- 105.2/150.0 MB 9.1 MB/s eta 0:00:05\n",
      "   ---------------------------- ----------- 105.7/150.0 MB 9.4 MB/s eta 0:00:05\n",
      "   ---------------------------- ----------- 106.2/150.0 MB 9.5 MB/s eta 0:00:05\n",
      "   ---------------------------- ----------- 106.8/150.0 MB 9.6 MB/s eta 0:00:05\n",
      "   ---------------------------- ----------- 107.3/150.0 MB 9.6 MB/s eta 0:00:05\n",
      "   ---------------------------- ----------- 107.9/150.0 MB 9.9 MB/s eta 0:00:05\n",
      "   ---------------------------- ---------- 108.6/150.0 MB 10.4 MB/s eta 0:00:04\n",
      "   ---------------------------- ---------- 109.3/150.0 MB 10.4 MB/s eta 0:00:04\n",
      "   ---------------------------- ---------- 109.8/150.0 MB 10.4 MB/s eta 0:00:04\n",
      "   ---------------------------- ---------- 110.1/150.0 MB 10.4 MB/s eta 0:00:04\n",
      "   ---------------------------- ---------- 110.6/150.0 MB 10.6 MB/s eta 0:00:04\n",
      "   ---------------------------- ---------- 111.0/150.0 MB 10.6 MB/s eta 0:00:04\n",
      "   ---------------------------- ---------- 111.2/150.0 MB 10.2 MB/s eta 0:00:04\n",
      "   ---------------------------- ---------- 111.5/150.0 MB 10.1 MB/s eta 0:00:04\n",
      "   ----------------------------- ---------- 111.8/150.0 MB 9.9 MB/s eta 0:00:04\n",
      "   ----------------------------- ---------- 112.1/150.0 MB 9.8 MB/s eta 0:00:04\n",
      "   ----------------------------- ---------- 112.4/150.0 MB 9.6 MB/s eta 0:00:04\n",
      "   ------------------------------ --------- 112.7/150.0 MB 9.4 MB/s eta 0:00:04\n",
      "   ------------------------------ --------- 113.0/150.0 MB 9.2 MB/s eta 0:00:05\n",
      "   ------------------------------ --------- 113.2/150.0 MB 9.0 MB/s eta 0:00:05\n",
      "   ------------------------------ --------- 113.5/150.0 MB 8.8 MB/s eta 0:00:05\n",
      "   ------------------------------ --------- 113.7/150.0 MB 8.7 MB/s eta 0:00:05\n",
      "   ------------------------------ --------- 113.9/150.0 MB 8.6 MB/s eta 0:00:05\n",
      "   ------------------------------ --------- 114.2/150.0 MB 8.4 MB/s eta 0:00:05\n",
      "   ------------------------------ --------- 114.4/150.0 MB 8.3 MB/s eta 0:00:05\n",
      "   ------------------------------ --------- 114.5/150.0 MB 8.1 MB/s eta 0:00:05\n",
      "   ------------------------------ --------- 114.7/150.0 MB 7.9 MB/s eta 0:00:05\n",
      "   ------------------------------ --------- 114.9/150.0 MB 7.7 MB/s eta 0:00:05\n",
      "   ------------------------------ --------- 115.1/150.0 MB 7.6 MB/s eta 0:00:05\n",
      "   ------------------------------ --------- 115.2/150.0 MB 7.4 MB/s eta 0:00:05\n",
      "   ------------------------------ --------- 115.5/150.0 MB 7.4 MB/s eta 0:00:05\n",
      "   ------------------------------ --------- 115.7/150.0 MB 7.2 MB/s eta 0:00:05\n",
      "   ------------------------------ --------- 116.0/150.0 MB 7.1 MB/s eta 0:00:05\n",
      "   ------------------------------- -------- 116.3/150.0 MB 7.0 MB/s eta 0:00:05\n",
      "   ------------------------------- -------- 116.6/150.0 MB 6.9 MB/s eta 0:00:05\n",
      "   ------------------------------- -------- 116.9/150.0 MB 6.8 MB/s eta 0:00:05\n",
      "   ------------------------------- -------- 117.2/150.0 MB 6.7 MB/s eta 0:00:05\n",
      "   ------------------------------- -------- 117.6/150.0 MB 6.6 MB/s eta 0:00:05\n",
      "   ------------------------------- -------- 117.9/150.0 MB 6.5 MB/s eta 0:00:05\n",
      "   ------------------------------- -------- 118.2/150.0 MB 6.5 MB/s eta 0:00:05\n",
      "   ------------------------------- -------- 118.5/150.0 MB 6.4 MB/s eta 0:00:05\n",
      "   ------------------------------- -------- 118.6/150.0 MB 6.2 MB/s eta 0:00:06\n",
      "   ------------------------------- -------- 118.7/150.0 MB 6.1 MB/s eta 0:00:06\n",
      "   ------------------------------- -------- 118.9/150.0 MB 6.0 MB/s eta 0:00:06\n",
      "   ------------------------------- -------- 119.2/150.0 MB 5.8 MB/s eta 0:00:06\n",
      "   ------------------------------- -------- 119.5/150.0 MB 5.8 MB/s eta 0:00:06\n",
      "   ------------------------------- -------- 119.9/150.0 MB 5.7 MB/s eta 0:00:06\n",
      "   -------------------------------- ------- 120.2/150.0 MB 5.7 MB/s eta 0:00:06\n",
      "   -------------------------------- ------- 120.6/150.0 MB 5.7 MB/s eta 0:00:06\n",
      "   -------------------------------- ------- 121.0/150.0 MB 5.6 MB/s eta 0:00:06\n",
      "   -------------------------------- ------- 121.4/150.0 MB 5.6 MB/s eta 0:00:06\n",
      "   -------------------------------- ------- 121.7/150.0 MB 5.8 MB/s eta 0:00:05\n",
      "   -------------------------------- ------- 122.2/150.0 MB 5.8 MB/s eta 0:00:05\n",
      "   -------------------------------- ------- 122.8/150.0 MB 6.0 MB/s eta 0:00:05\n",
      "   -------------------------------- ------- 123.3/150.0 MB 6.1 MB/s eta 0:00:05\n",
      "   --------------------------------- ------ 123.9/150.0 MB 6.4 MB/s eta 0:00:05\n",
      "   --------------------------------- ------ 124.4/150.0 MB 6.7 MB/s eta 0:00:04\n",
      "   --------------------------------- ------ 125.1/150.0 MB 7.2 MB/s eta 0:00:04\n",
      "   --------------------------------- ------ 125.7/150.0 MB 7.8 MB/s eta 0:00:04\n",
      "   --------------------------------- ------ 126.3/150.0 MB 8.2 MB/s eta 0:00:03\n",
      "   --------------------------------- ------ 126.6/150.0 MB 8.2 MB/s eta 0:00:03\n",
      "   --------------------------------- ------ 126.8/150.0 MB 8.1 MB/s eta 0:00:03\n",
      "   --------------------------------- ------ 127.0/150.0 MB 8.0 MB/s eta 0:00:03\n",
      "   --------------------------------- ------ 127.2/150.0 MB 7.9 MB/s eta 0:00:03\n",
      "   --------------------------------- ------ 127.4/150.0 MB 7.8 MB/s eta 0:00:03\n",
      "   ---------------------------------- ----- 127.7/150.0 MB 7.7 MB/s eta 0:00:03\n",
      "   ---------------------------------- ----- 128.0/150.0 MB 7.6 MB/s eta 0:00:03\n",
      "   ---------------------------------- ----- 128.2/150.0 MB 7.6 MB/s eta 0:00:03\n",
      "   ---------------------------------- ----- 128.5/150.0 MB 7.6 MB/s eta 0:00:03\n",
      "   ---------------------------------- ----- 128.9/150.0 MB 7.9 MB/s eta 0:00:03\n",
      "   ---------------------------------- ----- 129.2/150.0 MB 8.2 MB/s eta 0:00:03\n",
      "   ---------------------------------- ----- 129.5/150.0 MB 8.3 MB/s eta 0:00:03\n",
      "   ---------------------------------- ----- 129.9/150.0 MB 8.2 MB/s eta 0:00:03\n",
      "   ---------------------------------- ----- 130.3/150.0 MB 8.3 MB/s eta 0:00:03\n",
      "   ---------------------------------- ----- 130.7/150.0 MB 8.3 MB/s eta 0:00:03\n",
      "   ---------------------------------- ----- 131.0/150.0 MB 8.3 MB/s eta 0:00:03\n",
      "   ----------------------------------- ---- 131.5/150.0 MB 8.3 MB/s eta 0:00:03\n",
      "   ----------------------------------- ---- 132.0/150.0 MB 8.4 MB/s eta 0:00:03\n",
      "   ----------------------------------- ---- 132.4/150.0 MB 8.4 MB/s eta 0:00:03\n",
      "   ----------------------------------- ---- 132.7/150.0 MB 8.3 MB/s eta 0:00:03\n",
      "   ----------------------------------- ---- 133.1/150.0 MB 8.2 MB/s eta 0:00:03\n",
      "   ----------------------------------- ---- 133.5/150.0 MB 8.1 MB/s eta 0:00:03\n",
      "   ----------------------------------- ---- 133.8/150.0 MB 8.0 MB/s eta 0:00:03\n",
      "   ----------------------------------- ---- 134.2/150.0 MB 7.9 MB/s eta 0:00:03\n",
      "   ----------------------------------- ---- 134.6/150.0 MB 7.8 MB/s eta 0:00:02\n",
      "   ------------------------------------ --- 135.0/150.0 MB 7.7 MB/s eta 0:00:02\n",
      "   ------------------------------------ --- 135.5/150.0 MB 7.6 MB/s eta 0:00:02\n",
      "   ------------------------------------ --- 136.0/150.0 MB 7.6 MB/s eta 0:00:02\n",
      "   ------------------------------------ --- 136.6/150.0 MB 7.5 MB/s eta 0:00:02\n",
      "   ------------------------------------ --- 137.2/150.0 MB 8.0 MB/s eta 0:00:02\n",
      "   ------------------------------------ --- 137.8/150.0 MB 8.6 MB/s eta 0:00:02\n",
      "   ------------------------------------ --- 138.5/150.0 MB 9.1 MB/s eta 0:00:02\n",
      "   ------------------------------------- -- 139.3/150.0 MB 9.6 MB/s eta 0:00:02\n",
      "   ------------------------------------ -- 140.0/150.0 MB 10.2 MB/s eta 0:00:01\n",
      "   ------------------------------------ -- 140.8/150.0 MB 10.7 MB/s eta 0:00:01\n",
      "   ------------------------------------ -- 141.6/150.0 MB 11.3 MB/s eta 0:00:01\n",
      "   ------------------------------------- - 142.5/150.0 MB 11.9 MB/s eta 0:00:01\n",
      "   ------------------------------------- - 143.2/150.0 MB 12.6 MB/s eta 0:00:01\n",
      "   ------------------------------------- - 144.1/150.0 MB 13.9 MB/s eta 0:00:01\n",
      "   ------------------------------------- - 145.0/150.0 MB 14.9 MB/s eta 0:00:01\n",
      "   ------------------------------------- - 145.9/150.0 MB 16.0 MB/s eta 0:00:01\n",
      "   --------------------------------------  146.5/150.0 MB 16.0 MB/s eta 0:00:01\n",
      "   --------------------------------------  147.2/150.0 MB 16.4 MB/s eta 0:00:01\n",
      "   --------------------------------------  147.9/150.0 MB 16.4 MB/s eta 0:00:01\n",
      "   --------------------------------------  148.6/150.0 MB 16.4 MB/s eta 0:00:01\n",
      "   --------------------------------------  149.3/150.0 MB 16.4 MB/s eta 0:00:01\n",
      "   --------------------------------------  150.0/150.0 MB 16.4 MB/s eta 0:00:01\n",
      "   --------------------------------------  150.0/150.0 MB 16.4 MB/s eta 0:00:01\n",
      "   --------------------------------------  150.0/150.0 MB 16.4 MB/s eta 0:00:01\n",
      "   --------------------------------------  150.0/150.0 MB 16.4 MB/s eta 0:00:01\n",
      "   --------------------------------------  150.0/150.0 MB 16.4 MB/s eta 0:00:01\n",
      "   --------------------------------------  150.0/150.0 MB 16.4 MB/s eta 0:00:01\n",
      "   --------------------------------------  150.0/150.0 MB 16.4 MB/s eta 0:00:01\n",
      "   --------------------------------------  150.0/150.0 MB 16.4 MB/s eta 0:00:01\n",
      "   --------------------------------------  150.0/150.0 MB 16.4 MB/s eta 0:00:01\n",
      "   --------------------------------------  150.0/150.0 MB 16.4 MB/s eta 0:00:01\n",
      "   --------------------------------------  150.0/150.0 MB 16.4 MB/s eta 0:00:01\n",
      "   --------------------------------------  150.0/150.0 MB 16.4 MB/s eta 0:00:01\n",
      "   --------------------------------------  150.0/150.0 MB 16.4 MB/s eta 0:00:01\n",
      "   ---------------------------------------- 150.0/150.0 MB 8.4 MB/s eta 0:00:00\n",
      "Installing collected packages: xgboost\n",
      "Successfully installed xgboost-3.0.0\n"
     ]
    }
   ],
   "source": [
    "!pip install xgboost"
   ]
  },
  {
   "cell_type": "code",
   "execution_count": 129,
   "metadata": {
    "colab": {
     "base_uri": "https://localhost:8080/",
     "height": 236
    },
    "id": "LEIzczMqu7oE",
    "outputId": "f9e3cbb4-eda7-4824-ddba-265d76e124e3"
   },
   "outputs": [
    {
     "name": "stdout",
     "output_type": "stream",
     "text": [
      "Decision Tree:\n",
      "Random Forest:\n",
      "Gradient Boosting:\n",
      "XGBoost:\n"
     ]
    },
    {
     "data": {
      "text/html": [
       "<div>\n",
       "<style scoped>\n",
       "    .dataframe tbody tr th:only-of-type {\n",
       "        vertical-align: middle;\n",
       "    }\n",
       "\n",
       "    .dataframe tbody tr th {\n",
       "        vertical-align: top;\n",
       "    }\n",
       "\n",
       "    .dataframe thead th {\n",
       "        text-align: right;\n",
       "    }\n",
       "</style>\n",
       "<table border=\"1\" class=\"dataframe\">\n",
       "  <thead>\n",
       "    <tr style=\"text-align: right;\">\n",
       "      <th></th>\n",
       "      <th>Model</th>\n",
       "      <th>Accuracy</th>\n",
       "      <th>Precision</th>\n",
       "      <th>Recall</th>\n",
       "      <th>F1 Score</th>\n",
       "      <th>ROC AUC Score</th>\n",
       "    </tr>\n",
       "  </thead>\n",
       "  <tbody>\n",
       "    <tr>\n",
       "      <th>0</th>\n",
       "      <td>DecisionTreeClassifier</td>\n",
       "      <td>0.907692</td>\n",
       "      <td>0.8125</td>\n",
       "      <td>0.8125</td>\n",
       "      <td>0.812500</td>\n",
       "      <td>0.875638</td>\n",
       "    </tr>\n",
       "    <tr>\n",
       "      <th>1</th>\n",
       "      <td>RandomForestClassifier</td>\n",
       "      <td>0.923077</td>\n",
       "      <td>1.0000</td>\n",
       "      <td>0.6875</td>\n",
       "      <td>0.814815</td>\n",
       "      <td>0.843750</td>\n",
       "    </tr>\n",
       "    <tr>\n",
       "      <th>2</th>\n",
       "      <td>GradientBoostingClassifier</td>\n",
       "      <td>0.938462</td>\n",
       "      <td>0.8750</td>\n",
       "      <td>0.8750</td>\n",
       "      <td>0.875000</td>\n",
       "      <td>0.917092</td>\n",
       "    </tr>\n",
       "    <tr>\n",
       "      <th>3</th>\n",
       "      <td>XGBClassifier</td>\n",
       "      <td>0.969231</td>\n",
       "      <td>1.0000</td>\n",
       "      <td>0.8750</td>\n",
       "      <td>0.933333</td>\n",
       "      <td>0.937500</td>\n",
       "    </tr>\n",
       "  </tbody>\n",
       "</table>\n",
       "</div>"
      ],
      "text/plain": [
       "                        Model  Accuracy  Precision  Recall  F1 Score  \\\n",
       "0      DecisionTreeClassifier  0.907692     0.8125  0.8125  0.812500   \n",
       "1      RandomForestClassifier  0.923077     1.0000  0.6875  0.814815   \n",
       "2  GradientBoostingClassifier  0.938462     0.8750  0.8750  0.875000   \n",
       "3               XGBClassifier  0.969231     1.0000  0.8750  0.933333   \n",
       "\n",
       "   ROC AUC Score  \n",
       "0       0.875638  \n",
       "1       0.843750  \n",
       "2       0.917092  \n",
       "3       0.937500  "
      ]
     },
     "execution_count": 129,
     "metadata": {},
     "output_type": "execute_result"
    }
   ],
   "source": [
    "import pandas as pd\n",
    "from sklearn.model_selection import train_test_split\n",
    "from sklearn.metrics import accuracy_score, precision_score, recall_score, f1_score, roc_auc_score\n",
    "from sklearn.tree import DecisionTreeClassifier\n",
    "from sklearn.ensemble import RandomForestClassifier, GradientBoostingClassifier\n",
    "from xgboost import XGBClassifier  # Import XGBoost classifier\n",
    "\n",
    "# Assuming you have already loaded your data into X and y\n",
    "\n",
    "# Split the sampled data into training and testing sets with a test size of 30%\n",
    "X_train, X_test, y_train, y_test = train_test_split(X, y, test_size=0.2, random_state=42, stratify=y)\n",
    "\n",
    "# Define a function to evaluate a model and return a dictionary of metrics\n",
    "def evaluate_model(model, X_test, y_test):\n",
    "    # Calculate predictions\n",
    "    y_pred = model.predict(X_test)\n",
    "\n",
    "    # Compute metrics\n",
    "    accuracy = accuracy_score(y_test, y_pred)\n",
    "    precision = precision_score(y_test, y_pred)\n",
    "    recall = recall_score(y_test, y_pred)\n",
    "    f1 = f1_score(y_test, y_pred)\n",
    "    roc_auc = roc_auc_score(y_test, y_pred)\n",
    "\n",
    "    # Return metrics as a dictionary\n",
    "    return {\n",
    "        'Model': type(model).__name__,\n",
    "        'Accuracy': accuracy,\n",
    "        'Precision': precision,\n",
    "        'Recall': recall,\n",
    "        'F1 Score': f1,\n",
    "        'ROC AUC Score': roc_auc\n",
    "    }\n",
    "\n",
    "# Define models without Support Vector Machine (SVM)\n",
    "models = {\n",
    "    \"Decision Tree\": DecisionTreeClassifier(),\n",
    "    \"Random Forest\": RandomForestClassifier(),\n",
    "    \"Gradient Boosting\": GradientBoostingClassifier(),\n",
    "    \"XGBoost\": XGBClassifier(),  # Added XGBoost to the dictionary\n",
    "}\n",
    "\n",
    "# List to store evaluation results\n",
    "results = []\n",
    "\n",
    "# Model Training and Evaluation\n",
    "for model_name, model in models.items():\n",
    "    print(model_name + \":\")\n",
    "    model.fit(X_train, y_train)  # Assuming X_train, y_train are defined\n",
    "    metrics = evaluate_model(model, X_test, y_test)  # Assuming X_test, y_test are defined\n",
    "    results.append(metrics)\n",
    "\n",
    "# Create a DataFrame from the results\n",
    "df_results = pd.DataFrame(results)\n",
    "\n",
    "# Display the DataFrame\n",
    "df_results\n"
   ]
  },
  {
   "cell_type": "markdown",
   "metadata": {
    "id": "3h1bXRuBu7oE"
   },
   "source": [
    "### Inferences\n",
    "\n",
    "- **Accuracy**: All models achieved high accuracy, ranging from 90.76% to 96.92%, indicating their proficiency in classifying transactions. However, accuracy alone might not provide a complete picture, especially in cases of imbalanced datasets like fraud detection.\n",
    "\n",
    "- **Precision and Recall**: Precision measures the percentage of correctly predicted positive instances among all predicted positive instances, while recall measures the percentage of correctly predicted positive instances among all actual positive instances.\n",
    "\n",
    "- **F1 Score**: The F1 score, the harmonic mean of precision and recall, offers a balanced assessment of the model's performance. It is particularly useful in scenarios with class imbalance, such as fraud detection.\n",
    "\n",
    "- **ROC AUC Score**: The ROC AUC (Receiver Operating Characteristic Area Under the Curve) score evaluates the model's ability to discriminate between classes. Higher ROC AUC scores indicate better performance."
   ]
  },
  {
   "cell_type": "markdown",
   "metadata": {
    "id": "LN1Yqbeku7oF"
   },
   "source": [
    "## Balancing the data : There are two well-known techniques to deal with highly imbalanced datasets:\n",
    "    - Undersampling technique\n",
    "    - Oversampling(SMOTE)\n",
    "    - We attempted the undersampling. However, due to its poor performance, we moved on to oversampling technique(SMOTE)"
   ]
  },
  {
   "cell_type": "markdown",
   "metadata": {
    "id": "qgD1LkFIu7oF"
   },
   "source": [
    "### Oversampling (SMOTE)"
   ]
  },
  {
   "cell_type": "code",
   "execution_count": 133,
   "metadata": {
    "id": "IMJTjxnZu7oF"
   },
   "outputs": [],
   "source": [
    "X = data.drop('fraud',axis=1)\n",
    "y = data['fraud']"
   ]
  },
  {
   "cell_type": "code",
   "execution_count": 135,
   "metadata": {
    "colab": {
     "base_uri": "https://localhost:8080/"
    },
    "id": "zbibES3bu7oF",
    "outputId": "fc125784-2372-4c60-b61d-f35842c323af"
   },
   "outputs": [
    {
     "data": {
      "text/plain": [
       "(324, 333)"
      ]
     },
     "execution_count": 135,
     "metadata": {},
     "output_type": "execute_result"
    }
   ],
   "source": [
    "X.shape"
   ]
  },
  {
   "cell_type": "code",
   "execution_count": 137,
   "metadata": {
    "colab": {
     "base_uri": "https://localhost:8080/"
    },
    "id": "11Ec9D8ju7oF",
    "outputId": "f235c951-6ca1-4eaf-b2c5-3b15796d9114"
   },
   "outputs": [
    {
     "data": {
      "text/plain": [
       "(324,)"
      ]
     },
     "execution_count": 137,
     "metadata": {},
     "output_type": "execute_result"
    }
   ],
   "source": [
    "y.shape"
   ]
  },
  {
   "cell_type": "code",
   "execution_count": 139,
   "metadata": {
    "colab": {
     "base_uri": "https://localhost:8080/"
    },
    "id": "o33DpD1Du7oF",
    "outputId": "b1fe6bd6-04e0-4ced-a3c4-5829e5eeeb47"
   },
   "outputs": [
    {
     "name": "stdout",
     "output_type": "stream",
     "text": [
      "fraud\n",
      "1    246\n",
      "0    246\n",
      "Name: count, dtype: int64\n"
     ]
    }
   ],
   "source": [
    "from imblearn.over_sampling import SMOTE\n",
    "\n",
    "# Using SMOTE to oversample the minority class\n",
    "X_res, y_res = SMOTE().fit_resample(X, y)\n",
    "\n",
    "# Print the count of each class after oversampling\n",
    "print(y_res.value_counts())\n"
   ]
  },
  {
   "cell_type": "markdown",
   "metadata": {
    "id": "j1o_Rvb9u7oF"
   },
   "source": [
    "## Model performance post data balancing"
   ]
  },
  {
   "cell_type": "code",
   "execution_count": 142,
   "metadata": {
    "colab": {
     "base_uri": "https://localhost:8080/",
     "height": 236
    },
    "id": "AziKaefGu7oF",
    "outputId": "769de0d5-ba91-41c3-a0b4-dbd78f14dbcf"
   },
   "outputs": [
    {
     "name": "stdout",
     "output_type": "stream",
     "text": [
      "Decision Tree:\n",
      "Random Forest:\n",
      "Gradient Boosting:\n",
      "XGBoost:\n"
     ]
    },
    {
     "data": {
      "text/html": [
       "<div>\n",
       "<style scoped>\n",
       "    .dataframe tbody tr th:only-of-type {\n",
       "        vertical-align: middle;\n",
       "    }\n",
       "\n",
       "    .dataframe tbody tr th {\n",
       "        vertical-align: top;\n",
       "    }\n",
       "\n",
       "    .dataframe thead th {\n",
       "        text-align: right;\n",
       "    }\n",
       "</style>\n",
       "<table border=\"1\" class=\"dataframe\">\n",
       "  <thead>\n",
       "    <tr style=\"text-align: right;\">\n",
       "      <th></th>\n",
       "      <th>Model</th>\n",
       "      <th>Accuracy</th>\n",
       "      <th>Precision</th>\n",
       "      <th>Recall</th>\n",
       "      <th>F1 Score</th>\n",
       "      <th>ROC AUC Score</th>\n",
       "    </tr>\n",
       "  </thead>\n",
       "  <tbody>\n",
       "    <tr>\n",
       "      <th>0</th>\n",
       "      <td>DecisionTreeClassifier</td>\n",
       "      <td>0.878788</td>\n",
       "      <td>0.836364</td>\n",
       "      <td>0.938776</td>\n",
       "      <td>0.884615</td>\n",
       "      <td>0.879388</td>\n",
       "    </tr>\n",
       "    <tr>\n",
       "      <th>1</th>\n",
       "      <td>RandomForestClassifier</td>\n",
       "      <td>0.949495</td>\n",
       "      <td>0.978261</td>\n",
       "      <td>0.918367</td>\n",
       "      <td>0.947368</td>\n",
       "      <td>0.949184</td>\n",
       "    </tr>\n",
       "    <tr>\n",
       "      <th>2</th>\n",
       "      <td>GradientBoostingClassifier</td>\n",
       "      <td>0.939394</td>\n",
       "      <td>0.957447</td>\n",
       "      <td>0.918367</td>\n",
       "      <td>0.937500</td>\n",
       "      <td>0.939184</td>\n",
       "    </tr>\n",
       "    <tr>\n",
       "      <th>3</th>\n",
       "      <td>XGBClassifier</td>\n",
       "      <td>0.949495</td>\n",
       "      <td>0.958333</td>\n",
       "      <td>0.938776</td>\n",
       "      <td>0.948454</td>\n",
       "      <td>0.949388</td>\n",
       "    </tr>\n",
       "  </tbody>\n",
       "</table>\n",
       "</div>"
      ],
      "text/plain": [
       "                        Model  Accuracy  Precision    Recall  F1 Score  \\\n",
       "0      DecisionTreeClassifier  0.878788   0.836364  0.938776  0.884615   \n",
       "1      RandomForestClassifier  0.949495   0.978261  0.918367  0.947368   \n",
       "2  GradientBoostingClassifier  0.939394   0.957447  0.918367  0.937500   \n",
       "3               XGBClassifier  0.949495   0.958333  0.938776  0.948454   \n",
       "\n",
       "   ROC AUC Score  \n",
       "0       0.879388  \n",
       "1       0.949184  \n",
       "2       0.939184  \n",
       "3       0.949388  "
      ]
     },
     "execution_count": 142,
     "metadata": {},
     "output_type": "execute_result"
    }
   ],
   "source": [
    "import pandas as pd\n",
    "from sklearn.model_selection import train_test_split\n",
    "from sklearn.metrics import accuracy_score, precision_score, recall_score, f1_score, roc_auc_score\n",
    "from sklearn.tree import DecisionTreeClassifier\n",
    "from sklearn.ensemble import RandomForestClassifier, GradientBoostingClassifier\n",
    "from xgboost import XGBClassifier  # Import XGBoost classifier\n",
    "\n",
    "# Define a function to evaluate a model and return a dictionary of metrics\n",
    "def evaluate_model(model, X_test, y_test):\n",
    "    # Calculate predictions\n",
    "    y_pred = model.predict(X_test)\n",
    "\n",
    "    # Compute metrics\n",
    "    accuracy = accuracy_score(y_test, y_pred)\n",
    "    precision = precision_score(y_test, y_pred)\n",
    "    recall = recall_score(y_test, y_pred)\n",
    "    f1 = f1_score(y_test, y_pred)\n",
    "    roc_auc = roc_auc_score(y_test, y_pred)\n",
    "\n",
    "    # Return metrics as a dictionary\n",
    "    return {\n",
    "        'Model': type(model).__name__,\n",
    "        'Accuracy': accuracy,\n",
    "        'Precision': precision,\n",
    "        'Recall': recall,\n",
    "        'F1 Score': f1,\n",
    "        'ROC AUC Score': roc_auc\n",
    "    }\n",
    "\n",
    "# Split the balanced data into training and testing sets with a test size of 20%\n",
    "X_train, X_test, y_train, y_test = train_test_split(X_res, y_res, test_size=0.2, random_state=42, stratify=y_res)\n",
    "\n",
    "# Define models\n",
    "models = {\n",
    "    \"Decision Tree\": DecisionTreeClassifier(),\n",
    "    \"Random Forest\": RandomForestClassifier(),\n",
    "    \"Gradient Boosting\": GradientBoostingClassifier(),\n",
    "    \"XGBoost\": XGBClassifier(),  # Added XGBoost to the dictionary\n",
    "}\n",
    "\n",
    "# List to store evaluation results\n",
    "results = []\n",
    "\n",
    "# Model Training and Evaluation\n",
    "for model_name, model in models.items():\n",
    "    print(model_name + \":\")\n",
    "    model.fit(X_train, y_train)  # Assuming X_train, y_train are defined\n",
    "    metrics = evaluate_model(model, X_test, y_test)  # Assuming X_test, y_test are defined\n",
    "    results.append(metrics)\n",
    "\n",
    "# Create a DataFrame from the results\n",
    "df_results = pd.DataFrame(results)\n",
    "\n",
    "# Display the DataFrame\n",
    "df_results\n"
   ]
  },
  {
   "cell_type": "markdown",
   "metadata": {
    "id": "6HvsgGauu7oF"
   },
   "source": [
    "### Inference:\n",
    "          XGBoost has the highest F1 Score: 99% across all metrics. Hence, it is the best model ouf of the four models tested for UPI fraud detection."
   ]
  },
  {
   "cell_type": "markdown",
   "metadata": {
    "id": "Uf3T9gZWu7oG"
   },
   "source": [
    "## XGBoost is known for its high performance and effeciency, and this model demonstrates excellent results across all the metrics."
   ]
  },
  {
   "cell_type": "markdown",
   "metadata": {
    "id": "HZJqcjXIu7oG"
   },
   "source": [
    "### Hyper Parameter Tuning :  using RandomizedSearch"
   ]
  },
  {
   "cell_type": "code",
   "execution_count": 156,
   "metadata": {
    "id": "flFlhuVDu7oG"
   },
   "outputs": [
    {
     "name": "stdout",
     "output_type": "stream",
     "text": [
      "Fitting 5 folds for each of 9 candidates, totalling 45 fits\n",
      "[CV] END ..................max_depth=10, min_samples_split=2; total time=   0.0s\n",
      "[CV] END ..................max_depth=10, min_samples_split=2; total time=   0.0s\n",
      "[CV] END ..................max_depth=10, min_samples_split=2; total time=   0.0s\n",
      "[CV] END ..................max_depth=10, min_samples_split=2; total time=   0.0s\n",
      "[CV] END ..................max_depth=10, min_samples_split=2; total time=   0.0s\n",
      "[CV] END ..................max_depth=10, min_samples_split=5; total time=   0.0s\n",
      "[CV] END ..................max_depth=10, min_samples_split=5; total time=   0.0s\n",
      "[CV] END ..................max_depth=10, min_samples_split=5; total time=   0.0s\n",
      "[CV] END ..................max_depth=10, min_samples_split=5; total time=   0.0s\n",
      "[CV] END ..................max_depth=10, min_samples_split=5; total time=   0.0s\n",
      "[CV] END .................max_depth=10, min_samples_split=10; total time=   0.0s\n",
      "[CV] END .................max_depth=10, min_samples_split=10; total time=   0.1s\n",
      "[CV] END .................max_depth=10, min_samples_split=10; total time=   0.0s\n",
      "[CV] END .................max_depth=10, min_samples_split=10; total time=   0.0s\n",
      "[CV] END .................max_depth=10, min_samples_split=10; total time=   0.0s\n",
      "[CV] END ..................max_depth=20, min_samples_split=2; total time=   0.0s\n",
      "[CV] END ..................max_depth=20, min_samples_split=2; total time=   0.0s\n",
      "[CV] END ..................max_depth=20, min_samples_split=2; total time=   0.0s\n",
      "[CV] END ..................max_depth=20, min_samples_split=2; total time=   0.0s\n",
      "[CV] END ..................max_depth=20, min_samples_split=2; total time=   0.0s\n",
      "[CV] END ..................max_depth=20, min_samples_split=5; total time=   0.0s\n",
      "[CV] END ..................max_depth=20, min_samples_split=5; total time=   0.0s\n",
      "[CV] END ..................max_depth=20, min_samples_split=5; total time=   0.0s\n",
      "[CV] END ..................max_depth=20, min_samples_split=5; total time=   0.0s\n",
      "[CV] END ..................max_depth=20, min_samples_split=5; total time=   0.0s\n",
      "[CV] END .................max_depth=20, min_samples_split=10; total time=   0.0s\n",
      "[CV] END .................max_depth=20, min_samples_split=10; total time=   0.0s\n",
      "[CV] END .................max_depth=20, min_samples_split=10; total time=   0.0s\n",
      "[CV] END .................max_depth=20, min_samples_split=10; total time=   0.0s\n",
      "[CV] END .................max_depth=20, min_samples_split=10; total time=   0.0s\n",
      "[CV] END ..................max_depth=50, min_samples_split=2; total time=   0.0s\n",
      "[CV] END ..................max_depth=50, min_samples_split=2; total time=   0.0s\n",
      "[CV] END ..................max_depth=50, min_samples_split=2; total time=   0.0s\n",
      "[CV] END ..................max_depth=50, min_samples_split=2; total time=   0.0s\n",
      "[CV] END ..................max_depth=50, min_samples_split=2; total time=   0.0s\n",
      "[CV] END ..................max_depth=50, min_samples_split=5; total time=   0.0s\n",
      "[CV] END ..................max_depth=50, min_samples_split=5; total time=   0.0s\n",
      "[CV] END ..................max_depth=50, min_samples_split=5; total time=   0.0s\n",
      "[CV] END ..................max_depth=50, min_samples_split=5; total time=   0.0s\n",
      "[CV] END ..................max_depth=50, min_samples_split=5; total time=   0.0s\n",
      "[CV] END .................max_depth=50, min_samples_split=10; total time=   0.0s\n",
      "[CV] END .................max_depth=50, min_samples_split=10; total time=   0.0s\n",
      "[CV] END .................max_depth=50, min_samples_split=10; total time=   0.0s\n",
      "[CV] END .................max_depth=50, min_samples_split=10; total time=   0.0s\n",
      "[CV] END .................max_depth=50, min_samples_split=10; total time=   0.0s\n",
      "Fitting 5 folds for each of 12 candidates, totalling 60 fits\n",
      "[CV] END .max_depth=10, min_samples_split=2, n_estimators=50; total time=   0.1s\n",
      "[CV] END .max_depth=10, min_samples_split=2, n_estimators=50; total time=   0.1s\n",
      "[CV] END .max_depth=10, min_samples_split=2, n_estimators=50; total time=   0.1s\n",
      "[CV] END .max_depth=10, min_samples_split=2, n_estimators=50; total time=   0.1s\n",
      "[CV] END .max_depth=10, min_samples_split=2, n_estimators=50; total time=   0.1s\n",
      "[CV] END max_depth=10, min_samples_split=2, n_estimators=100; total time=   0.2s\n",
      "[CV] END max_depth=10, min_samples_split=2, n_estimators=100; total time=   0.2s\n",
      "[CV] END max_depth=10, min_samples_split=2, n_estimators=100; total time=   0.2s\n",
      "[CV] END max_depth=10, min_samples_split=2, n_estimators=100; total time=   0.2s\n",
      "[CV] END max_depth=10, min_samples_split=2, n_estimators=100; total time=   0.2s\n",
      "[CV] END max_depth=10, min_samples_split=2, n_estimators=200; total time=   0.5s\n",
      "[CV] END max_depth=10, min_samples_split=2, n_estimators=200; total time=   0.5s\n",
      "[CV] END max_depth=10, min_samples_split=2, n_estimators=200; total time=   0.4s\n",
      "[CV] END max_depth=10, min_samples_split=2, n_estimators=200; total time=   0.3s\n",
      "[CV] END max_depth=10, min_samples_split=2, n_estimators=200; total time=   0.4s\n",
      "[CV] END .max_depth=10, min_samples_split=5, n_estimators=50; total time=   0.1s\n",
      "[CV] END .max_depth=10, min_samples_split=5, n_estimators=50; total time=   0.1s\n",
      "[CV] END .max_depth=10, min_samples_split=5, n_estimators=50; total time=   0.1s\n",
      "[CV] END .max_depth=10, min_samples_split=5, n_estimators=50; total time=   0.0s\n",
      "[CV] END .max_depth=10, min_samples_split=5, n_estimators=50; total time=   0.1s\n",
      "[CV] END max_depth=10, min_samples_split=5, n_estimators=100; total time=   0.1s\n",
      "[CV] END max_depth=10, min_samples_split=5, n_estimators=100; total time=   0.1s\n",
      "[CV] END max_depth=10, min_samples_split=5, n_estimators=100; total time=   0.2s\n",
      "[CV] END max_depth=10, min_samples_split=5, n_estimators=100; total time=   0.2s\n",
      "[CV] END max_depth=10, min_samples_split=5, n_estimators=100; total time=   0.2s\n",
      "[CV] END max_depth=10, min_samples_split=5, n_estimators=200; total time=   0.3s\n",
      "[CV] END max_depth=10, min_samples_split=5, n_estimators=200; total time=   0.4s\n",
      "[CV] END max_depth=10, min_samples_split=5, n_estimators=200; total time=   0.3s\n",
      "[CV] END max_depth=10, min_samples_split=5, n_estimators=200; total time=   0.4s\n",
      "[CV] END max_depth=10, min_samples_split=5, n_estimators=200; total time=   0.3s\n",
      "[CV] END .max_depth=20, min_samples_split=2, n_estimators=50; total time=   0.1s\n",
      "[CV] END .max_depth=20, min_samples_split=2, n_estimators=50; total time=   0.1s\n",
      "[CV] END .max_depth=20, min_samples_split=2, n_estimators=50; total time=   0.1s\n",
      "[CV] END .max_depth=20, min_samples_split=2, n_estimators=50; total time=   0.1s\n",
      "[CV] END .max_depth=20, min_samples_split=2, n_estimators=50; total time=   0.1s\n",
      "[CV] END max_depth=20, min_samples_split=2, n_estimators=100; total time=   0.2s\n",
      "[CV] END max_depth=20, min_samples_split=2, n_estimators=100; total time=   0.2s\n",
      "[CV] END max_depth=20, min_samples_split=2, n_estimators=100; total time=   0.2s\n",
      "[CV] END max_depth=20, min_samples_split=2, n_estimators=100; total time=   0.2s\n",
      "[CV] END max_depth=20, min_samples_split=2, n_estimators=100; total time=   0.2s\n",
      "[CV] END max_depth=20, min_samples_split=2, n_estimators=200; total time=   0.4s\n",
      "[CV] END max_depth=20, min_samples_split=2, n_estimators=200; total time=   0.4s\n",
      "[CV] END max_depth=20, min_samples_split=2, n_estimators=200; total time=   0.4s\n",
      "[CV] END max_depth=20, min_samples_split=2, n_estimators=200; total time=   0.4s\n",
      "[CV] END max_depth=20, min_samples_split=2, n_estimators=200; total time=   0.4s\n",
      "[CV] END .max_depth=20, min_samples_split=5, n_estimators=50; total time=   0.1s\n",
      "[CV] END .max_depth=20, min_samples_split=5, n_estimators=50; total time=   0.1s\n",
      "[CV] END .max_depth=20, min_samples_split=5, n_estimators=50; total time=   0.1s\n",
      "[CV] END .max_depth=20, min_samples_split=5, n_estimators=50; total time=   0.1s\n",
      "[CV] END .max_depth=20, min_samples_split=5, n_estimators=50; total time=   0.1s\n",
      "[CV] END max_depth=20, min_samples_split=5, n_estimators=100; total time=   0.2s\n",
      "[CV] END max_depth=20, min_samples_split=5, n_estimators=100; total time=   0.2s\n",
      "[CV] END max_depth=20, min_samples_split=5, n_estimators=100; total time=   0.2s\n",
      "[CV] END max_depth=20, min_samples_split=5, n_estimators=100; total time=   0.2s\n",
      "[CV] END max_depth=20, min_samples_split=5, n_estimators=100; total time=   0.2s\n",
      "[CV] END max_depth=20, min_samples_split=5, n_estimators=200; total time=   0.4s\n",
      "[CV] END max_depth=20, min_samples_split=5, n_estimators=200; total time=   0.4s\n",
      "[CV] END max_depth=20, min_samples_split=5, n_estimators=200; total time=   0.5s\n",
      "[CV] END max_depth=20, min_samples_split=5, n_estimators=200; total time=   0.4s\n",
      "[CV] END max_depth=20, min_samples_split=5, n_estimators=200; total time=   0.4s\n",
      "Fitting 5 folds for each of 8 candidates, totalling 40 fits\n",
      "[CV] END ...learning_rate=0.05, max_depth=3, n_estimators=50; total time=   0.1s\n",
      "[CV] END ...learning_rate=0.05, max_depth=3, n_estimators=50; total time=   0.1s\n",
      "[CV] END ...learning_rate=0.05, max_depth=3, n_estimators=50; total time=   0.1s\n",
      "[CV] END ...learning_rate=0.05, max_depth=3, n_estimators=50; total time=   0.1s\n",
      "[CV] END ...learning_rate=0.05, max_depth=3, n_estimators=50; total time=   0.1s\n",
      "[CV] END ..learning_rate=0.05, max_depth=3, n_estimators=100; total time=   0.2s\n",
      "[CV] END ..learning_rate=0.05, max_depth=3, n_estimators=100; total time=   0.2s\n",
      "[CV] END ..learning_rate=0.05, max_depth=3, n_estimators=100; total time=   0.3s\n",
      "[CV] END ..learning_rate=0.05, max_depth=3, n_estimators=100; total time=   0.2s\n",
      "[CV] END ..learning_rate=0.05, max_depth=3, n_estimators=100; total time=   0.2s\n",
      "[CV] END ...learning_rate=0.05, max_depth=5, n_estimators=50; total time=   0.2s\n",
      "[CV] END ...learning_rate=0.05, max_depth=5, n_estimators=50; total time=   0.2s\n",
      "[CV] END ...learning_rate=0.05, max_depth=5, n_estimators=50; total time=   0.2s\n",
      "[CV] END ...learning_rate=0.05, max_depth=5, n_estimators=50; total time=   0.2s\n",
      "[CV] END ...learning_rate=0.05, max_depth=5, n_estimators=50; total time=   0.2s\n",
      "[CV] END ..learning_rate=0.05, max_depth=5, n_estimators=100; total time=   0.4s\n",
      "[CV] END ..learning_rate=0.05, max_depth=5, n_estimators=100; total time=   0.4s\n",
      "[CV] END ..learning_rate=0.05, max_depth=5, n_estimators=100; total time=   0.4s\n",
      "[CV] END ..learning_rate=0.05, max_depth=5, n_estimators=100; total time=   0.4s\n",
      "[CV] END ..learning_rate=0.05, max_depth=5, n_estimators=100; total time=   0.4s\n",
      "[CV] END ....learning_rate=0.1, max_depth=3, n_estimators=50; total time=   0.1s\n",
      "[CV] END ....learning_rate=0.1, max_depth=3, n_estimators=50; total time=   0.1s\n",
      "[CV] END ....learning_rate=0.1, max_depth=3, n_estimators=50; total time=   0.1s\n",
      "[CV] END ....learning_rate=0.1, max_depth=3, n_estimators=50; total time=   0.1s\n",
      "[CV] END ....learning_rate=0.1, max_depth=3, n_estimators=50; total time=   0.1s\n",
      "[CV] END ...learning_rate=0.1, max_depth=3, n_estimators=100; total time=   0.2s\n",
      "[CV] END ...learning_rate=0.1, max_depth=3, n_estimators=100; total time=   0.3s\n",
      "[CV] END ...learning_rate=0.1, max_depth=3, n_estimators=100; total time=   0.2s\n",
      "[CV] END ...learning_rate=0.1, max_depth=3, n_estimators=100; total time=   0.2s\n",
      "[CV] END ...learning_rate=0.1, max_depth=3, n_estimators=100; total time=   0.2s\n",
      "[CV] END ....learning_rate=0.1, max_depth=5, n_estimators=50; total time=   0.2s\n",
      "[CV] END ....learning_rate=0.1, max_depth=5, n_estimators=50; total time=   0.2s\n",
      "[CV] END ....learning_rate=0.1, max_depth=5, n_estimators=50; total time=   0.2s\n",
      "[CV] END ....learning_rate=0.1, max_depth=5, n_estimators=50; total time=   0.2s\n",
      "[CV] END ....learning_rate=0.1, max_depth=5, n_estimators=50; total time=   0.2s\n",
      "[CV] END ...learning_rate=0.1, max_depth=5, n_estimators=100; total time=   0.4s\n",
      "[CV] END ...learning_rate=0.1, max_depth=5, n_estimators=100; total time=   0.4s\n",
      "[CV] END ...learning_rate=0.1, max_depth=5, n_estimators=100; total time=   0.4s\n",
      "[CV] END ...learning_rate=0.1, max_depth=5, n_estimators=100; total time=   0.4s\n",
      "[CV] END ...learning_rate=0.1, max_depth=5, n_estimators=100; total time=   0.4s\n",
      "Fitting 5 folds for each of 8 candidates, totalling 40 fits\n",
      "[CV] END ...learning_rate=0.05, max_depth=3, n_estimators=50; total time=   0.2s\n",
      "[CV] END ...learning_rate=0.05, max_depth=3, n_estimators=50; total time=   0.2s\n",
      "[CV] END ...learning_rate=0.05, max_depth=3, n_estimators=50; total time=   0.2s\n",
      "[CV] END ...learning_rate=0.05, max_depth=3, n_estimators=50; total time=   0.2s\n",
      "[CV] END ...learning_rate=0.05, max_depth=3, n_estimators=50; total time=   0.2s\n",
      "[CV] END ..learning_rate=0.05, max_depth=3, n_estimators=100; total time=   0.3s\n",
      "[CV] END ..learning_rate=0.05, max_depth=3, n_estimators=100; total time=   0.3s\n",
      "[CV] END ..learning_rate=0.05, max_depth=3, n_estimators=100; total time=   0.4s\n",
      "[CV] END ..learning_rate=0.05, max_depth=3, n_estimators=100; total time=   0.3s\n",
      "[CV] END ..learning_rate=0.05, max_depth=3, n_estimators=100; total time=   0.3s\n",
      "[CV] END ...learning_rate=0.05, max_depth=5, n_estimators=50; total time=   0.2s\n",
      "[CV] END ...learning_rate=0.05, max_depth=5, n_estimators=50; total time=   0.2s\n",
      "[CV] END ...learning_rate=0.05, max_depth=5, n_estimators=50; total time=   0.2s\n",
      "[CV] END ...learning_rate=0.05, max_depth=5, n_estimators=50; total time=   0.2s\n",
      "[CV] END ...learning_rate=0.05, max_depth=5, n_estimators=50; total time=   0.2s\n",
      "[CV] END ..learning_rate=0.05, max_depth=5, n_estimators=100; total time=   0.4s\n",
      "[CV] END ..learning_rate=0.05, max_depth=5, n_estimators=100; total time=   0.4s\n",
      "[CV] END ..learning_rate=0.05, max_depth=5, n_estimators=100; total time=   0.5s\n",
      "[CV] END ..learning_rate=0.05, max_depth=5, n_estimators=100; total time=   0.4s\n",
      "[CV] END ..learning_rate=0.05, max_depth=5, n_estimators=100; total time=   0.4s\n",
      "[CV] END ....learning_rate=0.1, max_depth=3, n_estimators=50; total time=   0.2s\n",
      "[CV] END ....learning_rate=0.1, max_depth=3, n_estimators=50; total time=   0.2s\n",
      "[CV] END ....learning_rate=0.1, max_depth=3, n_estimators=50; total time=   0.2s\n",
      "[CV] END ....learning_rate=0.1, max_depth=3, n_estimators=50; total time=   0.2s\n",
      "[CV] END ....learning_rate=0.1, max_depth=3, n_estimators=50; total time=   0.2s\n",
      "[CV] END ...learning_rate=0.1, max_depth=3, n_estimators=100; total time=   0.3s\n",
      "[CV] END ...learning_rate=0.1, max_depth=3, n_estimators=100; total time=   0.4s\n",
      "[CV] END ...learning_rate=0.1, max_depth=3, n_estimators=100; total time=   0.3s\n",
      "[CV] END ...learning_rate=0.1, max_depth=3, n_estimators=100; total time=   0.3s\n",
      "[CV] END ...learning_rate=0.1, max_depth=3, n_estimators=100; total time=   0.3s\n",
      "[CV] END ....learning_rate=0.1, max_depth=5, n_estimators=50; total time=   0.2s\n",
      "[CV] END ....learning_rate=0.1, max_depth=5, n_estimators=50; total time=   0.2s\n",
      "[CV] END ....learning_rate=0.1, max_depth=5, n_estimators=50; total time=   0.2s\n",
      "[CV] END ....learning_rate=0.1, max_depth=5, n_estimators=50; total time=   0.2s\n",
      "[CV] END ....learning_rate=0.1, max_depth=5, n_estimators=50; total time=   0.2s\n",
      "[CV] END ...learning_rate=0.1, max_depth=5, n_estimators=100; total time=   0.5s\n",
      "[CV] END ...learning_rate=0.1, max_depth=5, n_estimators=100; total time=   0.4s\n",
      "[CV] END ...learning_rate=0.1, max_depth=5, n_estimators=100; total time=   0.4s\n",
      "[CV] END ...learning_rate=0.1, max_depth=5, n_estimators=100; total time=   0.4s\n",
      "[CV] END ...learning_rate=0.1, max_depth=5, n_estimators=100; total time=   0.4s\n",
      "Best hyperparameters for Decision Tree: {'max_depth': 10, 'min_samples_split': 10}\n",
      "Best hyperparameters for Random Forest: {'max_depth': 20, 'min_samples_split': 2, 'n_estimators': 200}\n",
      "Best hyperparameters for Gradient Boosting: {'learning_rate': 0.1, 'max_depth': 3, 'n_estimators': 100}\n",
      "Best hyperparameters for XGBoost: {'learning_rate': 0.1, 'max_depth': 5, 'n_estimators': 100}\n"
     ]
    }
   ],
   "source": [
    "from sklearn.model_selection import GridSearchCV\n",
    "\n",
    " # Define a narrower hyperparameter grid for each model\n",
    "param_grid = {\n",
    "     'Decision Tree': {'max_depth': [10, 20, 50],\n",
    "                       'min_samples_split': [2, 5, 10]},\n",
    "     'Random Forest': {'n_estimators': [50, 100, 200],\n",
    "                       'max_depth': [10, 20],\n",
    "                       'min_samples_split': [2, 5]},\n",
    "     'Gradient Boosting': {'n_estimators': [50, 100],\n",
    "                           'learning_rate': [0.05, 0.1],\n",
    "                           'max_depth': [3, 5]},\n",
    "     'XGBoost': {'n_estimators': [50, 100],\n",
    "                 'learning_rate': [0.05, 0.1],\n",
    "                 'max_depth': [3, 5]}\n",
    " }\n",
    "\n",
    " # Perform hyperparameter tuning for each model\n",
    "best_params = {}\n",
    "for model_name, model in models.items():\n",
    "     grid_search = GridSearchCV(estimator=model,\n",
    "                                param_grid=param_grid[model_name],\n",
    "                                scoring='f1',\n",
    "                                cv=5,\n",
    "                                verbose=2)\n",
    "     grid_search.fit(X_train, y_train)\n",
    "     best_params[model_name] = grid_search.best_params_\n",
    "\n",
    " # Print best hyperparameters for each model\n",
    "for model_name, params in best_params.items():\n",
    "     print(f\"Best hyperparameters for {model_name}: {params}\")\n",
    "\n"
   ]
  },
  {
   "cell_type": "markdown",
   "metadata": {
    "id": "sncNxisdu7oG"
   },
   "source": [
    "### Performance post hyperparameter tuning\n",
    "\n",
    "- Best hyperparameters for Decision Tree: {'max_depth': 10, 'min_samples_split': 10}\n",
    "- Best hyperparameters for Random Forest: {'max_depth': 20, 'min_samples_split': 2, 'n_estimators': 200}\n",
    "- Best hyperparameters for Gradient Boosting: {'learning_rate': 0.1, 'max_depth': 3, 'n_estimators': 100}\n",
    "- Best hyperparameters for XGBoost: {'learning_rate': 0.1, 'max_depth': 5, 'n_estimators': 100}\n"
   ]
  },
  {
   "cell_type": "code",
   "execution_count": 159,
   "metadata": {
    "colab": {
     "base_uri": "https://localhost:8080/",
     "height": 236
    },
    "id": "6yhgdojTu7oG",
    "outputId": "5a6961df-1bd8-42bd-9943-69e548b35664"
   },
   "outputs": [
    {
     "name": "stdout",
     "output_type": "stream",
     "text": [
      "Decision Tree:\n",
      "Random Forest:\n",
      "Gradient Boosting:\n",
      "XGBoost:\n"
     ]
    },
    {
     "data": {
      "text/html": [
       "<div>\n",
       "<style scoped>\n",
       "    .dataframe tbody tr th:only-of-type {\n",
       "        vertical-align: middle;\n",
       "    }\n",
       "\n",
       "    .dataframe tbody tr th {\n",
       "        vertical-align: top;\n",
       "    }\n",
       "\n",
       "    .dataframe thead th {\n",
       "        text-align: right;\n",
       "    }\n",
       "</style>\n",
       "<table border=\"1\" class=\"dataframe\">\n",
       "  <thead>\n",
       "    <tr style=\"text-align: right;\">\n",
       "      <th></th>\n",
       "      <th>Model</th>\n",
       "      <th>Accuracy</th>\n",
       "      <th>Precision</th>\n",
       "      <th>Recall</th>\n",
       "      <th>F1 Score</th>\n",
       "      <th>ROC AUC Score</th>\n",
       "    </tr>\n",
       "  </thead>\n",
       "  <tbody>\n",
       "    <tr>\n",
       "      <th>0</th>\n",
       "      <td>DecisionTreeClassifier</td>\n",
       "      <td>0.858586</td>\n",
       "      <td>0.830189</td>\n",
       "      <td>0.897959</td>\n",
       "      <td>0.862745</td>\n",
       "      <td>0.858980</td>\n",
       "    </tr>\n",
       "    <tr>\n",
       "      <th>1</th>\n",
       "      <td>RandomForestClassifier</td>\n",
       "      <td>0.939394</td>\n",
       "      <td>0.957447</td>\n",
       "      <td>0.918367</td>\n",
       "      <td>0.937500</td>\n",
       "      <td>0.939184</td>\n",
       "    </tr>\n",
       "    <tr>\n",
       "      <th>2</th>\n",
       "      <td>GradientBoostingClassifier</td>\n",
       "      <td>0.939394</td>\n",
       "      <td>0.957447</td>\n",
       "      <td>0.918367</td>\n",
       "      <td>0.937500</td>\n",
       "      <td>0.939184</td>\n",
       "    </tr>\n",
       "    <tr>\n",
       "      <th>3</th>\n",
       "      <td>XGBClassifier</td>\n",
       "      <td>0.959596</td>\n",
       "      <td>0.959184</td>\n",
       "      <td>0.959184</td>\n",
       "      <td>0.959184</td>\n",
       "      <td>0.959592</td>\n",
       "    </tr>\n",
       "  </tbody>\n",
       "</table>\n",
       "</div>"
      ],
      "text/plain": [
       "                        Model  Accuracy  Precision    Recall  F1 Score  \\\n",
       "0      DecisionTreeClassifier  0.858586   0.830189  0.897959  0.862745   \n",
       "1      RandomForestClassifier  0.939394   0.957447  0.918367  0.937500   \n",
       "2  GradientBoostingClassifier  0.939394   0.957447  0.918367  0.937500   \n",
       "3               XGBClassifier  0.959596   0.959184  0.959184  0.959184   \n",
       "\n",
       "   ROC AUC Score  \n",
       "0       0.858980  \n",
       "1       0.939184  \n",
       "2       0.939184  \n",
       "3       0.959592  "
      ]
     },
     "execution_count": 159,
     "metadata": {},
     "output_type": "execute_result"
    }
   ],
   "source": [
    "import pandas as pd\n",
    "from sklearn.model_selection import train_test_split\n",
    "from sklearn.metrics import accuracy_score, precision_score, recall_score, f1_score, roc_auc_score\n",
    "from sklearn.tree import DecisionTreeClassifier\n",
    "from sklearn.ensemble import RandomForestClassifier, GradientBoostingClassifier\n",
    "from xgboost import XGBClassifier  # Import XGBoost classifier\n",
    "\n",
    "# Define a function to evaluate a model and return a dictionary of metrics\n",
    "def evaluate_model(model, X_test, y_test):\n",
    "    # Calculate predictions\n",
    "    y_pred = model.predict(X_test)\n",
    "\n",
    "    # Compute metrics\n",
    "    accuracy = accuracy_score(y_test, y_pred)\n",
    "    precision = precision_score(y_test, y_pred)\n",
    "    recall = recall_score(y_test, y_pred)\n",
    "    f1 = f1_score(y_test, y_pred)\n",
    "    roc_auc = roc_auc_score(y_test, y_pred)\n",
    "\n",
    "    # Return metrics as a dictionary\n",
    "    return {\n",
    "        'Model': type(model).__name__,\n",
    "        'Accuracy': accuracy,\n",
    "        'Precision': precision,\n",
    "        'Recall': recall,\n",
    "        'F1 Score': f1,\n",
    "        'ROC AUC Score': roc_auc\n",
    "    }\n",
    "\n",
    "# Split the balanced data into training and testing sets with a test size of 20%\n",
    "X_train, X_test, y_train, y_test = train_test_split(X_res, y_res, test_size=0.2, random_state=42, stratify=y_res)\n",
    "\n",
    "# Define models with best hyperparameters\n",
    "models = {\n",
    "    \"Decision Tree\": DecisionTreeClassifier(max_depth=10, min_samples_split=10),\n",
    "    \"Random Forest\": RandomForestClassifier(max_depth=20, min_samples_split=2, n_estimators=200),\n",
    "    \"Gradient Boosting\": GradientBoostingClassifier(learning_rate=0.1, max_depth=3, n_estimators=100),\n",
    "    \"XGBoost\": XGBClassifier(learning_rate=0.1, max_depth=5, n_estimators=100)\n",
    "}\n",
    "\n",
    "# List to store evaluation results\n",
    "results = []\n",
    "\n",
    "# Model Training and Evaluation\n",
    "for model_name, model in models.items():\n",
    "    print(model_name + \":\")\n",
    "    model.fit(X_train, y_train)  # Assuming X_train, y_train are defined\n",
    "    metrics = evaluate_model(model, X_test, y_test)  # Assuming X_test, y_test are defined\n",
    "    results.append(metrics)\n",
    "\n",
    "# Create a DataFrame from the results\n",
    "df_results = pd.DataFrame(results)\n",
    "\n",
    "# Display the DataFrame\n",
    "df_results\n"
   ]
  },
  {
   "cell_type": "markdown",
   "metadata": {
    "id": "Wi1f8PJWu7oG"
   },
   "source": [
    "### Conclusion:\n"
   ]
  },
  {
   "cell_type": "code",
   "execution_count": 162,
   "metadata": {
    "colab": {
     "base_uri": "https://localhost:8080/",
     "height": 237
    },
    "id": "qftLQXhKu7oG",
    "outputId": "ada2b7d0-378a-40f7-990b-da092b95ebf8"
   },
   "outputs": [
    {
     "data": {
      "text/html": [
       "<style>#sk-container-id-1 {\n",
       "  /* Definition of color scheme common for light and dark mode */\n",
       "  --sklearn-color-text: black;\n",
       "  --sklearn-color-line: gray;\n",
       "  /* Definition of color scheme for unfitted estimators */\n",
       "  --sklearn-color-unfitted-level-0: #fff5e6;\n",
       "  --sklearn-color-unfitted-level-1: #f6e4d2;\n",
       "  --sklearn-color-unfitted-level-2: #ffe0b3;\n",
       "  --sklearn-color-unfitted-level-3: chocolate;\n",
       "  /* Definition of color scheme for fitted estimators */\n",
       "  --sklearn-color-fitted-level-0: #f0f8ff;\n",
       "  --sklearn-color-fitted-level-1: #d4ebff;\n",
       "  --sklearn-color-fitted-level-2: #b3dbfd;\n",
       "  --sklearn-color-fitted-level-3: cornflowerblue;\n",
       "\n",
       "  /* Specific color for light theme */\n",
       "  --sklearn-color-text-on-default-background: var(--sg-text-color, var(--theme-code-foreground, var(--jp-content-font-color1, black)));\n",
       "  --sklearn-color-background: var(--sg-background-color, var(--theme-background, var(--jp-layout-color0, white)));\n",
       "  --sklearn-color-border-box: var(--sg-text-color, var(--theme-code-foreground, var(--jp-content-font-color1, black)));\n",
       "  --sklearn-color-icon: #696969;\n",
       "\n",
       "  @media (prefers-color-scheme: dark) {\n",
       "    /* Redefinition of color scheme for dark theme */\n",
       "    --sklearn-color-text-on-default-background: var(--sg-text-color, var(--theme-code-foreground, var(--jp-content-font-color1, white)));\n",
       "    --sklearn-color-background: var(--sg-background-color, var(--theme-background, var(--jp-layout-color0, #111)));\n",
       "    --sklearn-color-border-box: var(--sg-text-color, var(--theme-code-foreground, var(--jp-content-font-color1, white)));\n",
       "    --sklearn-color-icon: #878787;\n",
       "  }\n",
       "}\n",
       "\n",
       "#sk-container-id-1 {\n",
       "  color: var(--sklearn-color-text);\n",
       "}\n",
       "\n",
       "#sk-container-id-1 pre {\n",
       "  padding: 0;\n",
       "}\n",
       "\n",
       "#sk-container-id-1 input.sk-hidden--visually {\n",
       "  border: 0;\n",
       "  clip: rect(1px 1px 1px 1px);\n",
       "  clip: rect(1px, 1px, 1px, 1px);\n",
       "  height: 1px;\n",
       "  margin: -1px;\n",
       "  overflow: hidden;\n",
       "  padding: 0;\n",
       "  position: absolute;\n",
       "  width: 1px;\n",
       "}\n",
       "\n",
       "#sk-container-id-1 div.sk-dashed-wrapped {\n",
       "  border: 1px dashed var(--sklearn-color-line);\n",
       "  margin: 0 0.4em 0.5em 0.4em;\n",
       "  box-sizing: border-box;\n",
       "  padding-bottom: 0.4em;\n",
       "  background-color: var(--sklearn-color-background);\n",
       "}\n",
       "\n",
       "#sk-container-id-1 div.sk-container {\n",
       "  /* jupyter's `normalize.less` sets `[hidden] { display: none; }`\n",
       "     but bootstrap.min.css set `[hidden] { display: none !important; }`\n",
       "     so we also need the `!important` here to be able to override the\n",
       "     default hidden behavior on the sphinx rendered scikit-learn.org.\n",
       "     See: https://github.com/scikit-learn/scikit-learn/issues/21755 */\n",
       "  display: inline-block !important;\n",
       "  position: relative;\n",
       "}\n",
       "\n",
       "#sk-container-id-1 div.sk-text-repr-fallback {\n",
       "  display: none;\n",
       "}\n",
       "\n",
       "div.sk-parallel-item,\n",
       "div.sk-serial,\n",
       "div.sk-item {\n",
       "  /* draw centered vertical line to link estimators */\n",
       "  background-image: linear-gradient(var(--sklearn-color-text-on-default-background), var(--sklearn-color-text-on-default-background));\n",
       "  background-size: 2px 100%;\n",
       "  background-repeat: no-repeat;\n",
       "  background-position: center center;\n",
       "}\n",
       "\n",
       "/* Parallel-specific style estimator block */\n",
       "\n",
       "#sk-container-id-1 div.sk-parallel-item::after {\n",
       "  content: \"\";\n",
       "  width: 100%;\n",
       "  border-bottom: 2px solid var(--sklearn-color-text-on-default-background);\n",
       "  flex-grow: 1;\n",
       "}\n",
       "\n",
       "#sk-container-id-1 div.sk-parallel {\n",
       "  display: flex;\n",
       "  align-items: stretch;\n",
       "  justify-content: center;\n",
       "  background-color: var(--sklearn-color-background);\n",
       "  position: relative;\n",
       "}\n",
       "\n",
       "#sk-container-id-1 div.sk-parallel-item {\n",
       "  display: flex;\n",
       "  flex-direction: column;\n",
       "}\n",
       "\n",
       "#sk-container-id-1 div.sk-parallel-item:first-child::after {\n",
       "  align-self: flex-end;\n",
       "  width: 50%;\n",
       "}\n",
       "\n",
       "#sk-container-id-1 div.sk-parallel-item:last-child::after {\n",
       "  align-self: flex-start;\n",
       "  width: 50%;\n",
       "}\n",
       "\n",
       "#sk-container-id-1 div.sk-parallel-item:only-child::after {\n",
       "  width: 0;\n",
       "}\n",
       "\n",
       "/* Serial-specific style estimator block */\n",
       "\n",
       "#sk-container-id-1 div.sk-serial {\n",
       "  display: flex;\n",
       "  flex-direction: column;\n",
       "  align-items: center;\n",
       "  background-color: var(--sklearn-color-background);\n",
       "  padding-right: 1em;\n",
       "  padding-left: 1em;\n",
       "}\n",
       "\n",
       "\n",
       "/* Toggleable style: style used for estimator/Pipeline/ColumnTransformer box that is\n",
       "clickable and can be expanded/collapsed.\n",
       "- Pipeline and ColumnTransformer use this feature and define the default style\n",
       "- Estimators will overwrite some part of the style using the `sk-estimator` class\n",
       "*/\n",
       "\n",
       "/* Pipeline and ColumnTransformer style (default) */\n",
       "\n",
       "#sk-container-id-1 div.sk-toggleable {\n",
       "  /* Default theme specific background. It is overwritten whether we have a\n",
       "  specific estimator or a Pipeline/ColumnTransformer */\n",
       "  background-color: var(--sklearn-color-background);\n",
       "}\n",
       "\n",
       "/* Toggleable label */\n",
       "#sk-container-id-1 label.sk-toggleable__label {\n",
       "  cursor: pointer;\n",
       "  display: block;\n",
       "  width: 100%;\n",
       "  margin-bottom: 0;\n",
       "  padding: 0.5em;\n",
       "  box-sizing: border-box;\n",
       "  text-align: center;\n",
       "}\n",
       "\n",
       "#sk-container-id-1 label.sk-toggleable__label-arrow:before {\n",
       "  /* Arrow on the left of the label */\n",
       "  content: \"▸\";\n",
       "  float: left;\n",
       "  margin-right: 0.25em;\n",
       "  color: var(--sklearn-color-icon);\n",
       "}\n",
       "\n",
       "#sk-container-id-1 label.sk-toggleable__label-arrow:hover:before {\n",
       "  color: var(--sklearn-color-text);\n",
       "}\n",
       "\n",
       "/* Toggleable content - dropdown */\n",
       "\n",
       "#sk-container-id-1 div.sk-toggleable__content {\n",
       "  max-height: 0;\n",
       "  max-width: 0;\n",
       "  overflow: hidden;\n",
       "  text-align: left;\n",
       "  /* unfitted */\n",
       "  background-color: var(--sklearn-color-unfitted-level-0);\n",
       "}\n",
       "\n",
       "#sk-container-id-1 div.sk-toggleable__content.fitted {\n",
       "  /* fitted */\n",
       "  background-color: var(--sklearn-color-fitted-level-0);\n",
       "}\n",
       "\n",
       "#sk-container-id-1 div.sk-toggleable__content pre {\n",
       "  margin: 0.2em;\n",
       "  border-radius: 0.25em;\n",
       "  color: var(--sklearn-color-text);\n",
       "  /* unfitted */\n",
       "  background-color: var(--sklearn-color-unfitted-level-0);\n",
       "}\n",
       "\n",
       "#sk-container-id-1 div.sk-toggleable__content.fitted pre {\n",
       "  /* unfitted */\n",
       "  background-color: var(--sklearn-color-fitted-level-0);\n",
       "}\n",
       "\n",
       "#sk-container-id-1 input.sk-toggleable__control:checked~div.sk-toggleable__content {\n",
       "  /* Expand drop-down */\n",
       "  max-height: 200px;\n",
       "  max-width: 100%;\n",
       "  overflow: auto;\n",
       "}\n",
       "\n",
       "#sk-container-id-1 input.sk-toggleable__control:checked~label.sk-toggleable__label-arrow:before {\n",
       "  content: \"▾\";\n",
       "}\n",
       "\n",
       "/* Pipeline/ColumnTransformer-specific style */\n",
       "\n",
       "#sk-container-id-1 div.sk-label input.sk-toggleable__control:checked~label.sk-toggleable__label {\n",
       "  color: var(--sklearn-color-text);\n",
       "  background-color: var(--sklearn-color-unfitted-level-2);\n",
       "}\n",
       "\n",
       "#sk-container-id-1 div.sk-label.fitted input.sk-toggleable__control:checked~label.sk-toggleable__label {\n",
       "  background-color: var(--sklearn-color-fitted-level-2);\n",
       "}\n",
       "\n",
       "/* Estimator-specific style */\n",
       "\n",
       "/* Colorize estimator box */\n",
       "#sk-container-id-1 div.sk-estimator input.sk-toggleable__control:checked~label.sk-toggleable__label {\n",
       "  /* unfitted */\n",
       "  background-color: var(--sklearn-color-unfitted-level-2);\n",
       "}\n",
       "\n",
       "#sk-container-id-1 div.sk-estimator.fitted input.sk-toggleable__control:checked~label.sk-toggleable__label {\n",
       "  /* fitted */\n",
       "  background-color: var(--sklearn-color-fitted-level-2);\n",
       "}\n",
       "\n",
       "#sk-container-id-1 div.sk-label label.sk-toggleable__label,\n",
       "#sk-container-id-1 div.sk-label label {\n",
       "  /* The background is the default theme color */\n",
       "  color: var(--sklearn-color-text-on-default-background);\n",
       "}\n",
       "\n",
       "/* On hover, darken the color of the background */\n",
       "#sk-container-id-1 div.sk-label:hover label.sk-toggleable__label {\n",
       "  color: var(--sklearn-color-text);\n",
       "  background-color: var(--sklearn-color-unfitted-level-2);\n",
       "}\n",
       "\n",
       "/* Label box, darken color on hover, fitted */\n",
       "#sk-container-id-1 div.sk-label.fitted:hover label.sk-toggleable__label.fitted {\n",
       "  color: var(--sklearn-color-text);\n",
       "  background-color: var(--sklearn-color-fitted-level-2);\n",
       "}\n",
       "\n",
       "/* Estimator label */\n",
       "\n",
       "#sk-container-id-1 div.sk-label label {\n",
       "  font-family: monospace;\n",
       "  font-weight: bold;\n",
       "  display: inline-block;\n",
       "  line-height: 1.2em;\n",
       "}\n",
       "\n",
       "#sk-container-id-1 div.sk-label-container {\n",
       "  text-align: center;\n",
       "}\n",
       "\n",
       "/* Estimator-specific */\n",
       "#sk-container-id-1 div.sk-estimator {\n",
       "  font-family: monospace;\n",
       "  border: 1px dotted var(--sklearn-color-border-box);\n",
       "  border-radius: 0.25em;\n",
       "  box-sizing: border-box;\n",
       "  margin-bottom: 0.5em;\n",
       "  /* unfitted */\n",
       "  background-color: var(--sklearn-color-unfitted-level-0);\n",
       "}\n",
       "\n",
       "#sk-container-id-1 div.sk-estimator.fitted {\n",
       "  /* fitted */\n",
       "  background-color: var(--sklearn-color-fitted-level-0);\n",
       "}\n",
       "\n",
       "/* on hover */\n",
       "#sk-container-id-1 div.sk-estimator:hover {\n",
       "  /* unfitted */\n",
       "  background-color: var(--sklearn-color-unfitted-level-2);\n",
       "}\n",
       "\n",
       "#sk-container-id-1 div.sk-estimator.fitted:hover {\n",
       "  /* fitted */\n",
       "  background-color: var(--sklearn-color-fitted-level-2);\n",
       "}\n",
       "\n",
       "/* Specification for estimator info (e.g. \"i\" and \"?\") */\n",
       "\n",
       "/* Common style for \"i\" and \"?\" */\n",
       "\n",
       ".sk-estimator-doc-link,\n",
       "a:link.sk-estimator-doc-link,\n",
       "a:visited.sk-estimator-doc-link {\n",
       "  float: right;\n",
       "  font-size: smaller;\n",
       "  line-height: 1em;\n",
       "  font-family: monospace;\n",
       "  background-color: var(--sklearn-color-background);\n",
       "  border-radius: 1em;\n",
       "  height: 1em;\n",
       "  width: 1em;\n",
       "  text-decoration: none !important;\n",
       "  margin-left: 1ex;\n",
       "  /* unfitted */\n",
       "  border: var(--sklearn-color-unfitted-level-1) 1pt solid;\n",
       "  color: var(--sklearn-color-unfitted-level-1);\n",
       "}\n",
       "\n",
       ".sk-estimator-doc-link.fitted,\n",
       "a:link.sk-estimator-doc-link.fitted,\n",
       "a:visited.sk-estimator-doc-link.fitted {\n",
       "  /* fitted */\n",
       "  border: var(--sklearn-color-fitted-level-1) 1pt solid;\n",
       "  color: var(--sklearn-color-fitted-level-1);\n",
       "}\n",
       "\n",
       "/* On hover */\n",
       "div.sk-estimator:hover .sk-estimator-doc-link:hover,\n",
       ".sk-estimator-doc-link:hover,\n",
       "div.sk-label-container:hover .sk-estimator-doc-link:hover,\n",
       ".sk-estimator-doc-link:hover {\n",
       "  /* unfitted */\n",
       "  background-color: var(--sklearn-color-unfitted-level-3);\n",
       "  color: var(--sklearn-color-background);\n",
       "  text-decoration: none;\n",
       "}\n",
       "\n",
       "div.sk-estimator.fitted:hover .sk-estimator-doc-link.fitted:hover,\n",
       ".sk-estimator-doc-link.fitted:hover,\n",
       "div.sk-label-container:hover .sk-estimator-doc-link.fitted:hover,\n",
       ".sk-estimator-doc-link.fitted:hover {\n",
       "  /* fitted */\n",
       "  background-color: var(--sklearn-color-fitted-level-3);\n",
       "  color: var(--sklearn-color-background);\n",
       "  text-decoration: none;\n",
       "}\n",
       "\n",
       "/* Span, style for the box shown on hovering the info icon */\n",
       ".sk-estimator-doc-link span {\n",
       "  display: none;\n",
       "  z-index: 9999;\n",
       "  position: relative;\n",
       "  font-weight: normal;\n",
       "  right: .2ex;\n",
       "  padding: .5ex;\n",
       "  margin: .5ex;\n",
       "  width: min-content;\n",
       "  min-width: 20ex;\n",
       "  max-width: 50ex;\n",
       "  color: var(--sklearn-color-text);\n",
       "  box-shadow: 2pt 2pt 4pt #999;\n",
       "  /* unfitted */\n",
       "  background: var(--sklearn-color-unfitted-level-0);\n",
       "  border: .5pt solid var(--sklearn-color-unfitted-level-3);\n",
       "}\n",
       "\n",
       ".sk-estimator-doc-link.fitted span {\n",
       "  /* fitted */\n",
       "  background: var(--sklearn-color-fitted-level-0);\n",
       "  border: var(--sklearn-color-fitted-level-3);\n",
       "}\n",
       "\n",
       ".sk-estimator-doc-link:hover span {\n",
       "  display: block;\n",
       "}\n",
       "\n",
       "/* \"?\"-specific style due to the `<a>` HTML tag */\n",
       "\n",
       "#sk-container-id-1 a.estimator_doc_link {\n",
       "  float: right;\n",
       "  font-size: 1rem;\n",
       "  line-height: 1em;\n",
       "  font-family: monospace;\n",
       "  background-color: var(--sklearn-color-background);\n",
       "  border-radius: 1rem;\n",
       "  height: 1rem;\n",
       "  width: 1rem;\n",
       "  text-decoration: none;\n",
       "  /* unfitted */\n",
       "  color: var(--sklearn-color-unfitted-level-1);\n",
       "  border: var(--sklearn-color-unfitted-level-1) 1pt solid;\n",
       "}\n",
       "\n",
       "#sk-container-id-1 a.estimator_doc_link.fitted {\n",
       "  /* fitted */\n",
       "  border: var(--sklearn-color-fitted-level-1) 1pt solid;\n",
       "  color: var(--sklearn-color-fitted-level-1);\n",
       "}\n",
       "\n",
       "/* On hover */\n",
       "#sk-container-id-1 a.estimator_doc_link:hover {\n",
       "  /* unfitted */\n",
       "  background-color: var(--sklearn-color-unfitted-level-3);\n",
       "  color: var(--sklearn-color-background);\n",
       "  text-decoration: none;\n",
       "}\n",
       "\n",
       "#sk-container-id-1 a.estimator_doc_link.fitted:hover {\n",
       "  /* fitted */\n",
       "  background-color: var(--sklearn-color-fitted-level-3);\n",
       "}\n",
       "</style><div id=\"sk-container-id-1\" class=\"sk-top-container\"><div class=\"sk-text-repr-fallback\"><pre>XGBClassifier(base_score=None, booster=None, callbacks=None,\n",
       "              colsample_bylevel=None, colsample_bynode=None,\n",
       "              colsample_bytree=None, device=None, early_stopping_rounds=None,\n",
       "              enable_categorical=False, eval_metric=None, feature_types=None,\n",
       "              feature_weights=None, gamma=None, grow_policy=None,\n",
       "              importance_type=None, interaction_constraints=None,\n",
       "              learning_rate=0.1, max_bin=None, max_cat_threshold=None,\n",
       "              max_cat_to_onehot=None, max_delta_step=None, max_depth=5,\n",
       "              max_leaves=None, min_child_weight=None, missing=nan,\n",
       "              monotone_constraints=None, multi_strategy=None, n_estimators=100,\n",
       "              n_jobs=None, num_parallel_tree=None, ...)</pre><b>In a Jupyter environment, please rerun this cell to show the HTML representation or trust the notebook. <br />On GitHub, the HTML representation is unable to render, please try loading this page with nbviewer.org.</b></div><div class=\"sk-container\" hidden><div class=\"sk-item\"><div class=\"sk-estimator fitted sk-toggleable\"><input class=\"sk-toggleable__control sk-hidden--visually\" id=\"sk-estimator-id-1\" type=\"checkbox\" checked><label for=\"sk-estimator-id-1\" class=\"sk-toggleable__label fitted sk-toggleable__label-arrow fitted\">&nbsp;&nbsp;XGBClassifier<a class=\"sk-estimator-doc-link fitted\" rel=\"noreferrer\" target=\"_blank\" href=\"https://xgboost.readthedocs.io/en/release_3.0.0/python/python_api.html#xgboost.XGBClassifier\">?<span>Documentation for XGBClassifier</span></a><span class=\"sk-estimator-doc-link fitted\">i<span>Fitted</span></span></label><div class=\"sk-toggleable__content fitted\"><pre>XGBClassifier(base_score=None, booster=None, callbacks=None,\n",
       "              colsample_bylevel=None, colsample_bynode=None,\n",
       "              colsample_bytree=None, device=None, early_stopping_rounds=None,\n",
       "              enable_categorical=False, eval_metric=None, feature_types=None,\n",
       "              feature_weights=None, gamma=None, grow_policy=None,\n",
       "              importance_type=None, interaction_constraints=None,\n",
       "              learning_rate=0.1, max_bin=None, max_cat_threshold=None,\n",
       "              max_cat_to_onehot=None, max_delta_step=None, max_depth=5,\n",
       "              max_leaves=None, min_child_weight=None, missing=nan,\n",
       "              monotone_constraints=None, multi_strategy=None, n_estimators=100,\n",
       "              n_jobs=None, num_parallel_tree=None, ...)</pre></div> </div></div></div></div>"
      ],
      "text/plain": [
       "XGBClassifier(base_score=None, booster=None, callbacks=None,\n",
       "              colsample_bylevel=None, colsample_bynode=None,\n",
       "              colsample_bytree=None, device=None, early_stopping_rounds=None,\n",
       "              enable_categorical=False, eval_metric=None, feature_types=None,\n",
       "              feature_weights=None, gamma=None, grow_policy=None,\n",
       "              importance_type=None, interaction_constraints=None,\n",
       "              learning_rate=0.1, max_bin=None, max_cat_threshold=None,\n",
       "              max_cat_to_onehot=None, max_delta_step=None, max_depth=5,\n",
       "              max_leaves=None, min_child_weight=None, missing=nan,\n",
       "              monotone_constraints=None, multi_strategy=None, n_estimators=100,\n",
       "              n_jobs=None, num_parallel_tree=None, ...)"
      ]
     },
     "execution_count": 162,
     "metadata": {},
     "output_type": "execute_result"
    }
   ],
   "source": [
    "# Import XGBClassifier from xgboost\n",
    "from xgboost import XGBClassifier\n",
    "\n",
    "# Initialize and train the XGBoost classifier on the entire dataset\n",
    "XGBoost_model = XGBClassifier(learning_rate=0.1, max_depth=5, n_estimators=100)\n",
    "XGBoost_model.fit(X_res, y_res)"
   ]
  },
  {
   "cell_type": "code",
   "execution_count": 170,
   "metadata": {
    "id": "Fptk1C7zu7oG"
   },
   "outputs": [],
   "source": [
    "import pickle\n",
    "\n",
    "# File path for saving the pickle file\n",
    "pickle_file_path = \"UPI Fraud Detection.pkl\"\n",
    "\n",
    "# Save the trained XGBoost model to a pickle file\n",
    "with open(pickle_file_path, 'wb') as file:\n",
    "    pickle.dump(XGBoost_model, file)\n"
   ]
  },
  {
   "cell_type": "markdown",
   "metadata": {
    "id": "2tA4luvpu7oH"
   },
   "source": [
    "## Project Conclusion\n",
    "\n",
    "Throughout this project, we evaluated the performance of four distinct machine learning models for fraud detection in financial transactions: Decision Tree, Random Forest, Gradient Boosting, and XGBoost.\n",
    "\n",
    "After a comprehensive analysis, it is evident that the XGBoost model outperforms the other models in terms of accuracy, precision, recall, F1-score, and ROC AUC score. Despite the rigorous hyperparameter tuning performed on all models, XGBoost consistently demonstrated superior predictive capabilities, making it the most suitable choice for detecting fraudulent transactions in this context.\n",
    "\n",
    "By saving the trained XGBoost model as a pickle file, we ensure its accessibility and deployment for real-time fraud detection tasks. This model can serve as a valuable tool in financial institutions, enabling them to proactively identify and prevent fraudulent activities, thereby safeguarding both businesses and customers from potential financial losses."
   ]
  },
  {
   "cell_type": "markdown",
   "metadata": {
    "id": "n3aq8Efyu7oH"
   },
   "source": [
    "### Recommendations to the business for fraud detection and prevention\n",
    "\n",
    "1. **Enhance Transaction Monitoring**: Implement real-time transaction monitoring systems to promptly identify and flag suspicious activities, leveraging insights from transaction types, amounts, and frequency patterns identified during exploratory data analysis.\n",
    "\n",
    "2. **Platform-specific Security Measures**: Collaborate with platform providers such as ICICI, HDFC, and GooglePay to strengthen security measures, including multi-factor authentication, transaction verification, and fraud detection algorithms tailored to platform-specific vulnerabilities.\n",
    "\n",
    "3. **Merchant Category Vigilance**: Introduce targeted fraud detection measures for high-risk merchant categories like home delivery services, travel bookings, and utility payments, including enhanced transaction verification and risk-based authentication protocols.\n",
    "\n",
    "4. **Focus on Moderate Transaction Values**: Allocate resources to monitor transactions within the moderate value range of 250 to 750 units, where fraudulent activities are more prevalent, to improve detection rates and minimize losses.\n",
    "\n",
    "5. **Geographic-based Risk Assessment**: Develop regional risk profiles based on geographic patterns identified, focusing resources and fraud prevention initiatives in states such as Himachal Pradesh, Rajasthan, Meghalaya, and Bihar to mitigate localized fraud risks.\n",
    "\n",
    "6. **Operating System Security**: Collaborate with Android OS developers to address security vulnerabilities and enhance fraud prevention measures, ensuring robust security protocols for Android-based UPI applications and platforms.\n",
    "\n",
    "7. **Continuous Monitoring and Adaptation**: Establish mechanisms for continuous monitoring and adaptation of fraud detection strategies, leveraging machine learning algorithms and advanced analytics to detect evolving fraud patterns and tactics.\n",
    "\n",
    "8. **Regular Security Audits**: Conduct regular security audits and risk assessments to identify and address potential vulnerabilities, ensuring compliance with industry standards and regulations for secure UPI transactions.\n",
    "\n",
    "9. **User Awareness and Education**: Educate users about common fraud schemes, phishing attacks, and security best practices to empower them to recognize and report suspicious activities, fostering a collaborative approach to fraud prevention.\n",
    "\n",
    "10. **Collaboration and Information Sharing**: Foster collaboration and information sharing among industry stakeholders, financial institutions, law enforcement agencies, and regulatory bodies to combat fraud collectively and effectively.\n",
    "\n",
    "By implementing these recommendations, businesses can strengthen their UPI fraud detection and prevention strategies, mitigate risks, safeguard customer assets, and uphold trust and integrity in digital payment ecosystems."
   ]
  }
 ],
 "metadata": {
  "accelerator": "GPU",
  "colab": {
   "gpuType": "T4",
   "provenance": []
  },
  "kernelspec": {
   "display_name": "Python 3 (ipykernel)",
   "language": "python",
   "name": "python3"
  },
  "language_info": {
   "codemirror_mode": {
    "name": "ipython",
    "version": 3
   },
   "file_extension": ".py",
   "mimetype": "text/x-python",
   "name": "python",
   "nbconvert_exporter": "python",
   "pygments_lexer": "ipython3",
   "version": "3.12.4"
  }
 },
 "nbformat": 4,
 "nbformat_minor": 4
}
